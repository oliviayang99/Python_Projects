{
 "cells": [
  {
   "cell_type": "code",
   "execution_count": 329,
   "metadata": {},
   "outputs": [],
   "source": [
    "import numpy as np\n",
    "import pandas as pd\n",
    "import matplotlib.pyplot as plt\n",
    "import matplotlib.dates as mdates\n",
    "import seaborn as sns\n",
    "%matplotlib inline\n",
    "from matplotlib import font_manager, rc\n",
    "font_name = font_manager.FontProperties(fname=\"c:/Windows/Fonts/malgun.ttf\").get_name()\n",
    "rc('font', family=font_name)"
   ]
  },
  {
   "cell_type": "code",
   "execution_count": 330,
   "metadata": {},
   "outputs": [
    {
     "data": {
      "text/html": [
       "<div>\n",
       "<style scoped>\n",
       "    .dataframe tbody tr th:only-of-type {\n",
       "        vertical-align: middle;\n",
       "    }\n",
       "\n",
       "    .dataframe tbody tr th {\n",
       "        vertical-align: top;\n",
       "    }\n",
       "\n",
       "    .dataframe thead th {\n",
       "        text-align: right;\n",
       "    }\n",
       "</style>\n",
       "<table border=\"1\" class=\"dataframe\">\n",
       "  <thead>\n",
       "    <tr style=\"text-align: right;\">\n",
       "      <th></th>\n",
       "      <th>REG_YYMM</th>\n",
       "      <th>CARD_SIDO_NM</th>\n",
       "      <th>CARD_CCG_NM</th>\n",
       "      <th>STD_CLSS_NM</th>\n",
       "      <th>HOM_SIDO_NM</th>\n",
       "      <th>HOM_CCG_NM</th>\n",
       "      <th>AGE</th>\n",
       "      <th>SEX_CTGO_CD</th>\n",
       "      <th>FLC</th>\n",
       "      <th>CSTMR_CNT</th>\n",
       "      <th>AMT</th>\n",
       "      <th>CNT</th>\n",
       "    </tr>\n",
       "  </thead>\n",
       "  <tbody>\n",
       "    <tr>\n",
       "      <th>0</th>\n",
       "      <td>201901</td>\n",
       "      <td>제주</td>\n",
       "      <td>서귀포시</td>\n",
       "      <td>건강보조식품 소매업</td>\n",
       "      <td>부산</td>\n",
       "      <td>사하구</td>\n",
       "      <td>50s</td>\n",
       "      <td>2</td>\n",
       "      <td>4</td>\n",
       "      <td>4</td>\n",
       "      <td>1900000</td>\n",
       "      <td>4</td>\n",
       "    </tr>\n",
       "    <tr>\n",
       "      <th>1</th>\n",
       "      <td>201901</td>\n",
       "      <td>제주</td>\n",
       "      <td>서귀포시</td>\n",
       "      <td>건강보조식품 소매업</td>\n",
       "      <td>인천</td>\n",
       "      <td>서구</td>\n",
       "      <td>50s</td>\n",
       "      <td>2</td>\n",
       "      <td>4</td>\n",
       "      <td>3</td>\n",
       "      <td>1300000</td>\n",
       "      <td>2</td>\n",
       "    </tr>\n",
       "    <tr>\n",
       "      <th>2</th>\n",
       "      <td>201901</td>\n",
       "      <td>제주</td>\n",
       "      <td>서귀포시</td>\n",
       "      <td>건강보조식품 소매업</td>\n",
       "      <td>제주</td>\n",
       "      <td>서귀포시</td>\n",
       "      <td>30s</td>\n",
       "      <td>1</td>\n",
       "      <td>2</td>\n",
       "      <td>3</td>\n",
       "      <td>438000</td>\n",
       "      <td>3</td>\n",
       "    </tr>\n",
       "    <tr>\n",
       "      <th>3</th>\n",
       "      <td>201901</td>\n",
       "      <td>제주</td>\n",
       "      <td>서귀포시</td>\n",
       "      <td>건강보조식품 소매업</td>\n",
       "      <td>제주</td>\n",
       "      <td>서귀포시</td>\n",
       "      <td>30s</td>\n",
       "      <td>2</td>\n",
       "      <td>2</td>\n",
       "      <td>4</td>\n",
       "      <td>552200</td>\n",
       "      <td>3</td>\n",
       "    </tr>\n",
       "    <tr>\n",
       "      <th>4</th>\n",
       "      <td>201901</td>\n",
       "      <td>제주</td>\n",
       "      <td>서귀포시</td>\n",
       "      <td>건강보조식품 소매업</td>\n",
       "      <td>제주</td>\n",
       "      <td>서귀포시</td>\n",
       "      <td>40s</td>\n",
       "      <td>1</td>\n",
       "      <td>2</td>\n",
       "      <td>3</td>\n",
       "      <td>908000</td>\n",
       "      <td>3</td>\n",
       "    </tr>\n",
       "    <tr>\n",
       "      <th>...</th>\n",
       "      <td>...</td>\n",
       "      <td>...</td>\n",
       "      <td>...</td>\n",
       "      <td>...</td>\n",
       "      <td>...</td>\n",
       "      <td>...</td>\n",
       "      <td>...</td>\n",
       "      <td>...</td>\n",
       "      <td>...</td>\n",
       "      <td>...</td>\n",
       "      <td>...</td>\n",
       "      <td>...</td>\n",
       "    </tr>\n",
       "    <tr>\n",
       "      <th>497498</th>\n",
       "      <td>202003</td>\n",
       "      <td>제주</td>\n",
       "      <td>제주시</td>\n",
       "      <td>휴양콘도 운영업</td>\n",
       "      <td>서울</td>\n",
       "      <td>노원구</td>\n",
       "      <td>50s</td>\n",
       "      <td>1</td>\n",
       "      <td>4</td>\n",
       "      <td>3</td>\n",
       "      <td>79500</td>\n",
       "      <td>3</td>\n",
       "    </tr>\n",
       "    <tr>\n",
       "      <th>497499</th>\n",
       "      <td>202003</td>\n",
       "      <td>제주</td>\n",
       "      <td>제주시</td>\n",
       "      <td>휴양콘도 운영업</td>\n",
       "      <td>제주</td>\n",
       "      <td>제주시</td>\n",
       "      <td>30s</td>\n",
       "      <td>1</td>\n",
       "      <td>2</td>\n",
       "      <td>4</td>\n",
       "      <td>1656000</td>\n",
       "      <td>5</td>\n",
       "    </tr>\n",
       "    <tr>\n",
       "      <th>497500</th>\n",
       "      <td>202003</td>\n",
       "      <td>제주</td>\n",
       "      <td>제주시</td>\n",
       "      <td>휴양콘도 운영업</td>\n",
       "      <td>제주</td>\n",
       "      <td>제주시</td>\n",
       "      <td>40s</td>\n",
       "      <td>1</td>\n",
       "      <td>3</td>\n",
       "      <td>3</td>\n",
       "      <td>304560</td>\n",
       "      <td>3</td>\n",
       "    </tr>\n",
       "    <tr>\n",
       "      <th>497501</th>\n",
       "      <td>202003</td>\n",
       "      <td>제주</td>\n",
       "      <td>제주시</td>\n",
       "      <td>휴양콘도 운영업</td>\n",
       "      <td>제주</td>\n",
       "      <td>제주시</td>\n",
       "      <td>50s</td>\n",
       "      <td>2</td>\n",
       "      <td>4</td>\n",
       "      <td>4</td>\n",
       "      <td>60000</td>\n",
       "      <td>4</td>\n",
       "    </tr>\n",
       "    <tr>\n",
       "      <th>497502</th>\n",
       "      <td>202003</td>\n",
       "      <td>제주</td>\n",
       "      <td>제주시</td>\n",
       "      <td>휴양콘도 운영업</td>\n",
       "      <td>제주</td>\n",
       "      <td>제주시</td>\n",
       "      <td>70s</td>\n",
       "      <td>2</td>\n",
       "      <td>5</td>\n",
       "      <td>3</td>\n",
       "      <td>657800</td>\n",
       "      <td>6</td>\n",
       "    </tr>\n",
       "  </tbody>\n",
       "</table>\n",
       "<p>497503 rows × 12 columns</p>\n",
       "</div>"
      ],
      "text/plain": [
       "        REG_YYMM CARD_SIDO_NM CARD_CCG_NM STD_CLSS_NM HOM_SIDO_NM HOM_CCG_NM  \\\n",
       "0         201901           제주        서귀포시  건강보조식품 소매업          부산        사하구   \n",
       "1         201901           제주        서귀포시  건강보조식품 소매업          인천         서구   \n",
       "2         201901           제주        서귀포시  건강보조식품 소매업          제주       서귀포시   \n",
       "3         201901           제주        서귀포시  건강보조식품 소매업          제주       서귀포시   \n",
       "4         201901           제주        서귀포시  건강보조식품 소매업          제주       서귀포시   \n",
       "...          ...          ...         ...         ...         ...        ...   \n",
       "497498    202003           제주         제주시    휴양콘도 운영업          서울        노원구   \n",
       "497499    202003           제주         제주시    휴양콘도 운영업          제주        제주시   \n",
       "497500    202003           제주         제주시    휴양콘도 운영업          제주        제주시   \n",
       "497501    202003           제주         제주시    휴양콘도 운영업          제주        제주시   \n",
       "497502    202003           제주         제주시    휴양콘도 운영업          제주        제주시   \n",
       "\n",
       "        AGE  SEX_CTGO_CD  FLC  CSTMR_CNT      AMT  CNT  \n",
       "0       50s            2    4          4  1900000    4  \n",
       "1       50s            2    4          3  1300000    2  \n",
       "2       30s            1    2          3   438000    3  \n",
       "3       30s            2    2          4   552200    3  \n",
       "4       40s            1    2          3   908000    3  \n",
       "...     ...          ...  ...        ...      ...  ...  \n",
       "497498  50s            1    4          3    79500    3  \n",
       "497499  30s            1    2          4  1656000    5  \n",
       "497500  40s            1    3          3   304560    3  \n",
       "497501  50s            2    4          4    60000    4  \n",
       "497502  70s            2    5          3   657800    6  \n",
       "\n",
       "[497503 rows x 12 columns]"
      ]
     },
     "execution_count": 330,
     "metadata": {},
     "output_type": "execute_result"
    }
   ],
   "source": [
    "jeju_data = pd.read_csv(r'C:\\Users\\Liv\\Documents\\Python Scripts\\jeju_data.csv', encoding = 'CP949')\n",
    "jeju_data"
   ]
  },
  {
   "cell_type": "code",
   "execution_count": 306,
   "metadata": {},
   "outputs": [
    {
     "name": "stdout",
     "output_type": "stream",
     "text": [
      "<class 'pandas.core.frame.DataFrame'>\n",
      "RangeIndex: 497503 entries, 0 to 497502\n",
      "Data columns (total 12 columns):\n",
      " #   Column        Non-Null Count   Dtype \n",
      "---  ------        --------------   ----- \n",
      " 0   REG_YYMM      497503 non-null  int64 \n",
      " 1   CARD_SIDO_NM  497503 non-null  object\n",
      " 2   CARD_CCG_NM   497503 non-null  object\n",
      " 3   STD_CLSS_NM   497503 non-null  object\n",
      " 4   HOM_SIDO_NM   497503 non-null  object\n",
      " 5   HOM_CCG_NM    494432 non-null  object\n",
      " 6   AGE           497503 non-null  object\n",
      " 7   SEX_CTGO_CD   497503 non-null  int64 \n",
      " 8   FLC           497503 non-null  int64 \n",
      " 9   CSTMR_CNT     497503 non-null  int64 \n",
      " 10  AMT           497503 non-null  int64 \n",
      " 11  CNT           497503 non-null  int64 \n",
      "dtypes: int64(6), object(6)\n",
      "memory usage: 45.5+ MB\n"
     ]
    }
   ],
   "source": [
    "jeju_data.info()"
   ]
  },
  {
   "cell_type": "code",
   "execution_count": 307,
   "metadata": {},
   "outputs": [
    {
     "data": {
      "text/plain": [
       "REG_YYMM           0\n",
       "CARD_SIDO_NM       0\n",
       "CARD_CCG_NM        0\n",
       "STD_CLSS_NM        0\n",
       "HOM_SIDO_NM        0\n",
       "HOM_CCG_NM      3071\n",
       "AGE                0\n",
       "SEX_CTGO_CD        0\n",
       "FLC                0\n",
       "CSTMR_CNT          0\n",
       "AMT                0\n",
       "CNT                0\n",
       "dtype: int64"
      ]
     },
     "execution_count": 307,
     "metadata": {},
     "output_type": "execute_result"
    }
   ],
   "source": [
    "jeju_data.isnull().sum() # 거주지역(시도)에서 결측치 발견"
   ]
  },
  {
   "cell_type": "code",
   "execution_count": 308,
   "metadata": {},
   "outputs": [
    {
     "data": {
      "text/html": [
       "<div>\n",
       "<style scoped>\n",
       "    .dataframe tbody tr th:only-of-type {\n",
       "        vertical-align: middle;\n",
       "    }\n",
       "\n",
       "    .dataframe tbody tr th {\n",
       "        vertical-align: top;\n",
       "    }\n",
       "\n",
       "    .dataframe thead th {\n",
       "        text-align: right;\n",
       "    }\n",
       "</style>\n",
       "<table border=\"1\" class=\"dataframe\">\n",
       "  <thead>\n",
       "    <tr style=\"text-align: right;\">\n",
       "      <th></th>\n",
       "      <th>REG_YYMM</th>\n",
       "      <th>SEX_CTGO_CD</th>\n",
       "      <th>FLC</th>\n",
       "      <th>CSTMR_CNT</th>\n",
       "      <th>AMT</th>\n",
       "      <th>CNT</th>\n",
       "    </tr>\n",
       "  </thead>\n",
       "  <tbody>\n",
       "    <tr>\n",
       "      <th>count</th>\n",
       "      <td>497503.000000</td>\n",
       "      <td>497503.000000</td>\n",
       "      <td>497503.000000</td>\n",
       "      <td>497503.000000</td>\n",
       "      <td>4.975030e+05</td>\n",
       "      <td>497503.000000</td>\n",
       "    </tr>\n",
       "    <tr>\n",
       "      <th>mean</th>\n",
       "      <td>201920.565661</td>\n",
       "      <td>1.470890</td>\n",
       "      <td>2.711887</td>\n",
       "      <td>49.572770</td>\n",
       "      <td>2.700652e+06</td>\n",
       "      <td>90.790825</td>\n",
       "    </tr>\n",
       "    <tr>\n",
       "      <th>std</th>\n",
       "      <td>33.840883</td>\n",
       "      <td>0.499152</td>\n",
       "      <td>1.296198</td>\n",
       "      <td>501.528665</td>\n",
       "      <td>2.781698e+07</td>\n",
       "      <td>1174.123621</td>\n",
       "    </tr>\n",
       "    <tr>\n",
       "      <th>min</th>\n",
       "      <td>201901.000000</td>\n",
       "      <td>1.000000</td>\n",
       "      <td>1.000000</td>\n",
       "      <td>3.000000</td>\n",
       "      <td>1.000000e+02</td>\n",
       "      <td>1.000000</td>\n",
       "    </tr>\n",
       "    <tr>\n",
       "      <th>25%</th>\n",
       "      <td>201904.000000</td>\n",
       "      <td>1.000000</td>\n",
       "      <td>2.000000</td>\n",
       "      <td>3.000000</td>\n",
       "      <td>1.030000e+05</td>\n",
       "      <td>4.000000</td>\n",
       "    </tr>\n",
       "    <tr>\n",
       "      <th>50%</th>\n",
       "      <td>201908.000000</td>\n",
       "      <td>1.000000</td>\n",
       "      <td>3.000000</td>\n",
       "      <td>6.000000</td>\n",
       "      <td>2.610200e+05</td>\n",
       "      <td>8.000000</td>\n",
       "    </tr>\n",
       "    <tr>\n",
       "      <th>75%</th>\n",
       "      <td>201911.000000</td>\n",
       "      <td>2.000000</td>\n",
       "      <td>4.000000</td>\n",
       "      <td>14.000000</td>\n",
       "      <td>7.914000e+05</td>\n",
       "      <td>20.000000</td>\n",
       "    </tr>\n",
       "    <tr>\n",
       "      <th>max</th>\n",
       "      <td>202003.000000</td>\n",
       "      <td>2.000000</td>\n",
       "      <td>5.000000</td>\n",
       "      <td>32813.000000</td>\n",
       "      <td>2.349524e+09</td>\n",
       "      <td>84947.000000</td>\n",
       "    </tr>\n",
       "  </tbody>\n",
       "</table>\n",
       "</div>"
      ],
      "text/plain": [
       "            REG_YYMM    SEX_CTGO_CD            FLC      CSTMR_CNT  \\\n",
       "count  497503.000000  497503.000000  497503.000000  497503.000000   \n",
       "mean   201920.565661       1.470890       2.711887      49.572770   \n",
       "std        33.840883       0.499152       1.296198     501.528665   \n",
       "min    201901.000000       1.000000       1.000000       3.000000   \n",
       "25%    201904.000000       1.000000       2.000000       3.000000   \n",
       "50%    201908.000000       1.000000       3.000000       6.000000   \n",
       "75%    201911.000000       2.000000       4.000000      14.000000   \n",
       "max    202003.000000       2.000000       5.000000   32813.000000   \n",
       "\n",
       "                AMT            CNT  \n",
       "count  4.975030e+05  497503.000000  \n",
       "mean   2.700652e+06      90.790825  \n",
       "std    2.781698e+07    1174.123621  \n",
       "min    1.000000e+02       1.000000  \n",
       "25%    1.030000e+05       4.000000  \n",
       "50%    2.610200e+05       8.000000  \n",
       "75%    7.914000e+05      20.000000  \n",
       "max    2.349524e+09   84947.000000  "
      ]
     },
     "execution_count": 308,
     "metadata": {},
     "output_type": "execute_result"
    }
   ],
   "source": [
    "jeju_data.describe()"
   ]
  },
  {
   "cell_type": "code",
   "execution_count": 309,
   "metadata": {},
   "outputs": [
    {
     "data": {
      "text/plain": [
       "<matplotlib.axes._subplots.AxesSubplot at 0x237c575a1c8>"
      ]
     },
     "execution_count": 309,
     "metadata": {},
     "output_type": "execute_result"
    },
    {
     "data": {
      "image/png": "[encoded data removed]",
      "text/plain": [
       "<Figure size 720x576 with 2 Axes>"
      ]
     },
     "metadata": {
      "needs_background": "light"
     },
     "output_type": "display_data"
    }
   ],
   "source": [
    "# 숫자형 변수들 간 상관관계 히트맵\n",
    "plt.figure(figsize = (10,8))\n",
    "sns.heatmap(data = jeju_data.corr(), annot = True, fmt = '.2f', linewidths=.5, cmap='Reds')\n",
    "# 이용고객수와 이용건수의 상관관계 매우 높음 (0.96)\n",
    "# 이용고객수와 이용금액의 상관관계 높음 (0.88)\n",
    "# 이용건수와 이용금액의 상관관계도 높은 편 (0.79)"
   ]
  },
  {
   "cell_type": "markdown",
   "metadata": {},
   "source": [
    "### 년월 (REG_YYMM) --- 전처리 불필요"
   ]
  },
  {
   "cell_type": "code",
   "execution_count": 310,
   "metadata": {},
   "outputs": [
    {
     "data": {
      "text/plain": [
       "array([201901, 201902, 201903, 201904, 201905, 201906, 201907, 201908,\n",
       "       201909, 201910, 201911, 201912, 202001, 202002, 202003],\n",
       "      dtype=int64)"
      ]
     },
     "execution_count": 310,
     "metadata": {},
     "output_type": "execute_result"
    }
   ],
   "source": [
    "jeju_data['REG_YYMM'].unique()"
   ]
  },
  {
   "cell_type": "code",
   "execution_count": 311,
   "metadata": {},
   "outputs": [
    {
     "data": {
      "image/png": "[encoded data removed]",
      "text/plain": [
       "<Figure size 720x432 with 1 Axes>"
      ]
     },
     "metadata": {
      "needs_background": "light"
     },
     "output_type": "display_data"
    }
   ],
   "source": [
    "fig, ax = plt.subplots(figsize=(10, 6))\n",
    "ax = sns.countplot(x = 'REG_YYMM', data = jeju_data) # 시간순 정렬"
   ]
  },
  {
   "cell_type": "code",
   "execution_count": 123,
   "metadata": {},
   "outputs": [
    {
     "data": {
      "text/plain": [
       "201908    41758\n",
       "201910    37762\n",
       "201907    36534\n",
       "201905    36505\n",
       "201906    36321\n",
       "201911    35177\n",
       "201904    34718\n",
       "202001    34693\n",
       "201912    34581\n",
       "201901    33776\n",
       "201903    33499\n",
       "201909    32084\n",
       "201902    31718\n",
       "202002    20475\n",
       "202003    17902\n",
       "Name: REG_YYMM, dtype: int64"
      ]
     },
     "execution_count": 123,
     "metadata": {},
     "output_type": "execute_result"
    }
   ],
   "source": [
    "jeju_data['REG_YYMM'].value_counts()"
   ]
  },
  {
   "cell_type": "markdown",
   "metadata": {},
   "source": [
    "### 카드이용지역_시도 (CARD_SIDO_NM) --- 전처리 불필요"
   ]
  },
  {
   "cell_type": "code",
   "execution_count": 312,
   "metadata": {},
   "outputs": [
    {
     "data": {
      "text/plain": [
       "제주    497503\n",
       "Name: CARD_SIDO_NM, dtype: int64"
      ]
     },
     "execution_count": 312,
     "metadata": {},
     "output_type": "execute_result"
    }
   ],
   "source": [
    "jeju_data['CARD_SIDO_NM'].value_counts()"
   ]
  },
  {
   "cell_type": "markdown",
   "metadata": {},
   "source": [
    "### 카드이용지역_시군구 (CARD_CCG_NM) --- 전처리 불필요"
   ]
  },
  {
   "cell_type": "code",
   "execution_count": 313,
   "metadata": {},
   "outputs": [
    {
     "data": {
      "text/plain": [
       "제주시     325624\n",
       "서귀포시    171879\n",
       "Name: CARD_CCG_NM, dtype: int64"
      ]
     },
     "execution_count": 313,
     "metadata": {},
     "output_type": "execute_result"
    }
   ],
   "source": [
    "jeju_data['CARD_CCG_NM'].value_counts()"
   ]
  },
  {
   "cell_type": "code",
   "execution_count": 314,
   "metadata": {},
   "outputs": [
    {
     "data": {
      "image/png": "[encoded data removed]",
      "text/plain": [
       "<Figure size 720x432 with 1 Axes>"
      ]
     },
     "metadata": {
      "needs_background": "light"
     },
     "output_type": "display_data"
    }
   ],
   "source": [
    "fig, ax = plt.subplots(figsize=(10, 6))\n",
    "ax = sns.countplot(x = 'CARD_CCG_NM', data = jeju_data)"
   ]
  },
  {
   "cell_type": "markdown",
   "metadata": {},
   "source": [
    "### 업종명 (STD_CLSS_NM)"
   ]
  },
  {
   "cell_type": "code",
   "execution_count": 190,
   "metadata": {},
   "outputs": [
    {
     "data": {
      "text/plain": [
       "한식 음식점업                  52483\n",
       "체인화 편의점                  52180\n",
       "면세점                      49117\n",
       "서양식 음식점업                 25199\n",
       "정기 항공 운송업                23288\n",
       "수산물 소매업                  22970\n",
       "기타 대형 종합 소매업             21917\n",
       "차량용 주유소 운영업              21897\n",
       "비알콜 음료점업                 19750\n",
       "과실 및 채소 소매업              19599\n",
       "관광 민예품 및 선물용품 소매업        19407\n",
       "전시 및 행사 대행업              18846\n",
       "피자 햄버거 샌드위치 및 유사 음식점업    18679\n",
       "슈퍼마켓                     17840\n",
       "일식 음식점업                  12797\n",
       "자동차 임대업                  12790\n",
       "내항 여객 운송업                12113\n",
       "빵 및 과자류 소매업              11905\n",
       "기타음식료품위주종합소매업            10488\n",
       "여관업                      10066\n",
       "휴양콘도 운영업                  7515\n",
       "호텔업                       6592\n",
       "골프장 운영업                   3975\n",
       "중식 음식점업                   3409\n",
       "화장품 및 방향제 소매업             3264\n",
       "그외 기타 종합 소매업              2922\n",
       "욕탕업                       2706\n",
       "육류 소매업                    2445\n",
       "차량용 가스 충전업                2375\n",
       "스포츠 및 레크레이션 용품 임대업        2134\n",
       "일반유흥 주점업                  2028\n",
       "여행사업                      1826\n",
       "기타 외국식 음식점업               1331\n",
       "기타 주점업                     731\n",
       "건강보조식품 소매업                 458\n",
       "그외 기타 스포츠시설 운영업            208\n",
       "그외 기타 분류안된 오락관련 서비스업       111\n",
       "마사지업                        74\n",
       "택시 운송업                      35\n",
       "기타 수상오락 서비스업                33\n",
       "Name: STD_CLSS_NM, dtype: int64"
      ]
     },
     "execution_count": 190,
     "metadata": {},
     "output_type": "execute_result"
    }
   ],
   "source": [
    "jeju_data['STD_CLSS_NM'].value_counts()"
   ]
  },
  {
   "cell_type": "code",
   "execution_count": 200,
   "metadata": {},
   "outputs": [
    {
     "data": {
      "text/plain": [
       "count      497503\n",
       "unique         40\n",
       "top       한식 음식점업\n",
       "freq        52483\n",
       "Name: STD_CLSS_NM, dtype: object"
      ]
     },
     "execution_count": 200,
     "metadata": {},
     "output_type": "execute_result"
    }
   ],
   "source": [
    "jeju_data['STD_CLSS_NM'].describe() # 업종 40개"
   ]
  },
  {
   "cell_type": "code",
   "execution_count": 23,
   "metadata": {},
   "outputs": [
    {
     "data": {
      "image/png": "[encoded data removed]",
      "text/plain": [
       "<Figure size 864x720 with 1 Axes>"
      ]
     },
     "metadata": {
      "needs_background": "light"
     },
     "output_type": "display_data"
    }
   ],
   "source": [
    "fig, ax = plt.subplots(figsize=(12, 10))\n",
    "ax = sns.countplot(y = 'STD_CLSS_NM', data = jeju_data, order = jeju_data['STD_CLSS_NM'].value_counts().index) # 내림차순 정렬"
   ]
  },
  {
   "cell_type": "code",
   "execution_count": 315,
   "metadata": {},
   "outputs": [
    {
     "data": {
      "text/plain": [
       "array(['건강보조식품 소매업', '골프장 운영업', '과실 및 채소 소매업', '관광 민예품 및 선물용품 소매업',\n",
       "       '그외 기타 스포츠시설 운영업', '그외 기타 종합 소매업', '기타 대형 종합 소매업', '기타 외국식 음식점업',\n",
       "       '기타 주점업', '기타음식료품위주종합소매업', '내항 여객 운송업', '면세점', '비알콜 음료점업',\n",
       "       '빵 및 과자류 소매업', '서양식 음식점업', '수산물 소매업', '슈퍼마켓', '스포츠 및 레크레이션 용품 임대업',\n",
       "       '여관업', '여행사업', '욕탕업', '육류 소매업', '일반유흥 주점업', '일식 음식점업',\n",
       "       '전시 및 행사 대행업', '중식 음식점업', '차량용 가스 충전업', '차량용 주유소 운영업', '체인화 편의점',\n",
       "       '피자 햄버거 샌드위치 및 유사 음식점업', '한식 음식점업', '호텔업', '화장품 및 방향제 소매업',\n",
       "       '휴양콘도 운영업', '마사지업', '자동차 임대업', '정기 항공 운송업', '기타 수상오락 서비스업',\n",
       "       '그외 기타 분류안된 오락관련 서비스업', '택시 운송업'], dtype=object)"
      ]
     },
     "execution_count": 315,
     "metadata": {},
     "output_type": "execute_result"
    }
   ],
   "source": [
    "jeju_data['STD_CLSS_NM'].unique()"
   ]
  },
  {
   "cell_type": "code",
   "execution_count": 331,
   "metadata": {},
   "outputs": [],
   "source": [
    "jeju_data2 = jeju_data.copy()\n",
    "jeju_data2['STD_CLSS_NM_cat'] = jeju_data2['STD_CLSS_NM'] # 40가지 업종을 6가지 산업으로 범주화, 추가적으로 STD_CLSS_NM_cat 칼럼 생성"
   ]
  },
  {
   "cell_type": "code",
   "execution_count": 332,
   "metadata": {},
   "outputs": [
    {
     "data": {
      "text/html": [
       "<div>\n",
       "<style scoped>\n",
       "    .dataframe tbody tr th:only-of-type {\n",
       "        vertical-align: middle;\n",
       "    }\n",
       "\n",
       "    .dataframe tbody tr th {\n",
       "        vertical-align: top;\n",
       "    }\n",
       "\n",
       "    .dataframe thead th {\n",
       "        text-align: right;\n",
       "    }\n",
       "</style>\n",
       "<table border=\"1\" class=\"dataframe\">\n",
       "  <thead>\n",
       "    <tr style=\"text-align: right;\">\n",
       "      <th></th>\n",
       "      <th>REG_YYMM</th>\n",
       "      <th>CARD_SIDO_NM</th>\n",
       "      <th>CARD_CCG_NM</th>\n",
       "      <th>STD_CLSS_NM</th>\n",
       "      <th>HOM_SIDO_NM</th>\n",
       "      <th>HOM_CCG_NM</th>\n",
       "      <th>AGE</th>\n",
       "      <th>SEX_CTGO_CD</th>\n",
       "      <th>FLC</th>\n",
       "      <th>CSTMR_CNT</th>\n",
       "      <th>AMT</th>\n",
       "      <th>CNT</th>\n",
       "      <th>STD_CLSS_NM_cat</th>\n",
       "    </tr>\n",
       "  </thead>\n",
       "  <tbody>\n",
       "    <tr>\n",
       "      <th>0</th>\n",
       "      <td>201901</td>\n",
       "      <td>제주</td>\n",
       "      <td>서귀포시</td>\n",
       "      <td>건강보조식품 소매업</td>\n",
       "      <td>부산</td>\n",
       "      <td>사하구</td>\n",
       "      <td>50s</td>\n",
       "      <td>2</td>\n",
       "      <td>4</td>\n",
       "      <td>4</td>\n",
       "      <td>1900000</td>\n",
       "      <td>4</td>\n",
       "      <td>소매업</td>\n",
       "    </tr>\n",
       "    <tr>\n",
       "      <th>1</th>\n",
       "      <td>201901</td>\n",
       "      <td>제주</td>\n",
       "      <td>서귀포시</td>\n",
       "      <td>건강보조식품 소매업</td>\n",
       "      <td>인천</td>\n",
       "      <td>서구</td>\n",
       "      <td>50s</td>\n",
       "      <td>2</td>\n",
       "      <td>4</td>\n",
       "      <td>3</td>\n",
       "      <td>1300000</td>\n",
       "      <td>2</td>\n",
       "      <td>소매업</td>\n",
       "    </tr>\n",
       "    <tr>\n",
       "      <th>2</th>\n",
       "      <td>201901</td>\n",
       "      <td>제주</td>\n",
       "      <td>서귀포시</td>\n",
       "      <td>건강보조식품 소매업</td>\n",
       "      <td>제주</td>\n",
       "      <td>서귀포시</td>\n",
       "      <td>30s</td>\n",
       "      <td>1</td>\n",
       "      <td>2</td>\n",
       "      <td>3</td>\n",
       "      <td>438000</td>\n",
       "      <td>3</td>\n",
       "      <td>소매업</td>\n",
       "    </tr>\n",
       "    <tr>\n",
       "      <th>3</th>\n",
       "      <td>201901</td>\n",
       "      <td>제주</td>\n",
       "      <td>서귀포시</td>\n",
       "      <td>건강보조식품 소매업</td>\n",
       "      <td>제주</td>\n",
       "      <td>서귀포시</td>\n",
       "      <td>30s</td>\n",
       "      <td>2</td>\n",
       "      <td>2</td>\n",
       "      <td>4</td>\n",
       "      <td>552200</td>\n",
       "      <td>3</td>\n",
       "      <td>소매업</td>\n",
       "    </tr>\n",
       "    <tr>\n",
       "      <th>4</th>\n",
       "      <td>201901</td>\n",
       "      <td>제주</td>\n",
       "      <td>서귀포시</td>\n",
       "      <td>건강보조식품 소매업</td>\n",
       "      <td>제주</td>\n",
       "      <td>서귀포시</td>\n",
       "      <td>40s</td>\n",
       "      <td>1</td>\n",
       "      <td>2</td>\n",
       "      <td>3</td>\n",
       "      <td>908000</td>\n",
       "      <td>3</td>\n",
       "      <td>소매업</td>\n",
       "    </tr>\n",
       "  </tbody>\n",
       "</table>\n",
       "</div>"
      ],
      "text/plain": [
       "   REG_YYMM CARD_SIDO_NM CARD_CCG_NM STD_CLSS_NM HOM_SIDO_NM HOM_CCG_NM  AGE  \\\n",
       "0    201901           제주        서귀포시  건강보조식품 소매업          부산        사하구  50s   \n",
       "1    201901           제주        서귀포시  건강보조식품 소매업          인천         서구  50s   \n",
       "2    201901           제주        서귀포시  건강보조식품 소매업          제주       서귀포시  30s   \n",
       "3    201901           제주        서귀포시  건강보조식품 소매업          제주       서귀포시  30s   \n",
       "4    201901           제주        서귀포시  건강보조식품 소매업          제주       서귀포시  40s   \n",
       "\n",
       "   SEX_CTGO_CD  FLC  CSTMR_CNT      AMT  CNT STD_CLSS_NM_cat  \n",
       "0            2    4          4  1900000    4             소매업  \n",
       "1            2    4          3  1300000    2             소매업  \n",
       "2            1    2          3   438000    3             소매업  \n",
       "3            2    2          4   552200    3             소매업  \n",
       "4            1    2          3   908000    3             소매업  "
      ]
     },
     "execution_count": 332,
     "metadata": {},
     "output_type": "execute_result"
    }
   ],
   "source": [
    "jeju_data2['STD_CLSS_NM_cat'] = jeju_data2['STD_CLSS_NM_cat'].replace(['체인화 편의점','면세점','수산물 소매업','기타 대형 종합 소매업','차량용 주유소 운영업','과실 및 채소 소매업','관광 민예품 및 선물용품 소매업','슈퍼마켓','빵 및 과자류 소매업','기타음식료품위주종합소매업','화장품 및 방향제 소매업','그외 기타 종합 소매업','육류 소매업','차량용 가스 충전업','건강보조식품 소매업'], '소매업')\n",
    "jeju_data2['STD_CLSS_NM_cat'] = jeju_data2['STD_CLSS_NM_cat'].replace(['여관업','휴양콘도 운영업','호텔업'], '숙박업')\n",
    "jeju_data2['STD_CLSS_NM_cat'] = jeju_data2['STD_CLSS_NM_cat'].replace(['한식 음식점업','서양식 음식점업','비알콜 음료점업','피자 햄버거 샌드위치 및 유사 음식점업','일식 음식점업','중식 음식점업','일반유흥 주점업','기타 외국식 음식점업','기타 주점업'], '음식점업')\n",
    "jeju_data2['STD_CLSS_NM_cat'] = jeju_data2['STD_CLSS_NM_cat'].replace(['정기 항공 운송업','내항 여객 운송업','택시 운송업'], '운수업')\n",
    "jeju_data2['STD_CLSS_NM_cat'] = jeju_data2['STD_CLSS_NM_cat'].replace(['전시 및 행사 대행업','골프장 운영업','스포츠 및 레크레이션 용품 임대업','그외 기타 스포츠시설 운영업','그외 기타 분류안된 오락관련 서비스업',''], '예술스포츠여가')\n",
    "jeju_data2['STD_CLSS_NM_cat'] = jeju_data2['STD_CLSS_NM_cat'].replace(['자동차 임대업','욕탕업','여행사업','마사지업'], '기타')\n",
    "jeju_data2.head()"
   ]
  },
  {
   "cell_type": "code",
   "execution_count": 27,
   "metadata": {},
   "outputs": [
    {
     "data": {
      "image/png": "[encoded data removed]",
      "text/plain": [
       "<Figure size 720x432 with 1 Axes>"
      ]
     },
     "metadata": {
      "needs_background": "light"
     },
     "output_type": "display_data"
    }
   ],
   "source": [
    "fig, ax = plt.subplots(figsize=(10, 6))\n",
    "ax = sns.countplot(x = 'STD_CLSS_NM_cat', data = jeju_data2, order = jeju_data2['STD_CLSS_NM_cat'].value_counts().index) # 내림차순 정렬"
   ]
  },
  {
   "cell_type": "markdown",
   "metadata": {},
   "source": [
    "### 거주지역(시도) (HOM_SIDO_NM)"
   ]
  },
  {
   "cell_type": "code",
   "execution_count": 160,
   "metadata": {
    "scrolled": true
   },
   "outputs": [
    {
     "data": {
      "text/plain": [
       "경기    123898\n",
       "서울    109454\n",
       "부산     36721\n",
       "제주     35957\n",
       "인천     27044\n",
       "경남     25946\n",
       "대구     25166\n",
       "광주     17382\n",
       "경북     16048\n",
       "충남     13218\n",
       "전북     12750\n",
       "전남     11462\n",
       "대전     10996\n",
       "울산     10807\n",
       "충북     10243\n",
       "강원      7340\n",
       "세종      3071\n",
       "Name: HOM_SIDO_NM, dtype: int64"
      ]
     },
     "execution_count": 160,
     "metadata": {},
     "output_type": "execute_result"
    }
   ],
   "source": [
    "jeju_data['HOM_SIDO_NM'].value_counts()"
   ]
  },
  {
   "cell_type": "code",
   "execution_count": 162,
   "metadata": {},
   "outputs": [
    {
     "data": {
      "text/plain": [
       "count     497503\n",
       "unique        17\n",
       "top           경기\n",
       "freq      123898\n",
       "Name: HOM_SIDO_NM, dtype: object"
      ]
     },
     "execution_count": 162,
     "metadata": {},
     "output_type": "execute_result"
    }
   ],
   "source": [
    "jeju_data['HOM_SIDO_NM'].describe() # 17개 시도"
   ]
  },
  {
   "cell_type": "code",
   "execution_count": 161,
   "metadata": {},
   "outputs": [
    {
     "data": {
      "image/png": "[encoded data removed]",
      "text/plain": [
       "<Figure size 720x432 with 1 Axes>"
      ]
     },
     "metadata": {
      "needs_background": "light"
     },
     "output_type": "display_data"
    }
   ],
   "source": [
    "fig, ax = plt.subplots(figsize=(10, 6))\n",
    "ax = sns.countplot(y = 'HOM_SIDO_NM', data = jeju_data, order = jeju_data['HOM_SIDO_NM'].value_counts().index) # 내림차순 정렬"
   ]
  },
  {
   "cell_type": "code",
   "execution_count": 333,
   "metadata": {},
   "outputs": [],
   "source": [
    "jeju_data2['HOM_SIDO_NM_cat'] = jeju_data2['HOM_SIDO_NM'] # 17개 시도를 6개 권역으로 범주화, 추가적으로 HOM_SIDO_NM_cat 칼럼 생성"
   ]
  },
  {
   "cell_type": "code",
   "execution_count": 334,
   "metadata": {},
   "outputs": [
    {
     "data": {
      "text/html": [
       "<div>\n",
       "<style scoped>\n",
       "    .dataframe tbody tr th:only-of-type {\n",
       "        vertical-align: middle;\n",
       "    }\n",
       "\n",
       "    .dataframe tbody tr th {\n",
       "        vertical-align: top;\n",
       "    }\n",
       "\n",
       "    .dataframe thead th {\n",
       "        text-align: right;\n",
       "    }\n",
       "</style>\n",
       "<table border=\"1\" class=\"dataframe\">\n",
       "  <thead>\n",
       "    <tr style=\"text-align: right;\">\n",
       "      <th></th>\n",
       "      <th>REG_YYMM</th>\n",
       "      <th>CARD_SIDO_NM</th>\n",
       "      <th>CARD_CCG_NM</th>\n",
       "      <th>STD_CLSS_NM</th>\n",
       "      <th>HOM_SIDO_NM</th>\n",
       "      <th>HOM_CCG_NM</th>\n",
       "      <th>AGE</th>\n",
       "      <th>SEX_CTGO_CD</th>\n",
       "      <th>FLC</th>\n",
       "      <th>CSTMR_CNT</th>\n",
       "      <th>AMT</th>\n",
       "      <th>CNT</th>\n",
       "      <th>STD_CLSS_NM_cat</th>\n",
       "      <th>HOM_SIDO_NM_cat</th>\n",
       "    </tr>\n",
       "  </thead>\n",
       "  <tbody>\n",
       "    <tr>\n",
       "      <th>0</th>\n",
       "      <td>201901</td>\n",
       "      <td>제주</td>\n",
       "      <td>서귀포시</td>\n",
       "      <td>건강보조식품 소매업</td>\n",
       "      <td>부산</td>\n",
       "      <td>사하구</td>\n",
       "      <td>50s</td>\n",
       "      <td>2</td>\n",
       "      <td>4</td>\n",
       "      <td>4</td>\n",
       "      <td>1900000</td>\n",
       "      <td>4</td>\n",
       "      <td>소매업</td>\n",
       "      <td>경상권</td>\n",
       "    </tr>\n",
       "    <tr>\n",
       "      <th>1</th>\n",
       "      <td>201901</td>\n",
       "      <td>제주</td>\n",
       "      <td>서귀포시</td>\n",
       "      <td>건강보조식품 소매업</td>\n",
       "      <td>인천</td>\n",
       "      <td>서구</td>\n",
       "      <td>50s</td>\n",
       "      <td>2</td>\n",
       "      <td>4</td>\n",
       "      <td>3</td>\n",
       "      <td>1300000</td>\n",
       "      <td>2</td>\n",
       "      <td>소매업</td>\n",
       "      <td>수도권</td>\n",
       "    </tr>\n",
       "    <tr>\n",
       "      <th>2</th>\n",
       "      <td>201901</td>\n",
       "      <td>제주</td>\n",
       "      <td>서귀포시</td>\n",
       "      <td>건강보조식품 소매업</td>\n",
       "      <td>제주</td>\n",
       "      <td>서귀포시</td>\n",
       "      <td>30s</td>\n",
       "      <td>1</td>\n",
       "      <td>2</td>\n",
       "      <td>3</td>\n",
       "      <td>438000</td>\n",
       "      <td>3</td>\n",
       "      <td>소매업</td>\n",
       "      <td>제주권</td>\n",
       "    </tr>\n",
       "    <tr>\n",
       "      <th>3</th>\n",
       "      <td>201901</td>\n",
       "      <td>제주</td>\n",
       "      <td>서귀포시</td>\n",
       "      <td>건강보조식품 소매업</td>\n",
       "      <td>제주</td>\n",
       "      <td>서귀포시</td>\n",
       "      <td>30s</td>\n",
       "      <td>2</td>\n",
       "      <td>2</td>\n",
       "      <td>4</td>\n",
       "      <td>552200</td>\n",
       "      <td>3</td>\n",
       "      <td>소매업</td>\n",
       "      <td>제주권</td>\n",
       "    </tr>\n",
       "    <tr>\n",
       "      <th>4</th>\n",
       "      <td>201901</td>\n",
       "      <td>제주</td>\n",
       "      <td>서귀포시</td>\n",
       "      <td>건강보조식품 소매업</td>\n",
       "      <td>제주</td>\n",
       "      <td>서귀포시</td>\n",
       "      <td>40s</td>\n",
       "      <td>1</td>\n",
       "      <td>2</td>\n",
       "      <td>3</td>\n",
       "      <td>908000</td>\n",
       "      <td>3</td>\n",
       "      <td>소매업</td>\n",
       "      <td>제주권</td>\n",
       "    </tr>\n",
       "  </tbody>\n",
       "</table>\n",
       "</div>"
      ],
      "text/plain": [
       "   REG_YYMM CARD_SIDO_NM CARD_CCG_NM STD_CLSS_NM HOM_SIDO_NM HOM_CCG_NM  AGE  \\\n",
       "0    201901           제주        서귀포시  건강보조식품 소매업          부산        사하구  50s   \n",
       "1    201901           제주        서귀포시  건강보조식품 소매업          인천         서구  50s   \n",
       "2    201901           제주        서귀포시  건강보조식품 소매업          제주       서귀포시  30s   \n",
       "3    201901           제주        서귀포시  건강보조식품 소매업          제주       서귀포시  30s   \n",
       "4    201901           제주        서귀포시  건강보조식품 소매업          제주       서귀포시  40s   \n",
       "\n",
       "   SEX_CTGO_CD  FLC  CSTMR_CNT      AMT  CNT STD_CLSS_NM_cat HOM_SIDO_NM_cat  \n",
       "0            2    4          4  1900000    4             소매업             경상권  \n",
       "1            2    4          3  1300000    2             소매업             수도권  \n",
       "2            1    2          3   438000    3             소매업             제주권  \n",
       "3            2    2          4   552200    3             소매업             제주권  \n",
       "4            1    2          3   908000    3             소매업             제주권  "
      ]
     },
     "execution_count": 334,
     "metadata": {},
     "output_type": "execute_result"
    }
   ],
   "source": [
    "jeju_data2['HOM_SIDO_NM_cat'] = jeju_data2['HOM_SIDO_NM_cat'].replace(['서울', '경기', '인천'], '수도권')\n",
    "jeju_data2['HOM_SIDO_NM_cat'] = jeju_data2['HOM_SIDO_NM_cat'].replace(['부산', '경남', '경북', '대구', '울산'], '경상권')\n",
    "jeju_data2['HOM_SIDO_NM_cat'] = jeju_data2['HOM_SIDO_NM_cat'].replace(['대전', '충남', '충북', '세종'], '충청권')\n",
    "jeju_data2['HOM_SIDO_NM_cat'] = jeju_data2['HOM_SIDO_NM_cat'].replace(['광주', '전남', '전북'], '전라권')\n",
    "jeju_data2['HOM_SIDO_NM_cat'] = jeju_data2['HOM_SIDO_NM_cat'].replace('강원', '강원권')\n",
    "jeju_data2['HOM_SIDO_NM_cat'] = jeju_data2['HOM_SIDO_NM_cat'].replace('제주', '제주권')\n",
    "jeju_data2.head()"
   ]
  },
  {
   "cell_type": "code",
   "execution_count": 15,
   "metadata": {},
   "outputs": [
    {
     "data": {
      "image/png": "[encoded data removed]",
      "text/plain": [
       "<Figure size 720x432 with 1 Axes>"
      ]
     },
     "metadata": {
      "needs_background": "light"
     },
     "output_type": "display_data"
    }
   ],
   "source": [
    "fig, ax = plt.subplots(figsize=(10, 6))\n",
    "ax = sns.countplot(x = 'HOM_SIDO_NM_cat', data = jeju_data2, order = jeju_data2['HOM_SIDO_NM_cat'].value_counts().index) # 내림차순 정렬"
   ]
  },
  {
   "cell_type": "code",
   "execution_count": 11,
   "metadata": {},
   "outputs": [
    {
     "data": {
      "text/plain": [
       "수도권    260396\n",
       "경상권    114688\n",
       "전라권     41594\n",
       "충청권     37528\n",
       "제주권     35957\n",
       "강원권      7340\n",
       "Name: HOM_SIDO_NM_cat, dtype: int64"
      ]
     },
     "execution_count": 11,
     "metadata": {},
     "output_type": "execute_result"
    }
   ],
   "source": [
    "jeju_data2['HOM_SIDO_NM_cat'].value_counts()"
   ]
  },
  {
   "cell_type": "markdown",
   "metadata": {},
   "source": [
    "### 거주지역(시군구) (HOM_CCG_NM) --- 결측치 有"
   ]
  },
  {
   "cell_type": "code",
   "execution_count": 163,
   "metadata": {},
   "outputs": [
    {
     "data": {
      "text/plain": [
       "제주시     19230\n",
       "서귀포시    16727\n",
       "서구      15226\n",
       "남구      14408\n",
       "북구      14254\n",
       "        ...  \n",
       "진안군        14\n",
       "무주군        13\n",
       "군위군        11\n",
       "영양군         9\n",
       "울릉군         2\n",
       "Name: HOM_CCG_NM, Length: 226, dtype: int64"
      ]
     },
     "execution_count": 163,
     "metadata": {},
     "output_type": "execute_result"
    }
   ],
   "source": [
    "jeju_data['HOM_CCG_NM'].value_counts()"
   ]
  },
  {
   "cell_type": "code",
   "execution_count": 38,
   "metadata": {},
   "outputs": [
    {
     "data": {
      "text/plain": [
       "array(['사하구', '서구', '서귀포시', '제주시', '고양시 일산동구', '광주시', '구리시', '부천시',\n",
       "       '성남시 분당구', '시흥시', '안양시 만안구', '용인시 기흥구', '용인시 수지구', '용인시 처인구',\n",
       "       '화성시', '북구', '달서구', '수성구', '남구', '해운대구', '강남구', '강동구', '관악구',\n",
       "       '구로구', '노원구', '마포구', '서초구', '성동구', '성북구', '송파구', '양천구', '영등포구',\n",
       "       '용산구', '은평구', '부평구', '연수구', '목포시', '강릉시', '원주시', '춘천시', '고양시 덕양구',\n",
       "       '고양시 일산서구', '과천시', '광명시', '군포시', '김포시', '남양주시', '동두천시', '성남시 중원구',\n",
       "       '수원시 권선구', '수원시 영통구', '수원시 장안구', '수원시 팔달구', '안산시 단원구', '안산시 상록구',\n",
       "       '안성시', '안양시 동안구', '양주시', '오산시', '의왕시', '의정부시', '이천시', '파주시', '평택시',\n",
       "       '포천시', '하남시', '거제시', '김해시', '양산시', '의령군', '진주시', '창원시 마산합포구',\n",
       "       '창원시 마산회원구', '창원시 성산구', '창원시 의창구', '창원시 진해구', '통영시', '경산시', '경주시',\n",
       "       '구미시', '안동시', '영천시', '포항시 북구', '광산구', '동구', '달성군', '대덕구', '유성구',\n",
       "       '중구', '강서구', '금정구', '기장군', '동래구', '부산진구', '사상구', '연제구', '강북구',\n",
       "       '광진구', '금천구', '도봉구', '동대문구', '동작구', '서대문구', '중랑구', nan, '울주군',\n",
       "       '계양구', '남동구', '광양시', '순천시', '여수시', '영광군', '군산시', '완주군', '전주시 덕진구',\n",
       "       '전주시 완산구', '논산시', '당진시', '보령시', '서산시', '아산시', '천안시 동남구', '천안시 서북구',\n",
       "       '제천시', '청주시 상당구', '청주시 서원구', '청주시 청원구', '청주시 흥덕구', '충주시', '김천시',\n",
       "       '평창군', '성남시 수정구', '사천시', '포항시 남구', '수영구', '영도구', '종로구', '나주시',\n",
       "       '익산시', '공주시', '증평군', '정읍시', '인제군', '상주시', '의성군', '칠곡군', '영암군',\n",
       "       '고창군', '김제시', '남원시', '음성군', '거창군', '무안군', '여주시', '함안군', '옥천군',\n",
       "       '속초시', '강화군', '동해시', '철원군', '태백시', '홍천군', '가평군', '양평군', '연천군',\n",
       "       '고성군', '밀양시', '영주시', '청도군', '고흥군', '계룡시', '부여군', '홍성군', '괴산군',\n",
       "       '문경시', '완도군', '화순군', '진천군', '영월군', '부안군', '옹진군', '장성군', '예천군',\n",
       "       '삼척시', '양양군', '정선군', '화천군', '횡성군', '남해군', '산청군', '창녕군', '하동군',\n",
       "       '함양군', '합천군', '고령군', '군위군', '봉화군', '성주군', '영양군', '울진군', '청송군',\n",
       "       '강진군', '곡성군', '구례군', '담양군', '보성군', '신안군', '장흥군', '진도군', '함평군',\n",
       "       '해남군', '순창군', '장수군', '진안군', '금산군', '서천군', '예산군', '태안군', '단양군',\n",
       "       '보은군', '영동군', '청양군', '무주군', '양구군', '영덕군', '울릉군', '임실군'],\n",
       "      dtype=object)"
      ]
     },
     "execution_count": 38,
     "metadata": {},
     "output_type": "execute_result"
    }
   ],
   "source": [
    "jeju_data['HOM_CCG_NM'].unique()"
   ]
  },
  {
   "cell_type": "code",
   "execution_count": 164,
   "metadata": {},
   "outputs": [
    {
     "data": {
      "text/plain": [
       "count     494432\n",
       "unique       226\n",
       "top          제주시\n",
       "freq       19230\n",
       "Name: HOM_CCG_NM, dtype: object"
      ]
     },
     "execution_count": 164,
     "metadata": {},
     "output_type": "execute_result"
    }
   ],
   "source": [
    "jeju_data['HOM_CCG_NM'].describe() # 226개 시군구"
   ]
  },
  {
   "cell_type": "code",
   "execution_count": 336,
   "metadata": {},
   "outputs": [
    {
     "data": {
      "text/plain": [
       "3071"
      ]
     },
     "execution_count": 336,
     "metadata": {},
     "output_type": "execute_result"
    }
   ],
   "source": [
    "jeju_data['HOM_CCG_NM'].isnull().sum() # 결측치 개수 찾기"
   ]
  },
  {
   "cell_type": "code",
   "execution_count": 337,
   "metadata": {},
   "outputs": [
    {
     "data": {
      "text/html": [
       "<div>\n",
       "<style scoped>\n",
       "    .dataframe tbody tr th:only-of-type {\n",
       "        vertical-align: middle;\n",
       "    }\n",
       "\n",
       "    .dataframe tbody tr th {\n",
       "        vertical-align: top;\n",
       "    }\n",
       "\n",
       "    .dataframe thead th {\n",
       "        text-align: right;\n",
       "    }\n",
       "</style>\n",
       "<table border=\"1\" class=\"dataframe\">\n",
       "  <thead>\n",
       "    <tr style=\"text-align: right;\">\n",
       "      <th></th>\n",
       "      <th>REG_YYMM</th>\n",
       "      <th>CARD_SIDO_NM</th>\n",
       "      <th>CARD_CCG_NM</th>\n",
       "      <th>STD_CLSS_NM</th>\n",
       "      <th>HOM_SIDO_NM</th>\n",
       "      <th>HOM_CCG_NM</th>\n",
       "      <th>AGE</th>\n",
       "      <th>SEX_CTGO_CD</th>\n",
       "      <th>FLC</th>\n",
       "      <th>CSTMR_CNT</th>\n",
       "      <th>AMT</th>\n",
       "      <th>CNT</th>\n",
       "    </tr>\n",
       "  </thead>\n",
       "  <tbody>\n",
       "    <tr>\n",
       "      <th>593</th>\n",
       "      <td>201901</td>\n",
       "      <td>제주</td>\n",
       "      <td>서귀포시</td>\n",
       "      <td>과실 및 채소 소매업</td>\n",
       "      <td>세종</td>\n",
       "      <td>NaN</td>\n",
       "      <td>20s</td>\n",
       "      <td>1</td>\n",
       "      <td>1</td>\n",
       "      <td>3</td>\n",
       "      <td>49500</td>\n",
       "      <td>4</td>\n",
       "    </tr>\n",
       "    <tr>\n",
       "      <th>594</th>\n",
       "      <td>201901</td>\n",
       "      <td>제주</td>\n",
       "      <td>서귀포시</td>\n",
       "      <td>과실 및 채소 소매업</td>\n",
       "      <td>세종</td>\n",
       "      <td>NaN</td>\n",
       "      <td>30s</td>\n",
       "      <td>1</td>\n",
       "      <td>2</td>\n",
       "      <td>3</td>\n",
       "      <td>113000</td>\n",
       "      <td>3</td>\n",
       "    </tr>\n",
       "    <tr>\n",
       "      <th>595</th>\n",
       "      <td>201901</td>\n",
       "      <td>제주</td>\n",
       "      <td>서귀포시</td>\n",
       "      <td>과실 및 채소 소매업</td>\n",
       "      <td>세종</td>\n",
       "      <td>NaN</td>\n",
       "      <td>30s</td>\n",
       "      <td>2</td>\n",
       "      <td>2</td>\n",
       "      <td>4</td>\n",
       "      <td>365500</td>\n",
       "      <td>8</td>\n",
       "    </tr>\n",
       "    <tr>\n",
       "      <th>821</th>\n",
       "      <td>201901</td>\n",
       "      <td>제주</td>\n",
       "      <td>서귀포시</td>\n",
       "      <td>관광 민예품 및 선물용품 소매업</td>\n",
       "      <td>세종</td>\n",
       "      <td>NaN</td>\n",
       "      <td>30s</td>\n",
       "      <td>1</td>\n",
       "      <td>2</td>\n",
       "      <td>6</td>\n",
       "      <td>193100</td>\n",
       "      <td>7</td>\n",
       "    </tr>\n",
       "    <tr>\n",
       "      <th>822</th>\n",
       "      <td>201901</td>\n",
       "      <td>제주</td>\n",
       "      <td>서귀포시</td>\n",
       "      <td>관광 민예품 및 선물용품 소매업</td>\n",
       "      <td>세종</td>\n",
       "      <td>NaN</td>\n",
       "      <td>40s</td>\n",
       "      <td>1</td>\n",
       "      <td>3</td>\n",
       "      <td>3</td>\n",
       "      <td>85000</td>\n",
       "      <td>4</td>\n",
       "    </tr>\n",
       "    <tr>\n",
       "      <th>...</th>\n",
       "      <td>...</td>\n",
       "      <td>...</td>\n",
       "      <td>...</td>\n",
       "      <td>...</td>\n",
       "      <td>...</td>\n",
       "      <td>...</td>\n",
       "      <td>...</td>\n",
       "      <td>...</td>\n",
       "      <td>...</td>\n",
       "      <td>...</td>\n",
       "      <td>...</td>\n",
       "      <td>...</td>\n",
       "    </tr>\n",
       "    <tr>\n",
       "      <th>497131</th>\n",
       "      <td>202003</td>\n",
       "      <td>제주</td>\n",
       "      <td>제주시</td>\n",
       "      <td>한식 음식점업</td>\n",
       "      <td>세종</td>\n",
       "      <td>NaN</td>\n",
       "      <td>40s</td>\n",
       "      <td>1</td>\n",
       "      <td>3</td>\n",
       "      <td>26</td>\n",
       "      <td>1052500</td>\n",
       "      <td>28</td>\n",
       "    </tr>\n",
       "    <tr>\n",
       "      <th>497132</th>\n",
       "      <td>202003</td>\n",
       "      <td>제주</td>\n",
       "      <td>제주시</td>\n",
       "      <td>한식 음식점업</td>\n",
       "      <td>세종</td>\n",
       "      <td>NaN</td>\n",
       "      <td>40s</td>\n",
       "      <td>2</td>\n",
       "      <td>3</td>\n",
       "      <td>3</td>\n",
       "      <td>158000</td>\n",
       "      <td>10</td>\n",
       "    </tr>\n",
       "    <tr>\n",
       "      <th>497133</th>\n",
       "      <td>202003</td>\n",
       "      <td>제주</td>\n",
       "      <td>제주시</td>\n",
       "      <td>한식 음식점업</td>\n",
       "      <td>세종</td>\n",
       "      <td>NaN</td>\n",
       "      <td>50s</td>\n",
       "      <td>1</td>\n",
       "      <td>4</td>\n",
       "      <td>36</td>\n",
       "      <td>1552000</td>\n",
       "      <td>44</td>\n",
       "    </tr>\n",
       "    <tr>\n",
       "      <th>497134</th>\n",
       "      <td>202003</td>\n",
       "      <td>제주</td>\n",
       "      <td>제주시</td>\n",
       "      <td>한식 음식점업</td>\n",
       "      <td>세종</td>\n",
       "      <td>NaN</td>\n",
       "      <td>50s</td>\n",
       "      <td>2</td>\n",
       "      <td>4</td>\n",
       "      <td>7</td>\n",
       "      <td>275000</td>\n",
       "      <td>8</td>\n",
       "    </tr>\n",
       "    <tr>\n",
       "      <th>497135</th>\n",
       "      <td>202003</td>\n",
       "      <td>제주</td>\n",
       "      <td>제주시</td>\n",
       "      <td>한식 음식점업</td>\n",
       "      <td>세종</td>\n",
       "      <td>NaN</td>\n",
       "      <td>60s</td>\n",
       "      <td>1</td>\n",
       "      <td>5</td>\n",
       "      <td>6</td>\n",
       "      <td>230800</td>\n",
       "      <td>8</td>\n",
       "    </tr>\n",
       "  </tbody>\n",
       "</table>\n",
       "<p>3071 rows × 12 columns</p>\n",
       "</div>"
      ],
      "text/plain": [
       "        REG_YYMM CARD_SIDO_NM CARD_CCG_NM        STD_CLSS_NM HOM_SIDO_NM  \\\n",
       "593       201901           제주        서귀포시        과실 및 채소 소매업          세종   \n",
       "594       201901           제주        서귀포시        과실 및 채소 소매업          세종   \n",
       "595       201901           제주        서귀포시        과실 및 채소 소매업          세종   \n",
       "821       201901           제주        서귀포시  관광 민예품 및 선물용품 소매업          세종   \n",
       "822       201901           제주        서귀포시  관광 민예품 및 선물용품 소매업          세종   \n",
       "...          ...          ...         ...                ...         ...   \n",
       "497131    202003           제주         제주시            한식 음식점업          세종   \n",
       "497132    202003           제주         제주시            한식 음식점업          세종   \n",
       "497133    202003           제주         제주시            한식 음식점업          세종   \n",
       "497134    202003           제주         제주시            한식 음식점업          세종   \n",
       "497135    202003           제주         제주시            한식 음식점업          세종   \n",
       "\n",
       "       HOM_CCG_NM  AGE  SEX_CTGO_CD  FLC  CSTMR_CNT      AMT  CNT  \n",
       "593           NaN  20s            1    1          3    49500    4  \n",
       "594           NaN  30s            1    2          3   113000    3  \n",
       "595           NaN  30s            2    2          4   365500    8  \n",
       "821           NaN  30s            1    2          6   193100    7  \n",
       "822           NaN  40s            1    3          3    85000    4  \n",
       "...           ...  ...          ...  ...        ...      ...  ...  \n",
       "497131        NaN  40s            1    3         26  1052500   28  \n",
       "497132        NaN  40s            2    3          3   158000   10  \n",
       "497133        NaN  50s            1    4         36  1552000   44  \n",
       "497134        NaN  50s            2    4          7   275000    8  \n",
       "497135        NaN  60s            1    5          6   230800    8  \n",
       "\n",
       "[3071 rows x 12 columns]"
      ]
     },
     "execution_count": 337,
     "metadata": {},
     "output_type": "execute_result"
    }
   ],
   "source": [
    "jeju_data.loc[jeju_data.isnull().any(axis=1)] # 결측치가 있는 행만 출력 --> 세종시의 경우 시군구가 모두 missing value"
   ]
  },
  {
   "cell_type": "code",
   "execution_count": 338,
   "metadata": {},
   "outputs": [
    {
     "data": {
      "text/plain": [
       "Index([], dtype='object')"
      ]
     },
     "execution_count": 338,
     "metadata": {},
     "output_type": "execute_result"
    }
   ],
   "source": [
    "sejong = jeju_data[jeju_data.HOM_SIDO_NM == '세종']\n",
    "sejong['HOM_CCG_NM'].value_counts().index # 세종시의 시군구 값은 모두 결측치"
   ]
  },
  {
   "cell_type": "code",
   "execution_count": 339,
   "metadata": {},
   "outputs": [],
   "source": [
    "jeju_data.loc[(jeju_data['HOM_CCG_NM'].isnull())&(jeju_data['HOM_SIDO_NM']=='세종'),'HOM_CCG_NM'] = '세종' # 결측치들을 '세종'으로 대체"
   ]
  },
  {
   "cell_type": "code",
   "execution_count": 340,
   "metadata": {},
   "outputs": [
    {
     "data": {
      "text/plain": [
       "0"
      ]
     },
     "execution_count": 340,
     "metadata": {},
     "output_type": "execute_result"
    }
   ],
   "source": [
    "jeju_data['HOM_CCG_NM'].isnull().sum() # 결측치 처리됨"
   ]
  },
  {
   "cell_type": "markdown",
   "metadata": {},
   "source": [
    "### 연령대 (AGE) --- 전처리 불필요"
   ]
  },
  {
   "cell_type": "code",
   "execution_count": 4,
   "metadata": {},
   "outputs": [
    {
     "data": {
      "text/plain": [
       "30s    125254\n",
       "40s    119569\n",
       "20s    100407\n",
       "50s     94772\n",
       "60s     43686\n",
       "70s      7503\n",
       "10s      6312\n",
       "Name: AGE, dtype: int64"
      ]
     },
     "execution_count": 4,
     "metadata": {},
     "output_type": "execute_result"
    }
   ],
   "source": [
    "jeju_data['AGE'].value_counts()"
   ]
  },
  {
   "cell_type": "code",
   "execution_count": 12,
   "metadata": {},
   "outputs": [
    {
     "data": {
      "image/png": "[encoded data removed]",
      "text/plain": [
       "<Figure size 720x432 with 1 Axes>"
      ]
     },
     "metadata": {
      "needs_background": "light"
     },
     "output_type": "display_data"
    }
   ],
   "source": [
    "fig, ax = plt.subplots(figsize=(10, 6))\n",
    "ax = sns.countplot(x = 'AGE', data = jeju_data, order=[\"10s\",\"20s\",\"30s\",\"40s\",\"50s\",\"60s\",\"70s\"]) # 나이순 정렬"
   ]
  },
  {
   "cell_type": "markdown",
   "metadata": {},
   "source": [
    "### 성별 (SEX_CTGO_CD) --- 전처리 불필요"
   ]
  },
  {
   "cell_type": "code",
   "execution_count": 323,
   "metadata": {},
   "outputs": [
    {
     "data": {
      "text/plain": [
       "1    263234\n",
       "2    234269\n",
       "Name: SEX_CTGO_CD, dtype: int64"
      ]
     },
     "execution_count": 323,
     "metadata": {},
     "output_type": "execute_result"
    }
   ],
   "source": [
    "jeju_data['SEX_CTGO_CD'].value_counts() # 1: 남성   2: 여성"
   ]
  },
  {
   "cell_type": "code",
   "execution_count": 324,
   "metadata": {},
   "outputs": [
    {
     "data": {
      "image/png": "[encoded data removed]",
      "text/plain": [
       "<Figure size 720x432 with 1 Axes>"
      ]
     },
     "metadata": {
      "needs_background": "light"
     },
     "output_type": "display_data"
    }
   ],
   "source": [
    "fig, ax = plt.subplots(figsize=(10, 6))\n",
    "ax = sns.countplot(x = 'SEX_CTGO_CD', data = jeju_data)"
   ]
  },
  {
   "cell_type": "markdown",
   "metadata": {},
   "source": [
    "### 가구생애주기 (FLC) --- 전처리 불필요"
   ]
  },
  {
   "cell_type": "code",
   "execution_count": 169,
   "metadata": {},
   "outputs": [
    {
     "data": {
      "text/plain": [
       "2    139955\n",
       "4    106978\n",
       "1    106369\n",
       "3     93012\n",
       "5     51189\n",
       "Name: FLC, dtype: int64"
      ]
     },
     "execution_count": 169,
     "metadata": {},
     "output_type": "execute_result"
    }
   ],
   "source": [
    "jeju_data['FLC'].value_counts()"
   ]
  },
  {
   "cell_type": "code",
   "execution_count": 122,
   "metadata": {},
   "outputs": [
    {
     "data": {
      "image/png": "[encoded data removed]",
      "text/plain": [
       "<Figure size 720x432 with 1 Axes>"
      ]
     },
     "metadata": {
      "needs_background": "light"
     },
     "output_type": "display_data"
    }
   ],
   "source": [
    "fig, ax = plt.subplots(figsize=(10, 6))\n",
    "ax = sns.countplot(x = 'FLC', data = jeju_data, order = jeju_data['FLC'].value_counts().index) # 내림차순 정렬\n",
    "# 1: 1인 가구\n",
    "# 2: 영유아자녀 가구\n",
    "# 3: 중고생자녀 가구\n",
    "# 4: 성인자녀 가구\n",
    "# 5: 노년가구"
   ]
  },
  {
   "cell_type": "markdown",
   "metadata": {},
   "source": [
    "### 이용고객수 (CSTMR_CNT) "
   ]
  },
  {
   "cell_type": "code",
   "execution_count": 208,
   "metadata": {},
   "outputs": [
    {
     "data": {
      "text/plain": [
       "3       137291\n",
       "4        59270\n",
       "6        35533\n",
       "5        31589\n",
       "7        26234\n",
       "         ...  \n",
       "6280         1\n",
       "3979         1\n",
       "1930         1\n",
       "8073         1\n",
       "3965         1\n",
       "Name: CSTMR_CNT, Length: 3491, dtype: int64"
      ]
     },
     "execution_count": 208,
     "metadata": {},
     "output_type": "execute_result"
    }
   ],
   "source": [
    "jeju_data['CSTMR_CNT'].value_counts()"
   ]
  },
  {
   "cell_type": "code",
   "execution_count": 4,
   "metadata": {},
   "outputs": [
    {
     "data": {
      "text/plain": [
       "count    497503.000000\n",
       "mean         49.572770\n",
       "std         501.528665\n",
       "min           3.000000\n",
       "25%           3.000000\n",
       "50%           6.000000\n",
       "75%          14.000000\n",
       "max       32813.000000\n",
       "Name: CSTMR_CNT, dtype: float64"
      ]
     },
     "execution_count": 4,
     "metadata": {},
     "output_type": "execute_result"
    }
   ],
   "source": [
    "jeju_data['CSTMR_CNT'].describe() # mean과 50%값에 큰 차이, 높은 std와 max"
   ]
  },
  {
   "cell_type": "code",
   "execution_count": 209,
   "metadata": {},
   "outputs": [
    {
     "data": {
      "text/plain": [
       "<matplotlib.axes._subplots.AxesSubplot at 0x2370b836e08>"
      ]
     },
     "execution_count": 209,
     "metadata": {},
     "output_type": "execute_result"
    },
    {
     "data": {
      "image/png": "[encoded data removed]",
      "text/plain": [
       "<Figure size 720x432 with 1 Axes>"
      ]
     },
     "metadata": {
      "needs_background": "light"
     },
     "output_type": "display_data"
    }
   ],
   "source": [
    "f, ax = plt.subplots(figsize = (10, 6)) \n",
    "sns.distplot(jeju_data['CSTMR_CNT'], rug = True, hist = False) # 데이터의 분포가 치우쳐 있음"
   ]
  },
  {
   "cell_type": "code",
   "execution_count": 207,
   "metadata": {},
   "outputs": [
    {
     "data": {
      "image/png": "[encoded data removed]",
      "text/plain": [
       "<Figure size 720x432 with 1 Axes>"
      ]
     },
     "metadata": {
      "needs_background": "light"
     },
     "output_type": "display_data"
    }
   ],
   "source": [
    "f, ax = plt.subplots(figsize = (10, 6)) \n",
    "plt.boxplot(jeju_data['CSTMR_CNT'], sym = \"ro\", vert = 0)\n",
    "plt.title('CSTMR_CNT')\n",
    "plt.grid()"
   ]
  },
  {
   "cell_type": "code",
   "execution_count": 341,
   "metadata": {},
   "outputs": [
    {
     "data": {
      "text/html": [
       "<div>\n",
       "<style scoped>\n",
       "    .dataframe tbody tr th:only-of-type {\n",
       "        vertical-align: middle;\n",
       "    }\n",
       "\n",
       "    .dataframe tbody tr th {\n",
       "        vertical-align: top;\n",
       "    }\n",
       "\n",
       "    .dataframe thead th {\n",
       "        text-align: right;\n",
       "    }\n",
       "</style>\n",
       "<table border=\"1\" class=\"dataframe\">\n",
       "  <thead>\n",
       "    <tr style=\"text-align: right;\">\n",
       "      <th></th>\n",
       "      <th>REG_YYMM</th>\n",
       "      <th>CARD_SIDO_NM</th>\n",
       "      <th>CARD_CCG_NM</th>\n",
       "      <th>STD_CLSS_NM</th>\n",
       "      <th>HOM_SIDO_NM</th>\n",
       "      <th>HOM_CCG_NM</th>\n",
       "      <th>AGE</th>\n",
       "      <th>SEX_CTGO_CD</th>\n",
       "      <th>FLC</th>\n",
       "      <th>CSTMR_CNT</th>\n",
       "      <th>AMT</th>\n",
       "      <th>CNT</th>\n",
       "      <th>STD_CLSS_NM_cat</th>\n",
       "      <th>HOM_SIDO_NM_cat</th>\n",
       "      <th>CSTMR_CNT_log</th>\n",
       "    </tr>\n",
       "  </thead>\n",
       "  <tbody>\n",
       "    <tr>\n",
       "      <th>0</th>\n",
       "      <td>201901</td>\n",
       "      <td>제주</td>\n",
       "      <td>서귀포시</td>\n",
       "      <td>건강보조식품 소매업</td>\n",
       "      <td>부산</td>\n",
       "      <td>사하구</td>\n",
       "      <td>50s</td>\n",
       "      <td>2</td>\n",
       "      <td>4</td>\n",
       "      <td>4</td>\n",
       "      <td>1900000</td>\n",
       "      <td>4</td>\n",
       "      <td>소매업</td>\n",
       "      <td>경상권</td>\n",
       "      <td>1.609438</td>\n",
       "    </tr>\n",
       "    <tr>\n",
       "      <th>1</th>\n",
       "      <td>201901</td>\n",
       "      <td>제주</td>\n",
       "      <td>서귀포시</td>\n",
       "      <td>건강보조식품 소매업</td>\n",
       "      <td>인천</td>\n",
       "      <td>서구</td>\n",
       "      <td>50s</td>\n",
       "      <td>2</td>\n",
       "      <td>4</td>\n",
       "      <td>3</td>\n",
       "      <td>1300000</td>\n",
       "      <td>2</td>\n",
       "      <td>소매업</td>\n",
       "      <td>수도권</td>\n",
       "      <td>1.386294</td>\n",
       "    </tr>\n",
       "    <tr>\n",
       "      <th>2</th>\n",
       "      <td>201901</td>\n",
       "      <td>제주</td>\n",
       "      <td>서귀포시</td>\n",
       "      <td>건강보조식품 소매업</td>\n",
       "      <td>제주</td>\n",
       "      <td>서귀포시</td>\n",
       "      <td>30s</td>\n",
       "      <td>1</td>\n",
       "      <td>2</td>\n",
       "      <td>3</td>\n",
       "      <td>438000</td>\n",
       "      <td>3</td>\n",
       "      <td>소매업</td>\n",
       "      <td>제주권</td>\n",
       "      <td>1.386294</td>\n",
       "    </tr>\n",
       "    <tr>\n",
       "      <th>3</th>\n",
       "      <td>201901</td>\n",
       "      <td>제주</td>\n",
       "      <td>서귀포시</td>\n",
       "      <td>건강보조식품 소매업</td>\n",
       "      <td>제주</td>\n",
       "      <td>서귀포시</td>\n",
       "      <td>30s</td>\n",
       "      <td>2</td>\n",
       "      <td>2</td>\n",
       "      <td>4</td>\n",
       "      <td>552200</td>\n",
       "      <td>3</td>\n",
       "      <td>소매업</td>\n",
       "      <td>제주권</td>\n",
       "      <td>1.609438</td>\n",
       "    </tr>\n",
       "    <tr>\n",
       "      <th>4</th>\n",
       "      <td>201901</td>\n",
       "      <td>제주</td>\n",
       "      <td>서귀포시</td>\n",
       "      <td>건강보조식품 소매업</td>\n",
       "      <td>제주</td>\n",
       "      <td>서귀포시</td>\n",
       "      <td>40s</td>\n",
       "      <td>1</td>\n",
       "      <td>2</td>\n",
       "      <td>3</td>\n",
       "      <td>908000</td>\n",
       "      <td>3</td>\n",
       "      <td>소매업</td>\n",
       "      <td>제주권</td>\n",
       "      <td>1.386294</td>\n",
       "    </tr>\n",
       "  </tbody>\n",
       "</table>\n",
       "</div>"
      ],
      "text/plain": [
       "   REG_YYMM CARD_SIDO_NM CARD_CCG_NM STD_CLSS_NM HOM_SIDO_NM HOM_CCG_NM  AGE  \\\n",
       "0    201901           제주        서귀포시  건강보조식품 소매업          부산        사하구  50s   \n",
       "1    201901           제주        서귀포시  건강보조식품 소매업          인천         서구  50s   \n",
       "2    201901           제주        서귀포시  건강보조식품 소매업          제주       서귀포시  30s   \n",
       "3    201901           제주        서귀포시  건강보조식품 소매업          제주       서귀포시  30s   \n",
       "4    201901           제주        서귀포시  건강보조식품 소매업          제주       서귀포시  40s   \n",
       "\n",
       "   SEX_CTGO_CD  FLC  CSTMR_CNT      AMT  CNT STD_CLSS_NM_cat HOM_SIDO_NM_cat  \\\n",
       "0            2    4          4  1900000    4             소매업             경상권   \n",
       "1            2    4          3  1300000    2             소매업             수도권   \n",
       "2            1    2          3   438000    3             소매업             제주권   \n",
       "3            2    2          4   552200    3             소매업             제주권   \n",
       "4            1    2          3   908000    3             소매업             제주권   \n",
       "\n",
       "   CSTMR_CNT_log  \n",
       "0       1.609438  \n",
       "1       1.386294  \n",
       "2       1.386294  \n",
       "3       1.609438  \n",
       "4       1.386294  "
      ]
     },
     "execution_count": 341,
     "metadata": {},
     "output_type": "execute_result"
    }
   ],
   "source": [
    "jeju_data2['CSTMR_CNT_log'] = np.log1p(jeju_data2['CSTMR_CNT']) # log를 취한 CSTMR_CNT를 새로운 칼럼으로 생성\n",
    "jeju_data2.head()"
   ]
  },
  {
   "cell_type": "code",
   "execution_count": 342,
   "metadata": {},
   "outputs": [
    {
     "name": "stdout",
     "output_type": "stream",
     "text": [
      "Skewness: 2.016\n",
      "Kurtosis: 5.644\n"
     ]
    },
    {
     "data": {
      "image/png": "[encoded data removed]",
      "text/plain": [
       "<Figure size 720x432 with 1 Axes>"
      ]
     },
     "metadata": {
      "needs_background": "light"
     },
     "output_type": "display_data"
    }
   ],
   "source": [
    "# log를 취해 정규성을 높인 데이터를 그래프로 나타냄\n",
    "f, ax = plt.subplots(figsize = (10, 6)) \n",
    "sns.distplot(jeju_data2['CSTMR_CNT_log'], rug = False) \n",
    "print(\"Skewness: {:.3f}\".format(jeju_data2['CSTMR_CNT_log'].skew())) \n",
    "print(\"Kurtosis: {:.3f}\".format(jeju_data2['CSTMR_CNT_log'].kurt()))"
   ]
  },
  {
   "cell_type": "code",
   "execution_count": 343,
   "metadata": {},
   "outputs": [
    {
     "data": {
      "image/png": "[encoded data removed]",
      "text/plain": [
       "<Figure size 720x432 with 1 Axes>"
      ]
     },
     "metadata": {
      "needs_background": "light"
     },
     "output_type": "display_data"
    }
   ],
   "source": [
    "f, ax = plt.subplots(figsize = (10, 6)) \n",
    "plt.boxplot(jeju_data2['CSTMR_CNT_log'], sym = \"ro\", vert = 0)\n",
    "plt.title('CSTMR_CNT_log')\n",
    "plt.grid()"
   ]
  },
  {
   "cell_type": "code",
   "execution_count": 344,
   "metadata": {},
   "outputs": [
    {
     "data": {
      "text/plain": [
       "count    497503.000000\n",
       "mean          2.306394\n",
       "std           1.113831\n",
       "min           1.386294\n",
       "25%           1.386294\n",
       "50%           1.945910\n",
       "75%           2.708050\n",
       "max          10.398611\n",
       "Name: CSTMR_CNT_log, dtype: float64"
      ]
     },
     "execution_count": 344,
     "metadata": {},
     "output_type": "execute_result"
    }
   ],
   "source": [
    "jeju_data2['CSTMR_CNT_log'].describe() # 분산이 1에 근접"
   ]
  },
  {
   "cell_type": "code",
   "execution_count": 345,
   "metadata": {},
   "outputs": [],
   "source": [
    "# 이상치 탐지 (IQR 이용)\n",
    "Q1 = np.percentile(jeju_data2['CSTMR_CNT_log'], 25) \n",
    "Q3 = np.percentile(jeju_data2['CSTMR_CNT_log'], 75) \n",
    "IQR = Q3 - Q1 \n",
    "outlier_step = 1.5 * IQR \n",
    "outlier_list_col = jeju_data2[(jeju_data2['CSTMR_CNT_log'] < Q1 - outlier_step) | (jeju_data2['CSTMR_CNT_log'] > Q3 + outlier_step)].index "
   ]
  },
  {
   "cell_type": "code",
   "execution_count": 346,
   "metadata": {},
   "outputs": [
    {
     "data": {
      "text/html": [
       "<div>\n",
       "<style scoped>\n",
       "    .dataframe tbody tr th:only-of-type {\n",
       "        vertical-align: middle;\n",
       "    }\n",
       "\n",
       "    .dataframe tbody tr th {\n",
       "        vertical-align: top;\n",
       "    }\n",
       "\n",
       "    .dataframe thead th {\n",
       "        text-align: right;\n",
       "    }\n",
       "</style>\n",
       "<table border=\"1\" class=\"dataframe\">\n",
       "  <thead>\n",
       "    <tr style=\"text-align: right;\">\n",
       "      <th></th>\n",
       "      <th>REG_YYMM</th>\n",
       "      <th>CARD_SIDO_NM</th>\n",
       "      <th>CARD_CCG_NM</th>\n",
       "      <th>STD_CLSS_NM</th>\n",
       "      <th>HOM_SIDO_NM</th>\n",
       "      <th>HOM_CCG_NM</th>\n",
       "      <th>AGE</th>\n",
       "      <th>SEX_CTGO_CD</th>\n",
       "      <th>FLC</th>\n",
       "      <th>CSTMR_CNT</th>\n",
       "      <th>AMT</th>\n",
       "      <th>CNT</th>\n",
       "      <th>STD_CLSS_NM_cat</th>\n",
       "      <th>HOM_SIDO_NM_cat</th>\n",
       "      <th>CSTMR_CNT_log</th>\n",
       "    </tr>\n",
       "  </thead>\n",
       "  <tbody>\n",
       "    <tr>\n",
       "      <th>92</th>\n",
       "      <td>201901</td>\n",
       "      <td>제주</td>\n",
       "      <td>서귀포시</td>\n",
       "      <td>골프장 운영업</td>\n",
       "      <td>제주</td>\n",
       "      <td>서귀포시</td>\n",
       "      <td>50s</td>\n",
       "      <td>1</td>\n",
       "      <td>4</td>\n",
       "      <td>367</td>\n",
       "      <td>53547290</td>\n",
       "      <td>587</td>\n",
       "      <td>예술스포츠여가</td>\n",
       "      <td>제주권</td>\n",
       "      <td>5.908083</td>\n",
       "    </tr>\n",
       "    <tr>\n",
       "      <th>93</th>\n",
       "      <td>201901</td>\n",
       "      <td>제주</td>\n",
       "      <td>서귀포시</td>\n",
       "      <td>골프장 운영업</td>\n",
       "      <td>제주</td>\n",
       "      <td>서귀포시</td>\n",
       "      <td>50s</td>\n",
       "      <td>2</td>\n",
       "      <td>4</td>\n",
       "      <td>126</td>\n",
       "      <td>17173660</td>\n",
       "      <td>191</td>\n",
       "      <td>예술스포츠여가</td>\n",
       "      <td>제주권</td>\n",
       "      <td>4.844187</td>\n",
       "    </tr>\n",
       "    <tr>\n",
       "      <th>94</th>\n",
       "      <td>201901</td>\n",
       "      <td>제주</td>\n",
       "      <td>서귀포시</td>\n",
       "      <td>골프장 운영업</td>\n",
       "      <td>제주</td>\n",
       "      <td>서귀포시</td>\n",
       "      <td>60s</td>\n",
       "      <td>1</td>\n",
       "      <td>5</td>\n",
       "      <td>206</td>\n",
       "      <td>31371050</td>\n",
       "      <td>347</td>\n",
       "      <td>예술스포츠여가</td>\n",
       "      <td>제주권</td>\n",
       "      <td>5.332719</td>\n",
       "    </tr>\n",
       "    <tr>\n",
       "      <th>101</th>\n",
       "      <td>201901</td>\n",
       "      <td>제주</td>\n",
       "      <td>서귀포시</td>\n",
       "      <td>골프장 운영업</td>\n",
       "      <td>제주</td>\n",
       "      <td>제주시</td>\n",
       "      <td>40s</td>\n",
       "      <td>1</td>\n",
       "      <td>3</td>\n",
       "      <td>198</td>\n",
       "      <td>25394310</td>\n",
       "      <td>233</td>\n",
       "      <td>예술스포츠여가</td>\n",
       "      <td>제주권</td>\n",
       "      <td>5.293305</td>\n",
       "    </tr>\n",
       "    <tr>\n",
       "      <th>106</th>\n",
       "      <td>201901</td>\n",
       "      <td>제주</td>\n",
       "      <td>서귀포시</td>\n",
       "      <td>골프장 운영업</td>\n",
       "      <td>제주</td>\n",
       "      <td>제주시</td>\n",
       "      <td>50s</td>\n",
       "      <td>1</td>\n",
       "      <td>4</td>\n",
       "      <td>437</td>\n",
       "      <td>52902490</td>\n",
       "      <td>547</td>\n",
       "      <td>예술스포츠여가</td>\n",
       "      <td>제주권</td>\n",
       "      <td>6.082219</td>\n",
       "    </tr>\n",
       "    <tr>\n",
       "      <th>...</th>\n",
       "      <td>...</td>\n",
       "      <td>...</td>\n",
       "      <td>...</td>\n",
       "      <td>...</td>\n",
       "      <td>...</td>\n",
       "      <td>...</td>\n",
       "      <td>...</td>\n",
       "      <td>...</td>\n",
       "      <td>...</td>\n",
       "      <td>...</td>\n",
       "      <td>...</td>\n",
       "      <td>...</td>\n",
       "      <td>...</td>\n",
       "      <td>...</td>\n",
       "      <td>...</td>\n",
       "    </tr>\n",
       "    <tr>\n",
       "      <th>497489</th>\n",
       "      <td>202003</td>\n",
       "      <td>제주</td>\n",
       "      <td>제주시</td>\n",
       "      <td>화장품 및 방향제 소매업</td>\n",
       "      <td>제주</td>\n",
       "      <td>제주시</td>\n",
       "      <td>50s</td>\n",
       "      <td>1</td>\n",
       "      <td>4</td>\n",
       "      <td>434</td>\n",
       "      <td>41574712</td>\n",
       "      <td>544</td>\n",
       "      <td>소매업</td>\n",
       "      <td>제주권</td>\n",
       "      <td>6.075346</td>\n",
       "    </tr>\n",
       "    <tr>\n",
       "      <th>497491</th>\n",
       "      <td>202003</td>\n",
       "      <td>제주</td>\n",
       "      <td>제주시</td>\n",
       "      <td>화장품 및 방향제 소매업</td>\n",
       "      <td>제주</td>\n",
       "      <td>제주시</td>\n",
       "      <td>50s</td>\n",
       "      <td>2</td>\n",
       "      <td>4</td>\n",
       "      <td>878</td>\n",
       "      <td>68878380</td>\n",
       "      <td>1090</td>\n",
       "      <td>소매업</td>\n",
       "      <td>제주권</td>\n",
       "      <td>6.778785</td>\n",
       "    </tr>\n",
       "    <tr>\n",
       "      <th>497492</th>\n",
       "      <td>202003</td>\n",
       "      <td>제주</td>\n",
       "      <td>제주시</td>\n",
       "      <td>화장품 및 방향제 소매업</td>\n",
       "      <td>제주</td>\n",
       "      <td>제주시</td>\n",
       "      <td>60s</td>\n",
       "      <td>1</td>\n",
       "      <td>5</td>\n",
       "      <td>211</td>\n",
       "      <td>13819030</td>\n",
       "      <td>245</td>\n",
       "      <td>소매업</td>\n",
       "      <td>제주권</td>\n",
       "      <td>5.356586</td>\n",
       "    </tr>\n",
       "    <tr>\n",
       "      <th>497493</th>\n",
       "      <td>202003</td>\n",
       "      <td>제주</td>\n",
       "      <td>제주시</td>\n",
       "      <td>화장품 및 방향제 소매업</td>\n",
       "      <td>제주</td>\n",
       "      <td>제주시</td>\n",
       "      <td>60s</td>\n",
       "      <td>2</td>\n",
       "      <td>5</td>\n",
       "      <td>497</td>\n",
       "      <td>67171495</td>\n",
       "      <td>567</td>\n",
       "      <td>소매업</td>\n",
       "      <td>제주권</td>\n",
       "      <td>6.210600</td>\n",
       "    </tr>\n",
       "    <tr>\n",
       "      <th>497495</th>\n",
       "      <td>202003</td>\n",
       "      <td>제주</td>\n",
       "      <td>제주시</td>\n",
       "      <td>화장품 및 방향제 소매업</td>\n",
       "      <td>제주</td>\n",
       "      <td>제주시</td>\n",
       "      <td>70s</td>\n",
       "      <td>2</td>\n",
       "      <td>5</td>\n",
       "      <td>136</td>\n",
       "      <td>11110710</td>\n",
       "      <td>153</td>\n",
       "      <td>소매업</td>\n",
       "      <td>제주권</td>\n",
       "      <td>4.919981</td>\n",
       "    </tr>\n",
       "  </tbody>\n",
       "</table>\n",
       "<p>19288 rows × 15 columns</p>\n",
       "</div>"
      ],
      "text/plain": [
       "        REG_YYMM CARD_SIDO_NM CARD_CCG_NM    STD_CLSS_NM HOM_SIDO_NM  \\\n",
       "92        201901           제주        서귀포시        골프장 운영업          제주   \n",
       "93        201901           제주        서귀포시        골프장 운영업          제주   \n",
       "94        201901           제주        서귀포시        골프장 운영업          제주   \n",
       "101       201901           제주        서귀포시        골프장 운영업          제주   \n",
       "106       201901           제주        서귀포시        골프장 운영업          제주   \n",
       "...          ...          ...         ...            ...         ...   \n",
       "497489    202003           제주         제주시  화장품 및 방향제 소매업          제주   \n",
       "497491    202003           제주         제주시  화장품 및 방향제 소매업          제주   \n",
       "497492    202003           제주         제주시  화장품 및 방향제 소매업          제주   \n",
       "497493    202003           제주         제주시  화장품 및 방향제 소매업          제주   \n",
       "497495    202003           제주         제주시  화장품 및 방향제 소매업          제주   \n",
       "\n",
       "       HOM_CCG_NM  AGE  SEX_CTGO_CD  FLC  CSTMR_CNT       AMT   CNT  \\\n",
       "92           서귀포시  50s            1    4        367  53547290   587   \n",
       "93           서귀포시  50s            2    4        126  17173660   191   \n",
       "94           서귀포시  60s            1    5        206  31371050   347   \n",
       "101           제주시  40s            1    3        198  25394310   233   \n",
       "106           제주시  50s            1    4        437  52902490   547   \n",
       "...           ...  ...          ...  ...        ...       ...   ...   \n",
       "497489        제주시  50s            1    4        434  41574712   544   \n",
       "497491        제주시  50s            2    4        878  68878380  1090   \n",
       "497492        제주시  60s            1    5        211  13819030   245   \n",
       "497493        제주시  60s            2    5        497  67171495   567   \n",
       "497495        제주시  70s            2    5        136  11110710   153   \n",
       "\n",
       "       STD_CLSS_NM_cat HOM_SIDO_NM_cat  CSTMR_CNT_log  \n",
       "92             예술스포츠여가             제주권       5.908083  \n",
       "93             예술스포츠여가             제주권       4.844187  \n",
       "94             예술스포츠여가             제주권       5.332719  \n",
       "101            예술스포츠여가             제주권       5.293305  \n",
       "106            예술스포츠여가             제주권       6.082219  \n",
       "...                ...             ...            ...  \n",
       "497489             소매업             제주권       6.075346  \n",
       "497491             소매업             제주권       6.778785  \n",
       "497492             소매업             제주권       5.356586  \n",
       "497493             소매업             제주권       6.210600  \n",
       "497495             소매업             제주권       4.919981  \n",
       "\n",
       "[19288 rows x 15 columns]"
      ]
     },
     "execution_count": 346,
     "metadata": {},
     "output_type": "execute_result"
    }
   ],
   "source": [
    "jeju_data2.loc[outlier_list_col] # 이상치가 발견된 행을 모두 출력 ---> 19288개"
   ]
  },
  {
   "cell_type": "code",
   "execution_count": 347,
   "metadata": {},
   "outputs": [],
   "source": [
    "jeju_data2.drop(outlier_list_col , inplace=True) # 이상치가 있는 행 모두 제거"
   ]
  },
  {
   "cell_type": "code",
   "execution_count": 348,
   "metadata": {},
   "outputs": [
    {
     "data": {
      "text/plain": [
       "count    478215.000000\n",
       "mean          2.160003\n",
       "std           0.827068\n",
       "min           1.386294\n",
       "25%           1.386294\n",
       "50%           1.945910\n",
       "75%           2.639057\n",
       "max           4.682131\n",
       "Name: CSTMR_CNT_log, dtype: float64"
      ]
     },
     "execution_count": 348,
     "metadata": {},
     "output_type": "execute_result"
    }
   ],
   "source": [
    "jeju_data2['CSTMR_CNT_log'].describe() # 이상치를 처리하여 데이터의 개수가 감소함"
   ]
  },
  {
   "cell_type": "code",
   "execution_count": 350,
   "metadata": {},
   "outputs": [
    {
     "data": {
      "image/png": "[encoded data removed]",
      "text/plain": [
       "<Figure size 720x432 with 1 Axes>"
      ]
     },
     "metadata": {
      "needs_background": "light"
     },
     "output_type": "display_data"
    }
   ],
   "source": [
    "f, ax = plt.subplots(figsize = (10, 6)) \n",
    "plt.boxplot(jeju_data2['CSTMR_CNT_log'], sym = \"ro\", vert = 0)\n",
    "plt.title('CSTMR_CNT_log')\n",
    "plt.grid()"
   ]
  },
  {
   "cell_type": "markdown",
   "metadata": {},
   "source": [
    "### 이용금액 (AMT) "
   ]
  },
  {
   "cell_type": "code",
   "execution_count": 173,
   "metadata": {},
   "outputs": [
    {
     "data": {
      "text/plain": [
       "80000        927\n",
       "100000       888\n",
       "60000        884\n",
       "90000        862\n",
       "70000        839\n",
       "            ... \n",
       "927988014      1\n",
       "1567020        1\n",
       "302530         1\n",
       "81770790       1\n",
       "76965          1\n",
       "Name: AMT, Length: 161235, dtype: int64"
      ]
     },
     "execution_count": 173,
     "metadata": {},
     "output_type": "execute_result"
    }
   ],
   "source": [
    "jeju_data['AMT'].value_counts()"
   ]
  },
  {
   "cell_type": "code",
   "execution_count": 174,
   "metadata": {},
   "outputs": [
    {
     "data": {
      "text/plain": [
       "count    4.975030e+05\n",
       "mean     2.700652e+06\n",
       "std      2.781698e+07\n",
       "min      1.000000e+02\n",
       "25%      1.030000e+05\n",
       "50%      2.610200e+05\n",
       "75%      7.914000e+05\n",
       "max      2.349524e+09\n",
       "Name: AMT, dtype: float64"
      ]
     },
     "execution_count": 174,
     "metadata": {},
     "output_type": "execute_result"
    }
   ],
   "source": [
    "jeju_data['AMT'].describe() # mean과 50%값에 큰 차이, 높은 std와 max"
   ]
  },
  {
   "cell_type": "code",
   "execution_count": 351,
   "metadata": {},
   "outputs": [
    {
     "data": {
      "text/plain": [
       "<matplotlib.axes._subplots.AxesSubplot at 0x237cbec2f88>"
      ]
     },
     "execution_count": 351,
     "metadata": {},
     "output_type": "execute_result"
    },
    {
     "name": "stderr",
     "output_type": "stream",
     "text": [
      "C:\\Users\\Liv\\anaconda3\\lib\\site-packages\\matplotlib\\backends\\backend_agg.py:211: RuntimeWarning: Glyph 8722 missing from current font.\n",
      "  font.set_text(s, 0.0, flags=flags)\n",
      "C:\\Users\\Liv\\anaconda3\\lib\\site-packages\\matplotlib\\backends\\backend_agg.py:180: RuntimeWarning: Glyph 8722 missing from current font.\n",
      "  font.set_text(s, 0, flags=flags)\n"
     ]
    },
    {
     "data": {
      "image/png": "[encoded data removed]",
      "text/plain": [
       "<Figure size 720x432 with 1 Axes>"
      ]
     },
     "metadata": {
      "needs_background": "light"
     },
     "output_type": "display_data"
    }
   ],
   "source": [
    "f, ax = plt.subplots(figsize = (10, 6)) \n",
    "sns.distplot(jeju_data['AMT'], rug = True, hist = False) # 데이터의 분포가 치우쳐 있음"
   ]
  },
  {
   "cell_type": "code",
   "execution_count": 352,
   "metadata": {},
   "outputs": [
    {
     "data": {
      "image/png": "[encoded data removed]",
      "text/plain": [
       "<Figure size 720x432 with 1 Axes>"
      ]
     },
     "metadata": {
      "needs_background": "light"
     },
     "output_type": "display_data"
    }
   ],
   "source": [
    "f, ax = plt.subplots(figsize = (10, 6)) \n",
    "plt.boxplot(jeju_data['AMT'], sym = \"ro\", vert = 0)\n",
    "plt.title('AMT')\n",
    "plt.grid()"
   ]
  },
  {
   "cell_type": "code",
   "execution_count": 353,
   "metadata": {},
   "outputs": [
    {
     "data": {
      "text/html": [
       "<div>\n",
       "<style scoped>\n",
       "    .dataframe tbody tr th:only-of-type {\n",
       "        vertical-align: middle;\n",
       "    }\n",
       "\n",
       "    .dataframe tbody tr th {\n",
       "        vertical-align: top;\n",
       "    }\n",
       "\n",
       "    .dataframe thead th {\n",
       "        text-align: right;\n",
       "    }\n",
       "</style>\n",
       "<table border=\"1\" class=\"dataframe\">\n",
       "  <thead>\n",
       "    <tr style=\"text-align: right;\">\n",
       "      <th></th>\n",
       "      <th>REG_YYMM</th>\n",
       "      <th>CARD_SIDO_NM</th>\n",
       "      <th>CARD_CCG_NM</th>\n",
       "      <th>STD_CLSS_NM</th>\n",
       "      <th>HOM_SIDO_NM</th>\n",
       "      <th>HOM_CCG_NM</th>\n",
       "      <th>AGE</th>\n",
       "      <th>SEX_CTGO_CD</th>\n",
       "      <th>FLC</th>\n",
       "      <th>CSTMR_CNT</th>\n",
       "      <th>AMT</th>\n",
       "      <th>CNT</th>\n",
       "      <th>STD_CLSS_NM_cat</th>\n",
       "      <th>HOM_SIDO_NM_cat</th>\n",
       "      <th>CSTMR_CNT_log</th>\n",
       "      <th>AMT_log</th>\n",
       "    </tr>\n",
       "  </thead>\n",
       "  <tbody>\n",
       "    <tr>\n",
       "      <th>0</th>\n",
       "      <td>201901</td>\n",
       "      <td>제주</td>\n",
       "      <td>서귀포시</td>\n",
       "      <td>건강보조식품 소매업</td>\n",
       "      <td>부산</td>\n",
       "      <td>사하구</td>\n",
       "      <td>50s</td>\n",
       "      <td>2</td>\n",
       "      <td>4</td>\n",
       "      <td>4</td>\n",
       "      <td>1900000</td>\n",
       "      <td>4</td>\n",
       "      <td>소매업</td>\n",
       "      <td>경상권</td>\n",
       "      <td>1.609438</td>\n",
       "      <td>14.457365</td>\n",
       "    </tr>\n",
       "    <tr>\n",
       "      <th>1</th>\n",
       "      <td>201901</td>\n",
       "      <td>제주</td>\n",
       "      <td>서귀포시</td>\n",
       "      <td>건강보조식품 소매업</td>\n",
       "      <td>인천</td>\n",
       "      <td>서구</td>\n",
       "      <td>50s</td>\n",
       "      <td>2</td>\n",
       "      <td>4</td>\n",
       "      <td>3</td>\n",
       "      <td>1300000</td>\n",
       "      <td>2</td>\n",
       "      <td>소매업</td>\n",
       "      <td>수도권</td>\n",
       "      <td>1.386294</td>\n",
       "      <td>14.077876</td>\n",
       "    </tr>\n",
       "    <tr>\n",
       "      <th>2</th>\n",
       "      <td>201901</td>\n",
       "      <td>제주</td>\n",
       "      <td>서귀포시</td>\n",
       "      <td>건강보조식품 소매업</td>\n",
       "      <td>제주</td>\n",
       "      <td>서귀포시</td>\n",
       "      <td>30s</td>\n",
       "      <td>1</td>\n",
       "      <td>2</td>\n",
       "      <td>3</td>\n",
       "      <td>438000</td>\n",
       "      <td>3</td>\n",
       "      <td>소매업</td>\n",
       "      <td>제주권</td>\n",
       "      <td>1.386294</td>\n",
       "      <td>12.989976</td>\n",
       "    </tr>\n",
       "    <tr>\n",
       "      <th>3</th>\n",
       "      <td>201901</td>\n",
       "      <td>제주</td>\n",
       "      <td>서귀포시</td>\n",
       "      <td>건강보조식품 소매업</td>\n",
       "      <td>제주</td>\n",
       "      <td>서귀포시</td>\n",
       "      <td>30s</td>\n",
       "      <td>2</td>\n",
       "      <td>2</td>\n",
       "      <td>4</td>\n",
       "      <td>552200</td>\n",
       "      <td>3</td>\n",
       "      <td>소매업</td>\n",
       "      <td>제주권</td>\n",
       "      <td>1.609438</td>\n",
       "      <td>13.221667</td>\n",
       "    </tr>\n",
       "    <tr>\n",
       "      <th>4</th>\n",
       "      <td>201901</td>\n",
       "      <td>제주</td>\n",
       "      <td>서귀포시</td>\n",
       "      <td>건강보조식품 소매업</td>\n",
       "      <td>제주</td>\n",
       "      <td>서귀포시</td>\n",
       "      <td>40s</td>\n",
       "      <td>1</td>\n",
       "      <td>2</td>\n",
       "      <td>3</td>\n",
       "      <td>908000</td>\n",
       "      <td>3</td>\n",
       "      <td>소매업</td>\n",
       "      <td>제주권</td>\n",
       "      <td>1.386294</td>\n",
       "      <td>13.719001</td>\n",
       "    </tr>\n",
       "  </tbody>\n",
       "</table>\n",
       "</div>"
      ],
      "text/plain": [
       "   REG_YYMM CARD_SIDO_NM CARD_CCG_NM STD_CLSS_NM HOM_SIDO_NM HOM_CCG_NM  AGE  \\\n",
       "0    201901           제주        서귀포시  건강보조식품 소매업          부산        사하구  50s   \n",
       "1    201901           제주        서귀포시  건강보조식품 소매업          인천         서구  50s   \n",
       "2    201901           제주        서귀포시  건강보조식품 소매업          제주       서귀포시  30s   \n",
       "3    201901           제주        서귀포시  건강보조식품 소매업          제주       서귀포시  30s   \n",
       "4    201901           제주        서귀포시  건강보조식품 소매업          제주       서귀포시  40s   \n",
       "\n",
       "   SEX_CTGO_CD  FLC  CSTMR_CNT      AMT  CNT STD_CLSS_NM_cat HOM_SIDO_NM_cat  \\\n",
       "0            2    4          4  1900000    4             소매업             경상권   \n",
       "1            2    4          3  1300000    2             소매업             수도권   \n",
       "2            1    2          3   438000    3             소매업             제주권   \n",
       "3            2    2          4   552200    3             소매업             제주권   \n",
       "4            1    2          3   908000    3             소매업             제주권   \n",
       "\n",
       "   CSTMR_CNT_log    AMT_log  \n",
       "0       1.609438  14.457365  \n",
       "1       1.386294  14.077876  \n",
       "2       1.386294  12.989976  \n",
       "3       1.609438  13.221667  \n",
       "4       1.386294  13.719001  "
      ]
     },
     "execution_count": 353,
     "metadata": {},
     "output_type": "execute_result"
    }
   ],
   "source": [
    "jeju_data2['AMT_log'] = np.log1p(jeju_data2['AMT']) # log를 취한 AMT를 새로운 칼럼으로 생성\n",
    "jeju_data2.head()"
   ]
  },
  {
   "cell_type": "code",
   "execution_count": 354,
   "metadata": {},
   "outputs": [
    {
     "name": "stdout",
     "output_type": "stream",
     "text": [
      "Skewness: 0.258\n",
      "Kurtosis: -0.294\n"
     ]
    },
    {
     "data": {
      "image/png": "[encoded data removed]",
      "text/plain": [
       "<Figure size 720x432 with 1 Axes>"
      ]
     },
     "metadata": {
      "needs_background": "light"
     },
     "output_type": "display_data"
    }
   ],
   "source": [
    "# log를 취해 정규성을 높인 데이터를 그래프로 나타냄\n",
    "f, ax = plt.subplots(figsize = (10, 6)) \n",
    "sns.distplot(jeju_data2['AMT_log'], rug = False) \n",
    "print(\"Skewness: {:.3f}\".format(jeju_data2['AMT_log'].skew())) \n",
    "print(\"Kurtosis: {:.3f}\".format(jeju_data2['AMT_log'].kurt()))"
   ]
  },
  {
   "cell_type": "code",
   "execution_count": 355,
   "metadata": {},
   "outputs": [
    {
     "data": {
      "image/png": "[encoded data removed]",
      "text/plain": [
       "<Figure size 720x432 with 1 Axes>"
      ]
     },
     "metadata": {
      "needs_background": "light"
     },
     "output_type": "display_data"
    }
   ],
   "source": [
    "f, ax = plt.subplots(figsize = (10, 6)) \n",
    "plt.boxplot(jeju_data2['AMT_log'], sym = \"ro\", vert = 0)\n",
    "plt.title('AMT')\n",
    "plt.grid()"
   ]
  },
  {
   "cell_type": "code",
   "execution_count": 357,
   "metadata": {},
   "outputs": [
    {
     "data": {
      "text/plain": [
       "count    478215.000000\n",
       "mean         12.501382\n",
       "std           1.382814\n",
       "min           4.615121\n",
       "25%          11.506414\n",
       "50%          12.400821\n",
       "75%          13.422686\n",
       "max          19.638991\n",
       "Name: AMT_log, dtype: float64"
      ]
     },
     "execution_count": 357,
     "metadata": {},
     "output_type": "execute_result"
    }
   ],
   "source": [
    "jeju_data2['AMT_log'].describe() # 분산이 1에 근접"
   ]
  },
  {
   "cell_type": "code",
   "execution_count": 358,
   "metadata": {},
   "outputs": [],
   "source": [
    "# 이상치 탐지 (IQR 이용)\n",
    "Q1 = np.percentile(jeju_data2['AMT_log'], 25) \n",
    "Q3 = np.percentile(jeju_data2['AMT_log'], 75) \n",
    "IQR = Q3 - Q1 \n",
    "outlier_step = 1.5 * IQR \n",
    "outlier_list_col = jeju_data2[(jeju_data2['AMT_log'] < Q1 - outlier_step) | (jeju_data2['AMT_log'] > Q3 + outlier_step)].index "
   ]
  },
  {
   "cell_type": "code",
   "execution_count": 359,
   "metadata": {},
   "outputs": [
    {
     "data": {
      "text/html": [
       "<div>\n",
       "<style scoped>\n",
       "    .dataframe tbody tr th:only-of-type {\n",
       "        vertical-align: middle;\n",
       "    }\n",
       "\n",
       "    .dataframe tbody tr th {\n",
       "        vertical-align: top;\n",
       "    }\n",
       "\n",
       "    .dataframe thead th {\n",
       "        text-align: right;\n",
       "    }\n",
       "</style>\n",
       "<table border=\"1\" class=\"dataframe\">\n",
       "  <thead>\n",
       "    <tr style=\"text-align: right;\">\n",
       "      <th></th>\n",
       "      <th>REG_YYMM</th>\n",
       "      <th>CARD_SIDO_NM</th>\n",
       "      <th>CARD_CCG_NM</th>\n",
       "      <th>STD_CLSS_NM</th>\n",
       "      <th>HOM_SIDO_NM</th>\n",
       "      <th>HOM_CCG_NM</th>\n",
       "      <th>AGE</th>\n",
       "      <th>SEX_CTGO_CD</th>\n",
       "      <th>FLC</th>\n",
       "      <th>CSTMR_CNT</th>\n",
       "      <th>AMT</th>\n",
       "      <th>CNT</th>\n",
       "      <th>STD_CLSS_NM_cat</th>\n",
       "      <th>HOM_SIDO_NM_cat</th>\n",
       "      <th>CSTMR_CNT_log</th>\n",
       "      <th>AMT_log</th>\n",
       "    </tr>\n",
       "  </thead>\n",
       "  <tbody>\n",
       "    <tr>\n",
       "      <th>88</th>\n",
       "      <td>201901</td>\n",
       "      <td>제주</td>\n",
       "      <td>서귀포시</td>\n",
       "      <td>골프장 운영업</td>\n",
       "      <td>제주</td>\n",
       "      <td>서귀포시</td>\n",
       "      <td>40s</td>\n",
       "      <td>1</td>\n",
       "      <td>3</td>\n",
       "      <td>94</td>\n",
       "      <td>13478190</td>\n",
       "      <td>136</td>\n",
       "      <td>예술스포츠여가</td>\n",
       "      <td>제주권</td>\n",
       "      <td>4.553877</td>\n",
       "      <td>16.416583</td>\n",
       "    </tr>\n",
       "    <tr>\n",
       "      <th>104</th>\n",
       "      <td>201901</td>\n",
       "      <td>제주</td>\n",
       "      <td>서귀포시</td>\n",
       "      <td>골프장 운영업</td>\n",
       "      <td>제주</td>\n",
       "      <td>제주시</td>\n",
       "      <td>40s</td>\n",
       "      <td>2</td>\n",
       "      <td>3</td>\n",
       "      <td>57</td>\n",
       "      <td>30004040</td>\n",
       "      <td>76</td>\n",
       "      <td>예술스포츠여가</td>\n",
       "      <td>제주권</td>\n",
       "      <td>4.060443</td>\n",
       "      <td>17.216843</td>\n",
       "    </tr>\n",
       "    <tr>\n",
       "      <th>688</th>\n",
       "      <td>201901</td>\n",
       "      <td>제주</td>\n",
       "      <td>서귀포시</td>\n",
       "      <td>과실 및 채소 소매업</td>\n",
       "      <td>제주</td>\n",
       "      <td>서귀포시</td>\n",
       "      <td>40s</td>\n",
       "      <td>2</td>\n",
       "      <td>3</td>\n",
       "      <td>86</td>\n",
       "      <td>12738297</td>\n",
       "      <td>171</td>\n",
       "      <td>소매업</td>\n",
       "      <td>제주권</td>\n",
       "      <td>4.465908</td>\n",
       "      <td>16.360124</td>\n",
       "    </tr>\n",
       "    <tr>\n",
       "      <th>1652</th>\n",
       "      <td>201901</td>\n",
       "      <td>제주</td>\n",
       "      <td>서귀포시</td>\n",
       "      <td>기타 주점업</td>\n",
       "      <td>제주</td>\n",
       "      <td>서귀포시</td>\n",
       "      <td>30s</td>\n",
       "      <td>1</td>\n",
       "      <td>2</td>\n",
       "      <td>70</td>\n",
       "      <td>28415000</td>\n",
       "      <td>105</td>\n",
       "      <td>음식점업</td>\n",
       "      <td>제주권</td>\n",
       "      <td>4.262680</td>\n",
       "      <td>17.162428</td>\n",
       "    </tr>\n",
       "    <tr>\n",
       "      <th>1655</th>\n",
       "      <td>201901</td>\n",
       "      <td>제주</td>\n",
       "      <td>서귀포시</td>\n",
       "      <td>기타 주점업</td>\n",
       "      <td>제주</td>\n",
       "      <td>서귀포시</td>\n",
       "      <td>40s</td>\n",
       "      <td>1</td>\n",
       "      <td>2</td>\n",
       "      <td>49</td>\n",
       "      <td>15266000</td>\n",
       "      <td>74</td>\n",
       "      <td>음식점업</td>\n",
       "      <td>제주권</td>\n",
       "      <td>3.912023</td>\n",
       "      <td>16.541139</td>\n",
       "    </tr>\n",
       "    <tr>\n",
       "      <th>...</th>\n",
       "      <td>...</td>\n",
       "      <td>...</td>\n",
       "      <td>...</td>\n",
       "      <td>...</td>\n",
       "      <td>...</td>\n",
       "      <td>...</td>\n",
       "      <td>...</td>\n",
       "      <td>...</td>\n",
       "      <td>...</td>\n",
       "      <td>...</td>\n",
       "      <td>...</td>\n",
       "      <td>...</td>\n",
       "      <td>...</td>\n",
       "      <td>...</td>\n",
       "      <td>...</td>\n",
       "      <td>...</td>\n",
       "    </tr>\n",
       "    <tr>\n",
       "      <th>497440</th>\n",
       "      <td>202003</td>\n",
       "      <td>제주</td>\n",
       "      <td>제주시</td>\n",
       "      <td>호텔업</td>\n",
       "      <td>제주</td>\n",
       "      <td>서귀포시</td>\n",
       "      <td>60s</td>\n",
       "      <td>1</td>\n",
       "      <td>5</td>\n",
       "      <td>4</td>\n",
       "      <td>17679800</td>\n",
       "      <td>6</td>\n",
       "      <td>숙박업</td>\n",
       "      <td>제주권</td>\n",
       "      <td>1.609438</td>\n",
       "      <td>16.687933</td>\n",
       "    </tr>\n",
       "    <tr>\n",
       "      <th>497443</th>\n",
       "      <td>202003</td>\n",
       "      <td>제주</td>\n",
       "      <td>제주시</td>\n",
       "      <td>호텔업</td>\n",
       "      <td>제주</td>\n",
       "      <td>제주시</td>\n",
       "      <td>20s</td>\n",
       "      <td>2</td>\n",
       "      <td>2</td>\n",
       "      <td>3</td>\n",
       "      <td>20350000</td>\n",
       "      <td>3</td>\n",
       "      <td>숙박업</td>\n",
       "      <td>제주권</td>\n",
       "      <td>1.386294</td>\n",
       "      <td>16.828592</td>\n",
       "    </tr>\n",
       "    <tr>\n",
       "      <th>497451</th>\n",
       "      <td>202003</td>\n",
       "      <td>제주</td>\n",
       "      <td>제주시</td>\n",
       "      <td>호텔업</td>\n",
       "      <td>제주</td>\n",
       "      <td>제주시</td>\n",
       "      <td>50s</td>\n",
       "      <td>1</td>\n",
       "      <td>4</td>\n",
       "      <td>103</td>\n",
       "      <td>23053481</td>\n",
       "      <td>153</td>\n",
       "      <td>숙박업</td>\n",
       "      <td>제주권</td>\n",
       "      <td>4.644391</td>\n",
       "      <td>16.953327</td>\n",
       "    </tr>\n",
       "    <tr>\n",
       "      <th>497452</th>\n",
       "      <td>202003</td>\n",
       "      <td>제주</td>\n",
       "      <td>제주시</td>\n",
       "      <td>호텔업</td>\n",
       "      <td>제주</td>\n",
       "      <td>제주시</td>\n",
       "      <td>50s</td>\n",
       "      <td>2</td>\n",
       "      <td>4</td>\n",
       "      <td>58</td>\n",
       "      <td>67385935</td>\n",
       "      <td>82</td>\n",
       "      <td>숙박업</td>\n",
       "      <td>제주권</td>\n",
       "      <td>4.077537</td>\n",
       "      <td>18.025947</td>\n",
       "    </tr>\n",
       "    <tr>\n",
       "      <th>497453</th>\n",
       "      <td>202003</td>\n",
       "      <td>제주</td>\n",
       "      <td>제주시</td>\n",
       "      <td>호텔업</td>\n",
       "      <td>제주</td>\n",
       "      <td>제주시</td>\n",
       "      <td>60s</td>\n",
       "      <td>1</td>\n",
       "      <td>5</td>\n",
       "      <td>79</td>\n",
       "      <td>73528090</td>\n",
       "      <td>118</td>\n",
       "      <td>숙박업</td>\n",
       "      <td>제주권</td>\n",
       "      <td>4.382027</td>\n",
       "      <td>18.113178</td>\n",
       "    </tr>\n",
       "  </tbody>\n",
       "</table>\n",
       "<p>1020 rows × 16 columns</p>\n",
       "</div>"
      ],
      "text/plain": [
       "        REG_YYMM CARD_SIDO_NM CARD_CCG_NM  STD_CLSS_NM HOM_SIDO_NM HOM_CCG_NM  \\\n",
       "88        201901           제주        서귀포시      골프장 운영업          제주       서귀포시   \n",
       "104       201901           제주        서귀포시      골프장 운영업          제주        제주시   \n",
       "688       201901           제주        서귀포시  과실 및 채소 소매업          제주       서귀포시   \n",
       "1652      201901           제주        서귀포시       기타 주점업          제주       서귀포시   \n",
       "1655      201901           제주        서귀포시       기타 주점업          제주       서귀포시   \n",
       "...          ...          ...         ...          ...         ...        ...   \n",
       "497440    202003           제주         제주시          호텔업          제주       서귀포시   \n",
       "497443    202003           제주         제주시          호텔업          제주        제주시   \n",
       "497451    202003           제주         제주시          호텔업          제주        제주시   \n",
       "497452    202003           제주         제주시          호텔업          제주        제주시   \n",
       "497453    202003           제주         제주시          호텔업          제주        제주시   \n",
       "\n",
       "        AGE  SEX_CTGO_CD  FLC  CSTMR_CNT       AMT  CNT STD_CLSS_NM_cat  \\\n",
       "88      40s            1    3         94  13478190  136         예술스포츠여가   \n",
       "104     40s            2    3         57  30004040   76         예술스포츠여가   \n",
       "688     40s            2    3         86  12738297  171             소매업   \n",
       "1652    30s            1    2         70  28415000  105            음식점업   \n",
       "1655    40s            1    2         49  15266000   74            음식점업   \n",
       "...     ...          ...  ...        ...       ...  ...             ...   \n",
       "497440  60s            1    5          4  17679800    6             숙박업   \n",
       "497443  20s            2    2          3  20350000    3             숙박업   \n",
       "497451  50s            1    4        103  23053481  153             숙박업   \n",
       "497452  50s            2    4         58  67385935   82             숙박업   \n",
       "497453  60s            1    5         79  73528090  118             숙박업   \n",
       "\n",
       "       HOM_SIDO_NM_cat  CSTMR_CNT_log    AMT_log  \n",
       "88                 제주권       4.553877  16.416583  \n",
       "104                제주권       4.060443  17.216843  \n",
       "688                제주권       4.465908  16.360124  \n",
       "1652               제주권       4.262680  17.162428  \n",
       "1655               제주권       3.912023  16.541139  \n",
       "...                ...            ...        ...  \n",
       "497440             제주권       1.609438  16.687933  \n",
       "497443             제주권       1.386294  16.828592  \n",
       "497451             제주권       4.644391  16.953327  \n",
       "497452             제주권       4.077537  18.025947  \n",
       "497453             제주권       4.382027  18.113178  \n",
       "\n",
       "[1020 rows x 16 columns]"
      ]
     },
     "execution_count": 359,
     "metadata": {},
     "output_type": "execute_result"
    }
   ],
   "source": [
    "jeju_data2.loc[outlier_list_col] # 이상치가 발견된 행을 모두 출력 ---> 1020개"
   ]
  },
  {
   "cell_type": "code",
   "execution_count": 360,
   "metadata": {},
   "outputs": [],
   "source": [
    "jeju_data2.drop(outlier_list_col , inplace=True) # 이상치가 있는 행 모두 제거"
   ]
  },
  {
   "cell_type": "code",
   "execution_count": 362,
   "metadata": {},
   "outputs": [
    {
     "data": {
      "text/plain": [
       "count    477195.000000\n",
       "mean         12.495279\n",
       "std           1.370975\n",
       "min           8.639588\n",
       "25%          11.504903\n",
       "50%          12.397565\n",
       "75%          13.416213\n",
       "max          16.296777\n",
       "Name: AMT_log, dtype: float64"
      ]
     },
     "execution_count": 362,
     "metadata": {},
     "output_type": "execute_result"
    }
   ],
   "source": [
    "jeju_data2['AMT_log'].describe() # 이상치를 처리하여 데이터의 개수가 감소함"
   ]
  },
  {
   "cell_type": "code",
   "execution_count": 363,
   "metadata": {},
   "outputs": [
    {
     "data": {
      "image/png": "[encoded data removed]",
      "text/plain": [
       "<Figure size 720x432 with 1 Axes>"
      ]
     },
     "metadata": {
      "needs_background": "light"
     },
     "output_type": "display_data"
    }
   ],
   "source": [
    "f, ax = plt.subplots(figsize = (10, 6)) \n",
    "plt.boxplot(jeju_data2['AMT_log'], sym = \"ro\", vert = 0)\n",
    "plt.title('AMT_log')\n",
    "plt.grid()"
   ]
  },
  {
   "cell_type": "markdown",
   "metadata": {},
   "source": [
    "### 이용건수 (CNT) "
   ]
  },
  {
   "cell_type": "code",
   "execution_count": 364,
   "metadata": {},
   "outputs": [
    {
     "data": {
      "text/plain": [
       "3        79413\n",
       "4        60337\n",
       "5        40212\n",
       "6        33111\n",
       "7        27927\n",
       "         ...  \n",
       "32620        1\n",
       "2241         1\n",
       "9831         1\n",
       "14535        1\n",
       "3713         1\n",
       "Name: CNT, Length: 4555, dtype: int64"
      ]
     },
     "execution_count": 364,
     "metadata": {},
     "output_type": "execute_result"
    }
   ],
   "source": [
    "jeju_data['CNT'].value_counts()"
   ]
  },
  {
   "cell_type": "code",
   "execution_count": 365,
   "metadata": {},
   "outputs": [
    {
     "data": {
      "text/plain": [
       "count    497503.000000\n",
       "mean         90.790825\n",
       "std        1174.123621\n",
       "min           1.000000\n",
       "25%           4.000000\n",
       "50%           8.000000\n",
       "75%          20.000000\n",
       "max       84947.000000\n",
       "Name: CNT, dtype: float64"
      ]
     },
     "execution_count": 365,
     "metadata": {},
     "output_type": "execute_result"
    }
   ],
   "source": [
    "jeju_data['CNT'].describe() # mean과 50%값에 큰 차이, 높은 std와 max"
   ]
  },
  {
   "cell_type": "code",
   "execution_count": 366,
   "metadata": {},
   "outputs": [
    {
     "data": {
      "text/plain": [
       "<matplotlib.axes._subplots.AxesSubplot at 0x237fbab3b48>"
      ]
     },
     "execution_count": 366,
     "metadata": {},
     "output_type": "execute_result"
    },
    {
     "data": {
      "image/png": "[encoded data removed]",
      "text/plain": [
       "<Figure size 720x432 with 1 Axes>"
      ]
     },
     "metadata": {
      "needs_background": "light"
     },
     "output_type": "display_data"
    }
   ],
   "source": [
    "f, ax = plt.subplots(figsize = (10, 6)) \n",
    "sns.distplot(jeju_data['CNT'], rug = True, hist = False) # 데이터의 분포가 치우쳐 있음"
   ]
  },
  {
   "cell_type": "code",
   "execution_count": 367,
   "metadata": {},
   "outputs": [
    {
     "data": {
      "image/png": "[encoded data removed]",
      "text/plain": [
       "<Figure size 720x432 with 1 Axes>"
      ]
     },
     "metadata": {
      "needs_background": "light"
     },
     "output_type": "display_data"
    }
   ],
   "source": [
    "f, ax = plt.subplots(figsize = (10, 6)) \n",
    "plt.boxplot(jeju_data['CNT'], sym = \"ro\", vert = 0)\n",
    "plt.title('CNT')\n",
    "plt.grid()"
   ]
  },
  {
   "cell_type": "code",
   "execution_count": 369,
   "metadata": {},
   "outputs": [
    {
     "data": {
      "text/html": [
       "<div>\n",
       "<style scoped>\n",
       "    .dataframe tbody tr th:only-of-type {\n",
       "        vertical-align: middle;\n",
       "    }\n",
       "\n",
       "    .dataframe tbody tr th {\n",
       "        vertical-align: top;\n",
       "    }\n",
       "\n",
       "    .dataframe thead th {\n",
       "        text-align: right;\n",
       "    }\n",
       "</style>\n",
       "<table border=\"1\" class=\"dataframe\">\n",
       "  <thead>\n",
       "    <tr style=\"text-align: right;\">\n",
       "      <th></th>\n",
       "      <th>REG_YYMM</th>\n",
       "      <th>CARD_SIDO_NM</th>\n",
       "      <th>CARD_CCG_NM</th>\n",
       "      <th>STD_CLSS_NM</th>\n",
       "      <th>HOM_SIDO_NM</th>\n",
       "      <th>HOM_CCG_NM</th>\n",
       "      <th>AGE</th>\n",
       "      <th>SEX_CTGO_CD</th>\n",
       "      <th>FLC</th>\n",
       "      <th>CSTMR_CNT</th>\n",
       "      <th>AMT</th>\n",
       "      <th>CNT</th>\n",
       "      <th>STD_CLSS_NM_cat</th>\n",
       "      <th>HOM_SIDO_NM_cat</th>\n",
       "      <th>CSTMR_CNT_log</th>\n",
       "      <th>AMT_log</th>\n",
       "      <th>CNT_log</th>\n",
       "    </tr>\n",
       "  </thead>\n",
       "  <tbody>\n",
       "    <tr>\n",
       "      <th>0</th>\n",
       "      <td>201901</td>\n",
       "      <td>제주</td>\n",
       "      <td>서귀포시</td>\n",
       "      <td>건강보조식품 소매업</td>\n",
       "      <td>부산</td>\n",
       "      <td>사하구</td>\n",
       "      <td>50s</td>\n",
       "      <td>2</td>\n",
       "      <td>4</td>\n",
       "      <td>4</td>\n",
       "      <td>1900000</td>\n",
       "      <td>4</td>\n",
       "      <td>소매업</td>\n",
       "      <td>경상권</td>\n",
       "      <td>1.609438</td>\n",
       "      <td>14.457365</td>\n",
       "      <td>1.609438</td>\n",
       "    </tr>\n",
       "    <tr>\n",
       "      <th>1</th>\n",
       "      <td>201901</td>\n",
       "      <td>제주</td>\n",
       "      <td>서귀포시</td>\n",
       "      <td>건강보조식품 소매업</td>\n",
       "      <td>인천</td>\n",
       "      <td>서구</td>\n",
       "      <td>50s</td>\n",
       "      <td>2</td>\n",
       "      <td>4</td>\n",
       "      <td>3</td>\n",
       "      <td>1300000</td>\n",
       "      <td>2</td>\n",
       "      <td>소매업</td>\n",
       "      <td>수도권</td>\n",
       "      <td>1.386294</td>\n",
       "      <td>14.077876</td>\n",
       "      <td>1.098612</td>\n",
       "    </tr>\n",
       "    <tr>\n",
       "      <th>2</th>\n",
       "      <td>201901</td>\n",
       "      <td>제주</td>\n",
       "      <td>서귀포시</td>\n",
       "      <td>건강보조식품 소매업</td>\n",
       "      <td>제주</td>\n",
       "      <td>서귀포시</td>\n",
       "      <td>30s</td>\n",
       "      <td>1</td>\n",
       "      <td>2</td>\n",
       "      <td>3</td>\n",
       "      <td>438000</td>\n",
       "      <td>3</td>\n",
       "      <td>소매업</td>\n",
       "      <td>제주권</td>\n",
       "      <td>1.386294</td>\n",
       "      <td>12.989976</td>\n",
       "      <td>1.386294</td>\n",
       "    </tr>\n",
       "    <tr>\n",
       "      <th>3</th>\n",
       "      <td>201901</td>\n",
       "      <td>제주</td>\n",
       "      <td>서귀포시</td>\n",
       "      <td>건강보조식품 소매업</td>\n",
       "      <td>제주</td>\n",
       "      <td>서귀포시</td>\n",
       "      <td>30s</td>\n",
       "      <td>2</td>\n",
       "      <td>2</td>\n",
       "      <td>4</td>\n",
       "      <td>552200</td>\n",
       "      <td>3</td>\n",
       "      <td>소매업</td>\n",
       "      <td>제주권</td>\n",
       "      <td>1.609438</td>\n",
       "      <td>13.221667</td>\n",
       "      <td>1.386294</td>\n",
       "    </tr>\n",
       "    <tr>\n",
       "      <th>4</th>\n",
       "      <td>201901</td>\n",
       "      <td>제주</td>\n",
       "      <td>서귀포시</td>\n",
       "      <td>건강보조식품 소매업</td>\n",
       "      <td>제주</td>\n",
       "      <td>서귀포시</td>\n",
       "      <td>40s</td>\n",
       "      <td>1</td>\n",
       "      <td>2</td>\n",
       "      <td>3</td>\n",
       "      <td>908000</td>\n",
       "      <td>3</td>\n",
       "      <td>소매업</td>\n",
       "      <td>제주권</td>\n",
       "      <td>1.386294</td>\n",
       "      <td>13.719001</td>\n",
       "      <td>1.386294</td>\n",
       "    </tr>\n",
       "  </tbody>\n",
       "</table>\n",
       "</div>"
      ],
      "text/plain": [
       "   REG_YYMM CARD_SIDO_NM CARD_CCG_NM STD_CLSS_NM HOM_SIDO_NM HOM_CCG_NM  AGE  \\\n",
       "0    201901           제주        서귀포시  건강보조식품 소매업          부산        사하구  50s   \n",
       "1    201901           제주        서귀포시  건강보조식품 소매업          인천         서구  50s   \n",
       "2    201901           제주        서귀포시  건강보조식품 소매업          제주       서귀포시  30s   \n",
       "3    201901           제주        서귀포시  건강보조식품 소매업          제주       서귀포시  30s   \n",
       "4    201901           제주        서귀포시  건강보조식품 소매업          제주       서귀포시  40s   \n",
       "\n",
       "   SEX_CTGO_CD  FLC  CSTMR_CNT      AMT  CNT STD_CLSS_NM_cat HOM_SIDO_NM_cat  \\\n",
       "0            2    4          4  1900000    4             소매업             경상권   \n",
       "1            2    4          3  1300000    2             소매업             수도권   \n",
       "2            1    2          3   438000    3             소매업             제주권   \n",
       "3            2    2          4   552200    3             소매업             제주권   \n",
       "4            1    2          3   908000    3             소매업             제주권   \n",
       "\n",
       "   CSTMR_CNT_log    AMT_log   CNT_log  \n",
       "0       1.609438  14.457365  1.609438  \n",
       "1       1.386294  14.077876  1.098612  \n",
       "2       1.386294  12.989976  1.386294  \n",
       "3       1.609438  13.221667  1.386294  \n",
       "4       1.386294  13.719001  1.386294  "
      ]
     },
     "execution_count": 369,
     "metadata": {},
     "output_type": "execute_result"
    }
   ],
   "source": [
    "jeju_data2['CNT_log'] = np.log1p(jeju_data2['CNT']) # log를 취한 CNT를 새로운 칼럼으로 생성\n",
    "jeju_data2.head()"
   ]
  },
  {
   "cell_type": "code",
   "execution_count": 370,
   "metadata": {},
   "outputs": [
    {
     "name": "stdout",
     "output_type": "stream",
     "text": [
      "Skewness: 0.989\n",
      "Kurtosis: 0.217\n"
     ]
    },
    {
     "data": {
      "image/png": "[encoded data removed]",
      "text/plain": [
       "<Figure size 720x432 with 1 Axes>"
      ]
     },
     "metadata": {
      "needs_background": "light"
     },
     "output_type": "display_data"
    }
   ],
   "source": [
    "# log를 취해 정규성을 높인 데이터를 그래프로 나타냄\n",
    "f, ax = plt.subplots(figsize = (10, 6)) \n",
    "sns.distplot(jeju_data2['CNT_log'], rug = False) \n",
    "print(\"Skewness: {:.3f}\".format(jeju_data2['CNT_log'].skew())) \n",
    "print(\"Kurtosis: {:.3f}\".format(jeju_data2['CNT_log'].kurt()))"
   ]
  },
  {
   "cell_type": "code",
   "execution_count": 371,
   "metadata": {},
   "outputs": [
    {
     "data": {
      "image/png": "[encoded data removed]",
      "text/plain": [
       "<Figure size 720x432 with 1 Axes>"
      ]
     },
     "metadata": {
      "needs_background": "light"
     },
     "output_type": "display_data"
    }
   ],
   "source": [
    "f, ax = plt.subplots(figsize = (10, 6)) \n",
    "plt.boxplot(jeju_data2['CNT_log'], sym = \"ro\", vert = 0)\n",
    "plt.title('CNT_log')\n",
    "plt.grid()"
   ]
  },
  {
   "cell_type": "code",
   "execution_count": 373,
   "metadata": {},
   "outputs": [
    {
     "data": {
      "text/plain": [
       "count    477195.000000\n",
       "mean          2.369987\n",
       "std           0.919333\n",
       "min           0.693147\n",
       "25%           1.609438\n",
       "50%           2.079442\n",
       "75%           2.890372\n",
       "max           6.006353\n",
       "Name: CNT_log, dtype: float64"
      ]
     },
     "execution_count": 373,
     "metadata": {},
     "output_type": "execute_result"
    }
   ],
   "source": [
    "jeju_data2['CNT_log'].describe() # 분산이 1에 근접"
   ]
  },
  {
   "cell_type": "code",
   "execution_count": 374,
   "metadata": {},
   "outputs": [],
   "source": [
    "# 이상치 탐지 (IQR 이용)\n",
    "Q1 = np.percentile(jeju_data2['CNT_log'], 25) \n",
    "Q3 = np.percentile(jeju_data2['CNT_log'], 75) \n",
    "IQR = Q3 - Q1 \n",
    "outlier_step = 1.5 * IQR \n",
    "outlier_list_col = jeju_data2[(jeju_data2['CNT_log'] < Q1 - outlier_step) | (jeju_data2['CNT_log'] > Q3 + outlier_step)].index "
   ]
  },
  {
   "cell_type": "code",
   "execution_count": 376,
   "metadata": {},
   "outputs": [
    {
     "data": {
      "text/html": [
       "<div>\n",
       "<style scoped>\n",
       "    .dataframe tbody tr th:only-of-type {\n",
       "        vertical-align: middle;\n",
       "    }\n",
       "\n",
       "    .dataframe tbody tr th {\n",
       "        vertical-align: top;\n",
       "    }\n",
       "\n",
       "    .dataframe thead th {\n",
       "        text-align: right;\n",
       "    }\n",
       "</style>\n",
       "<table border=\"1\" class=\"dataframe\">\n",
       "  <thead>\n",
       "    <tr style=\"text-align: right;\">\n",
       "      <th></th>\n",
       "      <th>REG_YYMM</th>\n",
       "      <th>CARD_SIDO_NM</th>\n",
       "      <th>CARD_CCG_NM</th>\n",
       "      <th>STD_CLSS_NM</th>\n",
       "      <th>HOM_SIDO_NM</th>\n",
       "      <th>HOM_CCG_NM</th>\n",
       "      <th>AGE</th>\n",
       "      <th>SEX_CTGO_CD</th>\n",
       "      <th>FLC</th>\n",
       "      <th>CSTMR_CNT</th>\n",
       "      <th>AMT</th>\n",
       "      <th>CNT</th>\n",
       "      <th>STD_CLSS_NM_cat</th>\n",
       "      <th>HOM_SIDO_NM_cat</th>\n",
       "      <th>CSTMR_CNT_log</th>\n",
       "      <th>AMT_log</th>\n",
       "      <th>CNT_log</th>\n",
       "    </tr>\n",
       "  </thead>\n",
       "  <tbody>\n",
       "    <tr>\n",
       "      <th>96</th>\n",
       "      <td>201901</td>\n",
       "      <td>제주</td>\n",
       "      <td>서귀포시</td>\n",
       "      <td>골프장 운영업</td>\n",
       "      <td>제주</td>\n",
       "      <td>서귀포시</td>\n",
       "      <td>70s</td>\n",
       "      <td>1</td>\n",
       "      <td>5</td>\n",
       "      <td>52</td>\n",
       "      <td>9396700</td>\n",
       "      <td>153</td>\n",
       "      <td>예술스포츠여가</td>\n",
       "      <td>제주권</td>\n",
       "      <td>3.970292</td>\n",
       "      <td>16.055869</td>\n",
       "      <td>5.036953</td>\n",
       "    </tr>\n",
       "    <tr>\n",
       "      <th>685</th>\n",
       "      <td>201901</td>\n",
       "      <td>제주</td>\n",
       "      <td>서귀포시</td>\n",
       "      <td>과실 및 채소 소매업</td>\n",
       "      <td>제주</td>\n",
       "      <td>서귀포시</td>\n",
       "      <td>40s</td>\n",
       "      <td>1</td>\n",
       "      <td>3</td>\n",
       "      <td>81</td>\n",
       "      <td>7890800</td>\n",
       "      <td>152</td>\n",
       "      <td>소매업</td>\n",
       "      <td>제주권</td>\n",
       "      <td>4.406719</td>\n",
       "      <td>15.881208</td>\n",
       "      <td>5.030438</td>\n",
       "    </tr>\n",
       "    <tr>\n",
       "      <th>1543</th>\n",
       "      <td>201901</td>\n",
       "      <td>제주</td>\n",
       "      <td>서귀포시</td>\n",
       "      <td>기타 대형 종합 소매업</td>\n",
       "      <td>제주</td>\n",
       "      <td>서귀포시</td>\n",
       "      <td>20s</td>\n",
       "      <td>2</td>\n",
       "      <td>2</td>\n",
       "      <td>102</td>\n",
       "      <td>7098410</td>\n",
       "      <td>167</td>\n",
       "      <td>소매업</td>\n",
       "      <td>제주권</td>\n",
       "      <td>4.634729</td>\n",
       "      <td>15.775382</td>\n",
       "      <td>5.123964</td>\n",
       "    </tr>\n",
       "    <tr>\n",
       "      <th>1580</th>\n",
       "      <td>201901</td>\n",
       "      <td>제주</td>\n",
       "      <td>서귀포시</td>\n",
       "      <td>기타 대형 종합 소매업</td>\n",
       "      <td>제주</td>\n",
       "      <td>제주시</td>\n",
       "      <td>60s</td>\n",
       "      <td>1</td>\n",
       "      <td>5</td>\n",
       "      <td>95</td>\n",
       "      <td>8918610</td>\n",
       "      <td>164</td>\n",
       "      <td>소매업</td>\n",
       "      <td>제주권</td>\n",
       "      <td>4.564348</td>\n",
       "      <td>16.003651</td>\n",
       "      <td>5.105945</td>\n",
       "    </tr>\n",
       "    <tr>\n",
       "      <th>1629</th>\n",
       "      <td>201901</td>\n",
       "      <td>제주</td>\n",
       "      <td>서귀포시</td>\n",
       "      <td>기타 외국식 음식점업</td>\n",
       "      <td>제주</td>\n",
       "      <td>서귀포시</td>\n",
       "      <td>70s</td>\n",
       "      <td>1</td>\n",
       "      <td>5</td>\n",
       "      <td>101</td>\n",
       "      <td>5901700</td>\n",
       "      <td>145</td>\n",
       "      <td>음식점업</td>\n",
       "      <td>제주권</td>\n",
       "      <td>4.624973</td>\n",
       "      <td>15.590751</td>\n",
       "      <td>4.983607</td>\n",
       "    </tr>\n",
       "    <tr>\n",
       "      <th>...</th>\n",
       "      <td>...</td>\n",
       "      <td>...</td>\n",
       "      <td>...</td>\n",
       "      <td>...</td>\n",
       "      <td>...</td>\n",
       "      <td>...</td>\n",
       "      <td>...</td>\n",
       "      <td>...</td>\n",
       "      <td>...</td>\n",
       "      <td>...</td>\n",
       "      <td>...</td>\n",
       "      <td>...</td>\n",
       "      <td>...</td>\n",
       "      <td>...</td>\n",
       "      <td>...</td>\n",
       "      <td>...</td>\n",
       "      <td>...</td>\n",
       "    </tr>\n",
       "    <tr>\n",
       "      <th>497207</th>\n",
       "      <td>202003</td>\n",
       "      <td>제주</td>\n",
       "      <td>제주시</td>\n",
       "      <td>한식 음식점업</td>\n",
       "      <td>인천</td>\n",
       "      <td>부평구</td>\n",
       "      <td>50s</td>\n",
       "      <td>1</td>\n",
       "      <td>4</td>\n",
       "      <td>83</td>\n",
       "      <td>5600500</td>\n",
       "      <td>124</td>\n",
       "      <td>음식점업</td>\n",
       "      <td>수도권</td>\n",
       "      <td>4.430817</td>\n",
       "      <td>15.538367</td>\n",
       "      <td>4.828314</td>\n",
       "    </tr>\n",
       "    <tr>\n",
       "      <th>497215</th>\n",
       "      <td>202003</td>\n",
       "      <td>제주</td>\n",
       "      <td>제주시</td>\n",
       "      <td>한식 음식점업</td>\n",
       "      <td>인천</td>\n",
       "      <td>서구</td>\n",
       "      <td>30s</td>\n",
       "      <td>1</td>\n",
       "      <td>2</td>\n",
       "      <td>106</td>\n",
       "      <td>4193400</td>\n",
       "      <td>127</td>\n",
       "      <td>음식점업</td>\n",
       "      <td>수도권</td>\n",
       "      <td>4.672829</td>\n",
       "      <td>15.249023</td>\n",
       "      <td>4.852030</td>\n",
       "    </tr>\n",
       "    <tr>\n",
       "      <th>497313</th>\n",
       "      <td>202003</td>\n",
       "      <td>제주</td>\n",
       "      <td>제주시</td>\n",
       "      <td>한식 음식점업</td>\n",
       "      <td>제주</td>\n",
       "      <td>서귀포시</td>\n",
       "      <td>20s</td>\n",
       "      <td>1</td>\n",
       "      <td>2</td>\n",
       "      <td>97</td>\n",
       "      <td>5245000</td>\n",
       "      <td>144</td>\n",
       "      <td>음식점업</td>\n",
       "      <td>제주권</td>\n",
       "      <td>4.584967</td>\n",
       "      <td>15.472786</td>\n",
       "      <td>4.976734</td>\n",
       "    </tr>\n",
       "    <tr>\n",
       "      <th>497316</th>\n",
       "      <td>202003</td>\n",
       "      <td>제주</td>\n",
       "      <td>제주시</td>\n",
       "      <td>한식 음식점업</td>\n",
       "      <td>제주</td>\n",
       "      <td>서귀포시</td>\n",
       "      <td>30s</td>\n",
       "      <td>1</td>\n",
       "      <td>1</td>\n",
       "      <td>87</td>\n",
       "      <td>4858650</td>\n",
       "      <td>142</td>\n",
       "      <td>음식점업</td>\n",
       "      <td>제주권</td>\n",
       "      <td>4.477337</td>\n",
       "      <td>15.396271</td>\n",
       "      <td>4.962845</td>\n",
       "    </tr>\n",
       "    <tr>\n",
       "      <th>497488</th>\n",
       "      <td>202003</td>\n",
       "      <td>제주</td>\n",
       "      <td>제주시</td>\n",
       "      <td>화장품 및 방향제 소매업</td>\n",
       "      <td>제주</td>\n",
       "      <td>제주시</td>\n",
       "      <td>40s</td>\n",
       "      <td>2</td>\n",
       "      <td>4</td>\n",
       "      <td>98</td>\n",
       "      <td>5382100</td>\n",
       "      <td>132</td>\n",
       "      <td>소매업</td>\n",
       "      <td>제주권</td>\n",
       "      <td>4.595120</td>\n",
       "      <td>15.498589</td>\n",
       "      <td>4.890349</td>\n",
       "    </tr>\n",
       "  </tbody>\n",
       "</table>\n",
       "<p>6200 rows × 17 columns</p>\n",
       "</div>"
      ],
      "text/plain": [
       "        REG_YYMM CARD_SIDO_NM CARD_CCG_NM    STD_CLSS_NM HOM_SIDO_NM  \\\n",
       "96        201901           제주        서귀포시        골프장 운영업          제주   \n",
       "685       201901           제주        서귀포시    과실 및 채소 소매업          제주   \n",
       "1543      201901           제주        서귀포시   기타 대형 종합 소매업          제주   \n",
       "1580      201901           제주        서귀포시   기타 대형 종합 소매업          제주   \n",
       "1629      201901           제주        서귀포시    기타 외국식 음식점업          제주   \n",
       "...          ...          ...         ...            ...         ...   \n",
       "497207    202003           제주         제주시        한식 음식점업          인천   \n",
       "497215    202003           제주         제주시        한식 음식점업          인천   \n",
       "497313    202003           제주         제주시        한식 음식점업          제주   \n",
       "497316    202003           제주         제주시        한식 음식점업          제주   \n",
       "497488    202003           제주         제주시  화장품 및 방향제 소매업          제주   \n",
       "\n",
       "       HOM_CCG_NM  AGE  SEX_CTGO_CD  FLC  CSTMR_CNT      AMT  CNT  \\\n",
       "96           서귀포시  70s            1    5         52  9396700  153   \n",
       "685          서귀포시  40s            1    3         81  7890800  152   \n",
       "1543         서귀포시  20s            2    2        102  7098410  167   \n",
       "1580          제주시  60s            1    5         95  8918610  164   \n",
       "1629         서귀포시  70s            1    5        101  5901700  145   \n",
       "...           ...  ...          ...  ...        ...      ...  ...   \n",
       "497207        부평구  50s            1    4         83  5600500  124   \n",
       "497215         서구  30s            1    2        106  4193400  127   \n",
       "497313       서귀포시  20s            1    2         97  5245000  144   \n",
       "497316       서귀포시  30s            1    1         87  4858650  142   \n",
       "497488        제주시  40s            2    4         98  5382100  132   \n",
       "\n",
       "       STD_CLSS_NM_cat HOM_SIDO_NM_cat  CSTMR_CNT_log    AMT_log   CNT_log  \n",
       "96             예술스포츠여가             제주권       3.970292  16.055869  5.036953  \n",
       "685                소매업             제주권       4.406719  15.881208  5.030438  \n",
       "1543               소매업             제주권       4.634729  15.775382  5.123964  \n",
       "1580               소매업             제주권       4.564348  16.003651  5.105945  \n",
       "1629              음식점업             제주권       4.624973  15.590751  4.983607  \n",
       "...                ...             ...            ...        ...       ...  \n",
       "497207            음식점업             수도권       4.430817  15.538367  4.828314  \n",
       "497215            음식점업             수도권       4.672829  15.249023  4.852030  \n",
       "497313            음식점업             제주권       4.584967  15.472786  4.976734  \n",
       "497316            음식점업             제주권       4.477337  15.396271  4.962845  \n",
       "497488             소매업             제주권       4.595120  15.498589  4.890349  \n",
       "\n",
       "[6200 rows x 17 columns]"
      ]
     },
     "execution_count": 376,
     "metadata": {},
     "output_type": "execute_result"
    }
   ],
   "source": [
    "jeju_data2.loc[outlier_list_col] # 이상치가 발견된 행을 모두 출력 ---> 6200개"
   ]
  },
  {
   "cell_type": "code",
   "execution_count": 377,
   "metadata": {},
   "outputs": [],
   "source": [
    "jeju_data2.drop(outlier_list_col , inplace=True) # 이상치가 있는 행 모두 제거"
   ]
  },
  {
   "cell_type": "code",
   "execution_count": 378,
   "metadata": {},
   "outputs": [
    {
     "data": {
      "text/plain": [
       "count    470995.000000\n",
       "mean          2.335163\n",
       "std           0.873219\n",
       "min           0.693147\n",
       "25%           1.609438\n",
       "50%           2.079442\n",
       "75%           2.833213\n",
       "max           4.804021\n",
       "Name: CNT_log, dtype: float64"
      ]
     },
     "execution_count": 378,
     "metadata": {},
     "output_type": "execute_result"
    }
   ],
   "source": [
    "jeju_data2['CNT_log'].describe()# 이상치를 처리하여 데이터의 개수가 감소함"
   ]
  },
  {
   "cell_type": "code",
   "execution_count": 379,
   "metadata": {},
   "outputs": [
    {
     "data": {
      "image/png": "[encoded data removed]",
      "text/plain": [
       "<Figure size 720x432 with 1 Axes>"
      ]
     },
     "metadata": {
      "needs_background": "light"
     },
     "output_type": "display_data"
    }
   ],
   "source": [
    "f, ax = plt.subplots(figsize = (10, 6)) \n",
    "plt.boxplot(jeju_data2['CNT_log'], sym = \"ro\", vert = 0)\n",
    "plt.title('CNT_log')\n",
    "plt.grid()"
   ]
  },
  {
   "cell_type": "markdown",
   "metadata": {},
   "source": [
    "#### 변수 간 관계"
   ]
  },
  {
   "cell_type": "code",
   "execution_count": 51,
   "metadata": {},
   "outputs": [
    {
     "data": {
      "text/plain": [
       "<matplotlib.collections.PathCollection at 0x24ca9034088>"
      ]
     },
     "execution_count": 51,
     "metadata": {},
     "output_type": "execute_result"
    },
    {
     "data": {
      "image/png": "[encoded data removed]",
      "text/plain": [
       "<Figure size 432x288 with 1 Axes>"
      ]
     },
     "metadata": {
      "needs_background": "light"
     },
     "output_type": "display_data"
    }
   ],
   "source": [
    "plt.scatter(jeju_data['CSTMR_CNT'], jeju_data['CNT']) # 이용고객수와 이용건수 (히트맵 상관관계 0.96)"
   ]
  },
  {
   "cell_type": "code",
   "execution_count": 303,
   "metadata": {},
   "outputs": [
    {
     "data": {
      "text/plain": [
       "<matplotlib.collections.PathCollection at 0x237c56d1a88>"
      ]
     },
     "execution_count": 303,
     "metadata": {},
     "output_type": "execute_result"
    },
    {
     "data": {
      "image/png": "[encoded data removed]",
      "text/plain": [
       "<Figure size 432x288 with 1 Axes>"
      ]
     },
     "metadata": {
      "needs_background": "light"
     },
     "output_type": "display_data"
    }
   ],
   "source": [
    "plt.scatter(jeju_data['CSTMR_CNT'], jeju_data['AMT']) # 이용고객수과 이용금액 (히트맵 상관관계 0.88)"
   ]
  },
  {
   "cell_type": "code",
   "execution_count": 50,
   "metadata": {},
   "outputs": [
    {
     "data": {
      "text/plain": [
       "<matplotlib.collections.PathCollection at 0x24ca90178c8>"
      ]
     },
     "execution_count": 50,
     "metadata": {},
     "output_type": "execute_result"
    },
    {
     "data": {
      "image/png": "[encoded data removed]",
      "text/plain": [
       "<Figure size 432x288 with 1 Axes>"
      ]
     },
     "metadata": {
      "needs_background": "light"
     },
     "output_type": "display_data"
    }
   ],
   "source": [
    "plt.scatter(jeju_data['AMT'], jeju_data['CNT']) # 이용금액과 이용건수 (히트맵 상관관계 0.79)"
   ]
  }
 ],
 "metadata": {
  "kernelspec": {
   "display_name": "Python 3",
   "language": "python",
   "name": "python3"
  },
  "language_info": {
   "codemirror_mode": {
    "name": "ipython",
    "version": 3
   },
   "file_extension": ".py",
   "mimetype": "text/x-python",
   "name": "python",
   "nbconvert_exporter": "python",
   "pygments_lexer": "ipython3",
   "version": "3.7.6"
  }
 },
 "nbformat": 4,
 "nbformat_minor": 4
}
