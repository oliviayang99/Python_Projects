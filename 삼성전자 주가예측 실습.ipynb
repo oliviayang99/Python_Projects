{
 "cells": [
  {
   "cell_type": "markdown",
   "metadata": {},
   "source": [
    "출처: BK21 부산대 \"파이썬과 딥러닝을 이용한 금융시계열 예측\" 강의자료"
   ]
  },
  {
   "cell_type": "code",
   "execution_count": 35,
   "metadata": {},
   "outputs": [
    {
     "data": {
      "application/javascript": [
       "IPython.notebook.set_autosave_interval(1000000)"
      ]
     },
     "metadata": {},
     "output_type": "display_data"
    },
    {
     "name": "stdout",
     "output_type": "stream",
     "text": [
      "Autosaving every 1000 seconds\n"
     ]
    }
   ],
   "source": [
    "%autosave 1000"
   ]
  },
  {
   "cell_type": "code",
   "execution_count": 11,
   "metadata": {},
   "outputs": [
    {
     "data": {
      "application/javascript": [
       "IPython.notebook.set_autosave_interval(0)"
      ]
     },
     "metadata": {},
     "output_type": "display_data"
    },
    {
     "name": "stdout",
     "output_type": "stream",
     "text": [
      "Autosave disabled\n"
     ]
    }
   ],
   "source": [
    "%autosave 0"
   ]
  },
  {
   "cell_type": "code",
   "execution_count": 13,
   "metadata": {},
   "outputs": [
    {
     "name": "stdout",
     "output_type": "stream",
     "text": [
      "C:\\Users\\user\\Documents\\201843240\\IBA\\금융특강\n"
     ]
    }
   ],
   "source": [
    "# 현재의 파일 경로 확인\n",
    "import os\n",
    "print(os.getcwd()) # current working directory"
   ]
  },
  {
   "cell_type": "code",
   "execution_count": 14,
   "metadata": {},
   "outputs": [
    {
     "name": "stdout",
     "output_type": "stream",
     "text": [
      "C:\\Users\\user\\Documents\\201843240\\IBA\\금융특강\n"
     ]
    }
   ],
   "source": [
    "# 파일 경로 지정\n",
    "os.chdir('C:/Users/user/Documents/201843240/IBA/금융특강')\n",
    "print(os.getcwd())"
   ]
  },
  {
   "cell_type": "code",
   "execution_count": 15,
   "metadata": {},
   "outputs": [
    {
     "data": {
      "text/plain": [
       "['.ipynb_checkpoints',\n",
       " 'germancredit.csv',\n",
       " 'kospi200.csv',\n",
       " 'samsung.csv',\n",
       " 'Samsung_classification.ipynb',\n",
       " 'Samsung_prediction.ipynb',\n",
       " 'utilityapp.csv',\n",
       " '삼성전자 주가 예측 실습.ipynb']"
      ]
     },
     "execution_count": 15,
     "metadata": {},
     "output_type": "execute_result"
    }
   ],
   "source": [
    "# directory 내에 있는 파일 모두 보기 \n",
    "os.listdir()"
   ]
  },
  {
   "cell_type": "code",
   "execution_count": 37,
   "metadata": {},
   "outputs": [
    {
     "name": "stdout",
     "output_type": "stream",
     "text": [
      "Collecting keras\n",
      "  Using cached Keras-2.4.3-py2.py3-none-any.whl (36 kB)\n",
      "Requirement already satisfied: h5py in c:\\users\\user\\anaconda3\\lib\\site-packages (from keras) (3.1.0)\n",
      "Requirement already satisfied: pyyaml in c:\\users\\user\\anaconda3\\lib\\site-packages (from keras) (5.4.1)\n",
      "Requirement already satisfied: scipy>=0.14 in c:\\users\\user\\anaconda3\\lib\\site-packages (from keras) (1.6.2)\n",
      "Requirement already satisfied: numpy>=1.9.1 in c:\\users\\user\\anaconda3\\lib\\site-packages (from keras) (1.19.5)\n",
      "Installing collected packages: keras\n",
      "Successfully installed keras-2.4.3\n"
     ]
    }
   ],
   "source": [
    "!pip install keras"
   ]
  },
  {
   "cell_type": "code",
   "execution_count": 16,
   "metadata": {},
   "outputs": [
    {
     "name": "stdout",
     "output_type": "stream",
     "text": [
      "Package                            Version\n",
      "---------------------------------- -------------------\n",
      "absl-py                            0.13.0\n",
      "alabaster                          0.7.12\n",
      "anaconda-client                    1.7.2\n",
      "anaconda-navigator                 2.0.3\n",
      "anaconda-project                   0.9.1\n",
      "anyio                              2.2.0\n",
      "appdirs                            1.4.4\n",
      "argh                               0.26.2\n",
      "argon2-cffi                        20.1.0\n",
      "asn1crypto                         1.4.0\n",
      "astroid                            2.5\n",
      "astropy                            4.2.1\n",
      "astunparse                         1.6.3\n",
      "async-generator                    1.10\n",
      "atomicwrites                       1.4.0\n",
      "attrs                              20.3.0\n",
      "autopep8                           1.5.6\n",
      "Babel                              2.9.0\n",
      "backcall                           0.2.0\n",
      "backports.functools-lru-cache      1.6.4\n",
      "backports.shutil-get-terminal-size 1.0.0\n",
      "backports.tempfile                 1.0\n",
      "backports.weakref                  1.0.post1\n",
      "bcrypt                             3.2.0\n",
      "beautifulsoup4                     4.9.3\n",
      "bitarray                           1.9.2\n",
      "bkcharts                           0.2\n",
      "black                              19.10b0\n",
      "bleach                             3.3.0\n",
      "bokeh                              2.3.2\n",
      "boto                               2.49.0\n",
      "Bottleneck                         1.3.2\n",
      "brotlipy                           0.7.0\n",
      "cachetools                         4.2.2\n",
      "certifi                            2020.12.5\n",
      "cffi                               1.14.5\n",
      "chardet                            4.0.0\n",
      "click                              7.1.2\n",
      "cloudpickle                        1.6.0\n",
      "clyent                             1.2.2\n",
      "colorama                           0.4.4\n",
      "comtypes                           1.1.9\n",
      "conda                              4.10.1\n",
      "conda-build                        3.21.4\n",
      "conda-content-trust                0+unknown\n",
      "conda-package-handling             1.7.3\n",
      "conda-repo-cli                     1.0.4\n",
      "conda-token                        0.3.0\n",
      "conda-verify                       3.4.2\n",
      "contextlib2                        0.6.0.post1\n",
      "cryptography                       3.4.7\n",
      "cycler                             0.10.0\n",
      "Cython                             0.29.23\n",
      "cytoolz                            0.11.0\n",
      "dask                               2021.4.0\n",
      "decorator                          5.0.6\n",
      "defusedxml                         0.7.1\n",
      "diff-match-patch                   20200713\n",
      "distributed                        2021.4.0\n",
      "docutils                           0.17\n",
      "entrypoints                        0.3\n",
      "et-xmlfile                         1.0.1\n",
      "fastcache                          1.1.0\n",
      "filelock                           3.0.12\n",
      "flake8                             3.9.0\n",
      "Flask                              1.1.2\n",
      "flatbuffers                        1.12\n",
      "fsspec                             0.9.0\n",
      "future                             0.18.2\n",
      "gast                               0.4.0\n",
      "gevent                             21.1.2\n",
      "glob2                              0.7\n",
      "google-auth                        1.32.0\n",
      "google-auth-oauthlib               0.4.4\n",
      "google-pasta                       0.2.0\n",
      "greenlet                           1.0.0\n",
      "grpcio                             1.34.1\n",
      "h5py                               3.1.0\n",
      "HeapDict                           1.0.1\n",
      "html5lib                           1.1\n",
      "idna                               2.10\n",
      "imagecodecs                        2021.3.31\n",
      "imageio                            2.9.0\n",
      "imagesize                          1.2.0\n",
      "importlib-metadata                 3.10.0\n",
      "iniconfig                          1.1.1\n",
      "intervaltree                       3.1.0\n",
      "ipykernel                          5.3.4\n",
      "ipython                            7.22.0\n",
      "ipython-genutils                   0.2.0\n",
      "ipywidgets                         7.6.3\n",
      "isort                              5.8.0\n",
      "itsdangerous                       1.1.0\n",
      "jdcal                              1.4.1\n",
      "jedi                               0.17.2\n",
      "Jinja2                             2.11.3\n",
      "joblib                             1.0.1\n",
      "json5                              0.9.5\n",
      "jsonschema                         3.2.0\n",
      "jupyter                            1.0.0\n",
      "jupyter-client                     6.1.12\n",
      "jupyter-console                    6.4.0\n",
      "jupyter-core                       4.7.1\n",
      "jupyter-packaging                  0.7.12\n",
      "jupyter-server                     1.4.1\n",
      "jupyterlab                         3.0.14\n",
      "jupyterlab-pygments                0.1.2\n",
      "jupyterlab-server                  2.4.0\n",
      "jupyterlab-widgets                 1.0.0\n",
      "jupyterthemes                      0.20.0\n",
      "keras-nightly                      2.5.0.dev2021032900\n",
      "Keras-Preprocessing                1.1.2\n",
      "keyring                            22.3.0\n",
      "kiwisolver                         1.3.1\n",
      "lazy-object-proxy                  1.6.0\n",
      "lesscpy                            0.14.0\n",
      "libarchive-c                       2.9\n",
      "llvmlite                           0.36.0\n",
      "locket                             0.2.1\n",
      "lxml                               4.6.3\n",
      "Markdown                           3.3.4\n",
      "MarkupSafe                         1.1.1\n",
      "matplotlib                         3.3.4\n",
      "mccabe                             0.6.1\n",
      "menuinst                           1.4.16\n",
      "mistune                            0.8.4\n",
      "mkl-fft                            1.3.0\n",
      "mkl-random                         1.2.1\n",
      "mkl-service                        2.3.0\n",
      "mock                               4.0.3\n",
      "more-itertools                     8.7.0\n",
      "mpmath                             1.2.1\n",
      "msgpack                            1.0.2\n",
      "multipledispatch                   0.6.0\n",
      "mypy-extensions                    0.4.3\n",
      "navigator-updater                  0.2.1\n",
      "nbclassic                          0.2.6\n",
      "nbclient                           0.5.3\n",
      "nbconvert                          6.0.7\n",
      "nbformat                           5.1.3\n",
      "nest-asyncio                       1.5.1\n",
      "networkx                           2.5\n",
      "nltk                               3.6.1\n",
      "nose                               1.3.7\n",
      "notebook                           6.3.0\n",
      "numba                              0.53.1\n",
      "numexpr                            2.7.3\n",
      "numpy                              1.19.5\n",
      "numpydoc                           1.1.0\n",
      "oauthlib                           3.1.1\n",
      "olefile                            0.46\n",
      "openpyxl                           3.0.7\n",
      "opt-einsum                         3.3.0\n",
      "packaging                          20.9\n",
      "pandas                             1.2.4\n",
      "pandocfilters                      1.4.3\n",
      "paramiko                           2.7.2\n",
      "parso                              0.7.0\n",
      "partd                              1.2.0\n",
      "path                               15.1.2\n",
      "pathlib2                           2.3.5\n",
      "pathspec                           0.7.0\n",
      "patsy                              0.5.1\n",
      "pep8                               1.7.1\n",
      "pexpect                            4.8.0\n",
      "pickleshare                        0.7.5\n",
      "Pillow                             8.2.0\n",
      "pip                                21.0.1\n",
      "pkginfo                            1.7.0\n",
      "pluggy                             0.13.1\n",
      "ply                                3.11\n",
      "prometheus-client                  0.10.1\n",
      "prompt-toolkit                     3.0.17\n",
      "protobuf                           3.17.3\n",
      "psutil                             5.8.0\n",
      "ptyprocess                         0.7.0\n",
      "py                                 1.10.0\n",
      "pyasn1                             0.4.8\n",
      "pyasn1-modules                     0.2.8\n",
      "pycodestyle                        2.6.0\n",
      "pycosat                            0.6.3\n",
      "pycparser                          2.20\n",
      "pycurl                             7.43.0.6\n",
      "pydocstyle                         6.0.0\n",
      "pyerfa                             1.7.3\n",
      "pyflakes                           2.2.0\n",
      "Pygments                           2.8.1\n",
      "pylint                             2.7.4\n",
      "pyls-black                         0.4.6\n",
      "pyls-spyder                        0.3.2\n",
      "PyNaCl                             1.4.0\n",
      "pyodbc                             4.0.0-unsupported\n",
      "pyOpenSSL                          20.0.1\n",
      "pyparsing                          2.4.7\n",
      "pyreadline                         2.1\n",
      "pyrsistent                         0.17.3\n",
      "PySocks                            1.7.1\n",
      "pytest                             6.2.3\n",
      "python-dateutil                    2.8.1\n",
      "python-jsonrpc-server              0.4.0\n",
      "python-language-server             0.36.2\n",
      "pytz                               2021.1\n",
      "PyWavelets                         1.1.1\n",
      "pywin32                            227\n",
      "pywin32-ctypes                     0.2.0\n",
      "pywinpty                           0.5.7\n",
      "PyYAML                             5.4.1\n",
      "pyzmq                              20.0.0\n",
      "QDarkStyle                         2.8.1\n",
      "QtAwesome                          1.0.2\n",
      "qtconsole                          5.0.3\n",
      "QtPy                               1.9.0\n",
      "regex                              2021.4.4\n",
      "requests                           2.25.1\n",
      "requests-oauthlib                  1.3.0\n",
      "rope                               0.18.0\n",
      "rsa                                4.7.2\n",
      "Rtree                              0.9.7\n",
      "ruamel-yaml-conda                  0.15.100\n",
      "scikit-image                       0.18.1\n",
      "scikit-learn                       0.24.1\n",
      "scipy                              1.6.2\n",
      "seaborn                            0.11.1\n",
      "Send2Trash                         1.5.0\n",
      "setuptools                         52.0.0.post20210125\n",
      "simplegeneric                      0.8.1\n",
      "singledispatch                     0.0.0\n",
      "sip                                4.19.13\n",
      "six                                1.15.0\n",
      "sniffio                            1.2.0\n",
      "snowballstemmer                    2.1.0\n",
      "sortedcollections                  2.1.0\n",
      "sortedcontainers                   2.3.0\n",
      "soupsieve                          2.2.1\n",
      "Sphinx                             4.0.1\n",
      "sphinxcontrib-applehelp            1.0.2\n",
      "sphinxcontrib-devhelp              1.0.2\n",
      "sphinxcontrib-htmlhelp             1.0.3\n",
      "sphinxcontrib-jsmath               1.0.1\n",
      "sphinxcontrib-qthelp               1.0.3\n",
      "sphinxcontrib-serializinghtml      1.1.4\n",
      "sphinxcontrib-websupport           1.2.4\n",
      "spyder                             4.2.5\n",
      "spyder-kernels                     1.10.2\n",
      "SQLAlchemy                         1.4.7\n",
      "statsmodels                        0.12.2\n",
      "sympy                              1.8\n",
      "tables                             3.6.1\n",
      "tblib                              1.7.0\n",
      "tensorboard                        2.5.0\n",
      "tensorboard-data-server            0.6.1\n",
      "tensorboard-plugin-wit             1.8.0\n",
      "tensorflow                         2.5.0\n",
      "tensorflow-estimator               2.5.0\n",
      "termcolor                          1.1.0\n",
      "terminado                          0.9.4\n",
      "testpath                           0.4.4\n",
      "textdistance                       4.2.1\n",
      "threadpoolctl                      2.1.0\n",
      "three-merge                        0.1.1\n",
      "tifffile                           2021.4.8\n",
      "toml                               0.10.2\n",
      "toolz                              0.11.1\n",
      "tornado                            6.1\n",
      "tqdm                               4.59.0\n",
      "traitlets                          5.0.5\n",
      "typed-ast                          1.4.2\n",
      "typing-extensions                  3.7.4.3\n",
      "ujson                              4.0.2\n",
      "unicodecsv                         0.14.1\n",
      "urllib3                            1.26.4\n",
      "watchdog                           1.0.2\n",
      "wcwidth                            0.2.5\n",
      "webencodings                       0.5.1\n",
      "Werkzeug                           1.0.1\n",
      "wheel                              0.36.2\n",
      "widgetsnbextension                 3.5.1\n",
      "win-inet-pton                      1.1.0\n",
      "win-unicode-console                0.5\n",
      "wincertstore                       0.2\n",
      "wrapt                              1.12.1\n",
      "xlrd                               2.0.1\n",
      "XlsxWriter                         1.3.8\n",
      "xlwings                            0.23.0\n",
      "xlwt                               1.3.0\n",
      "xmltodict                          0.12.0\n",
      "yapf                               0.31.0\n",
      "zict                               2.0.0\n",
      "zipp                               3.4.1\n",
      "zope.event                         4.5.0\n",
      "zope.interface                     5.3.0\n"
     ]
    }
   ],
   "source": [
    "# 설치된 라이브러리 보기 \n",
    "!pip list"
   ]
  },
  {
   "cell_type": "code",
   "execution_count": 40,
   "metadata": {},
   "outputs": [
    {
     "name": "stdout",
     "output_type": "stream",
     "text": [
      "Name: Keras\n",
      "Version: 2.4.3\n",
      "Summary: Deep Learning for humans\n",
      "Home-page: https://github.com/keras-team/keras\n",
      "Author: Francois Chollet\n",
      "Author-email: francois.chollet@gmail.com\n",
      "License: MIT\n",
      "Location: c:\\users\\user\\anaconda3\\lib\\site-packages\n",
      "Requires: pyyaml, scipy, h5py, numpy\n",
      "Required-by: \n"
     ]
    }
   ],
   "source": [
    "# 특정 라이브러리가 있는지 보기\n",
    "!pip show keras"
   ]
  },
  {
   "cell_type": "raw",
   "metadata": {},
   "source": [
    "!pip install numpy\n",
    "!pip uninstall numpy"
   ]
  },
  {
   "cell_type": "markdown",
   "metadata": {},
   "source": [
    "# 기초 설정"
   ]
  },
  {
   "cell_type": "code",
   "execution_count": 2,
   "metadata": {},
   "outputs": [],
   "source": [
    "#필요 라이브러리 불러오기\n",
    "import pandas as pd\n",
    "import numpy as np\n",
    "import matplotlib.pyplot as plt\n",
    "import seaborn as sns\n",
    "from sklearn.model_selection import train_test_split\n",
    "import warnings\n",
    "warnings.filterwarnings('ignore')\n",
    "\n",
    "from sklearn.neural_network import MLPRegressor\n",
    "import keras\n",
    "from keras.models import Sequential\n",
    "from keras.layers import Dense, SimpleRNN, Activation\n",
    "from tensorflow import keras\n",
    "from tensorflow.keras import layers\n",
    "\n",
    "\n",
    "def MAPE(y_test, y_pred):\n",
    "    return np.mean(np.abs((y_test - y_pred) / y_test)) * 100 \n",
    "def RMSE(y_test, y_pred):\n",
    "    return np.sqrt(((y_pred - y_test) ** 2).mean())"
   ]
  },
  {
   "cell_type": "code",
   "execution_count": 49,
   "metadata": {},
   "outputs": [],
   "source": [
    "#데이터 불러오기\n",
    "df = pd.read_csv('samsung.csv', encoding = 'cp949', index_col = 0) #encoding 지정으로 한글깨짐 방지, 일자를 인덱스로 사용"
   ]
  },
  {
   "cell_type": "code",
   "execution_count": 50,
   "metadata": {},
   "outputs": [],
   "source": [
    "#인덱스 날자형으로 변경하기\n",
    "df.index = pd.to_datetime(df.index)"
   ]
  },
  {
   "cell_type": "code",
   "execution_count": 51,
   "metadata": {},
   "outputs": [
    {
     "data": {
      "text/html": [
       "<div>\n",
       "<style scoped>\n",
       "    .dataframe tbody tr th:only-of-type {\n",
       "        vertical-align: middle;\n",
       "    }\n",
       "\n",
       "    .dataframe tbody tr th {\n",
       "        vertical-align: top;\n",
       "    }\n",
       "\n",
       "    .dataframe thead th {\n",
       "        text-align: right;\n",
       "    }\n",
       "</style>\n",
       "<table border=\"1\" class=\"dataframe\">\n",
       "  <thead>\n",
       "    <tr style=\"text-align: right;\">\n",
       "      <th></th>\n",
       "      <th>start</th>\n",
       "      <th>high</th>\n",
       "      <th>low</th>\n",
       "      <th>end</th>\n",
       "      <th>volume</th>\n",
       "    </tr>\n",
       "    <tr>\n",
       "      <th>date</th>\n",
       "      <th></th>\n",
       "      <th></th>\n",
       "      <th></th>\n",
       "      <th></th>\n",
       "      <th></th>\n",
       "    </tr>\n",
       "  </thead>\n",
       "  <tbody>\n",
       "    <tr>\n",
       "      <th>2020-01-31</th>\n",
       "      <td>57,800</td>\n",
       "      <td>58,400</td>\n",
       "      <td>56,400</td>\n",
       "      <td>56,400</td>\n",
       "      <td>19,749,457</td>\n",
       "    </tr>\n",
       "    <tr>\n",
       "      <th>2020-01-30</th>\n",
       "      <td>58,800</td>\n",
       "      <td>58,800</td>\n",
       "      <td>56,800</td>\n",
       "      <td>57,200</td>\n",
       "      <td>20,821,939</td>\n",
       "    </tr>\n",
       "    <tr>\n",
       "      <th>2020-01-29</th>\n",
       "      <td>59,100</td>\n",
       "      <td>59,700</td>\n",
       "      <td>58,800</td>\n",
       "      <td>59,100</td>\n",
       "      <td>16,446,102</td>\n",
       "    </tr>\n",
       "    <tr>\n",
       "      <th>2020-01-28</th>\n",
       "      <td>59,400</td>\n",
       "      <td>59,400</td>\n",
       "      <td>58,300</td>\n",
       "      <td>58,800</td>\n",
       "      <td>23,664,541</td>\n",
       "    </tr>\n",
       "    <tr>\n",
       "      <th>2020-01-23</th>\n",
       "      <td>61,800</td>\n",
       "      <td>61,800</td>\n",
       "      <td>60,700</td>\n",
       "      <td>60,800</td>\n",
       "      <td>14,916,555</td>\n",
       "    </tr>\n",
       "    <tr>\n",
       "      <th>2020-01-22</th>\n",
       "      <td>60,500</td>\n",
       "      <td>62,600</td>\n",
       "      <td>60,400</td>\n",
       "      <td>62,300</td>\n",
       "      <td>15,339,565</td>\n",
       "    </tr>\n",
       "    <tr>\n",
       "      <th>2020-01-21</th>\n",
       "      <td>62,000</td>\n",
       "      <td>62,400</td>\n",
       "      <td>61,200</td>\n",
       "      <td>61,400</td>\n",
       "      <td>11,142,693</td>\n",
       "    </tr>\n",
       "    <tr>\n",
       "      <th>2020-01-20</th>\n",
       "      <td>62,000</td>\n",
       "      <td>62,800</td>\n",
       "      <td>61,700</td>\n",
       "      <td>62,400</td>\n",
       "      <td>12,528,855</td>\n",
       "    </tr>\n",
       "    <tr>\n",
       "      <th>2020-01-17</th>\n",
       "      <td>61,900</td>\n",
       "      <td>62,000</td>\n",
       "      <td>61,000</td>\n",
       "      <td>61,300</td>\n",
       "      <td>16,025,661</td>\n",
       "    </tr>\n",
       "    <tr>\n",
       "      <th>2020-01-16</th>\n",
       "      <td>59,100</td>\n",
       "      <td>60,700</td>\n",
       "      <td>59,000</td>\n",
       "      <td>60,700</td>\n",
       "      <td>14,381,774</td>\n",
       "    </tr>\n",
       "  </tbody>\n",
       "</table>\n",
       "</div>"
      ],
      "text/plain": [
       "             start    high     low     end      volume\n",
       "date                                                  \n",
       "2020-01-31  57,800  58,400  56,400  56,400  19,749,457\n",
       "2020-01-30  58,800  58,800  56,800  57,200  20,821,939\n",
       "2020-01-29  59,100  59,700  58,800  59,100  16,446,102\n",
       "2020-01-28  59,400  59,400  58,300  58,800  23,664,541\n",
       "2020-01-23  61,800  61,800  60,700  60,800  14,916,555\n",
       "2020-01-22  60,500  62,600  60,400  62,300  15,339,565\n",
       "2020-01-21  62,000  62,400  61,200  61,400  11,142,693\n",
       "2020-01-20  62,000  62,800  61,700  62,400  12,528,855\n",
       "2020-01-17  61,900  62,000  61,000  61,300  16,025,661\n",
       "2020-01-16  59,100  60,700  59,000  60,700  14,381,774"
      ]
     },
     "execution_count": 51,
     "metadata": {},
     "output_type": "execute_result"
    }
   ],
   "source": [
    "df.head(10)"
   ]
  },
  {
   "cell_type": "code",
   "execution_count": 52,
   "metadata": {},
   "outputs": [],
   "source": [
    "#문자형 데이터 수치형 데이터로 변환\n",
    "\n",
    "for i in range(len(df)):   #데이터의 행 개수 \n",
    "    for j in range(df.shape[1]): # 데이터의 열 개수\n",
    "        df.iloc[i,j] = df.iloc[i,j].replace(',','') # 콤마 지우기(replace 함수)\n",
    "        \n",
    "\n",
    "for i in range(df.shape[1]): #데이터 열 개수만큼\n",
    "    df.iloc[:,i] = df.iloc[:,i].astype('int') #열마다 데이터 수치형으로 변경"
   ]
  },
  {
   "cell_type": "code",
   "execution_count": 53,
   "metadata": {},
   "outputs": [
    {
     "name": "stdout",
     "output_type": "stream",
     "text": [
      "<class 'pandas.core.frame.DataFrame'>\n",
      "DatetimeIndex: 426 entries, 2020-01-31 to 2018-05-04\n",
      "Data columns (total 5 columns):\n",
      " #   Column  Non-Null Count  Dtype\n",
      "---  ------  --------------  -----\n",
      " 0   start   426 non-null    int32\n",
      " 1   high    426 non-null    int32\n",
      " 2   low     426 non-null    int32\n",
      " 3   end     426 non-null    int32\n",
      " 4   volume  426 non-null    int32\n",
      "dtypes: int32(5)\n",
      "memory usage: 11.6 KB\n"
     ]
    }
   ],
   "source": [
    "df.info()"
   ]
  },
  {
   "cell_type": "code",
   "execution_count": 54,
   "metadata": {},
   "outputs": [
    {
     "data": {
      "text/html": [
       "<div>\n",
       "<style scoped>\n",
       "    .dataframe tbody tr th:only-of-type {\n",
       "        vertical-align: middle;\n",
       "    }\n",
       "\n",
       "    .dataframe tbody tr th {\n",
       "        vertical-align: top;\n",
       "    }\n",
       "\n",
       "    .dataframe thead th {\n",
       "        text-align: right;\n",
       "    }\n",
       "</style>\n",
       "<table border=\"1\" class=\"dataframe\">\n",
       "  <thead>\n",
       "    <tr style=\"text-align: right;\">\n",
       "      <th></th>\n",
       "      <th>start</th>\n",
       "      <th>high</th>\n",
       "      <th>low</th>\n",
       "      <th>end</th>\n",
       "      <th>volume</th>\n",
       "    </tr>\n",
       "  </thead>\n",
       "  <tbody>\n",
       "    <tr>\n",
       "      <th>count</th>\n",
       "      <td>426.000000</td>\n",
       "      <td>426.000000</td>\n",
       "      <td>426.000000</td>\n",
       "      <td>426.000000</td>\n",
       "      <td>4.260000e+02</td>\n",
       "    </tr>\n",
       "    <tr>\n",
       "      <th>mean</th>\n",
       "      <td>46742.723005</td>\n",
       "      <td>47183.450704</td>\n",
       "      <td>46272.065728</td>\n",
       "      <td>46735.798122</td>\n",
       "      <td>1.143660e+07</td>\n",
       "    </tr>\n",
       "    <tr>\n",
       "      <th>std</th>\n",
       "      <td>4509.621724</td>\n",
       "      <td>4517.591974</td>\n",
       "      <td>4433.557218</td>\n",
       "      <td>4470.252415</td>\n",
       "      <td>5.072198e+06</td>\n",
       "    </tr>\n",
       "    <tr>\n",
       "      <th>min</th>\n",
       "      <td>37450.000000</td>\n",
       "      <td>37600.000000</td>\n",
       "      <td>36850.000000</td>\n",
       "      <td>37450.000000</td>\n",
       "      <td>4.406531e+06</td>\n",
       "    </tr>\n",
       "    <tr>\n",
       "      <th>25%</th>\n",
       "      <td>43912.500000</td>\n",
       "      <td>44350.000000</td>\n",
       "      <td>43550.000000</td>\n",
       "      <td>44000.000000</td>\n",
       "      <td>8.264758e+06</td>\n",
       "    </tr>\n",
       "    <tr>\n",
       "      <th>50%</th>\n",
       "      <td>46100.000000</td>\n",
       "      <td>46450.000000</td>\n",
       "      <td>45650.000000</td>\n",
       "      <td>46075.000000</td>\n",
       "      <td>1.043370e+07</td>\n",
       "    </tr>\n",
       "    <tr>\n",
       "      <th>75%</th>\n",
       "      <td>48975.000000</td>\n",
       "      <td>49237.500000</td>\n",
       "      <td>48537.500000</td>\n",
       "      <td>49012.500000</td>\n",
       "      <td>1.328609e+07</td>\n",
       "    </tr>\n",
       "    <tr>\n",
       "      <th>max</th>\n",
       "      <td>62000.000000</td>\n",
       "      <td>62800.000000</td>\n",
       "      <td>61700.000000</td>\n",
       "      <td>62400.000000</td>\n",
       "      <td>6.349111e+07</td>\n",
       "    </tr>\n",
       "  </tbody>\n",
       "</table>\n",
       "</div>"
      ],
      "text/plain": [
       "              start          high           low           end        volume\n",
       "count    426.000000    426.000000    426.000000    426.000000  4.260000e+02\n",
       "mean   46742.723005  47183.450704  46272.065728  46735.798122  1.143660e+07\n",
       "std     4509.621724   4517.591974   4433.557218   4470.252415  5.072198e+06\n",
       "min    37450.000000  37600.000000  36850.000000  37450.000000  4.406531e+06\n",
       "25%    43912.500000  44350.000000  43550.000000  44000.000000  8.264758e+06\n",
       "50%    46100.000000  46450.000000  45650.000000  46075.000000  1.043370e+07\n",
       "75%    48975.000000  49237.500000  48537.500000  49012.500000  1.328609e+07\n",
       "max    62000.000000  62800.000000  61700.000000  62400.000000  6.349111e+07"
      ]
     },
     "execution_count": 54,
     "metadata": {},
     "output_type": "execute_result"
    }
   ],
   "source": [
    "df.describe()"
   ]
  },
  {
   "cell_type": "markdown",
   "metadata": {},
   "source": [
    "# 데이터 탐색"
   ]
  },
  {
   "cell_type": "code",
   "execution_count": 55,
   "metadata": {},
   "outputs": [
    {
     "data": {
      "text/plain": [
       "start     0\n",
       "high      0\n",
       "low       0\n",
       "end       0\n",
       "volume    0\n",
       "dtype: int64"
      ]
     },
     "execution_count": 55,
     "metadata": {},
     "output_type": "execute_result"
    }
   ],
   "source": [
    "# 결측치 탐색\n",
    "df.isnull().sum()"
   ]
  },
  {
   "cell_type": "code",
   "execution_count": 56,
   "metadata": {},
   "outputs": [
    {
     "data": {
      "text/html": [
       "<div>\n",
       "<style scoped>\n",
       "    .dataframe tbody tr th:only-of-type {\n",
       "        vertical-align: middle;\n",
       "    }\n",
       "\n",
       "    .dataframe tbody tr th {\n",
       "        vertical-align: top;\n",
       "    }\n",
       "\n",
       "    .dataframe thead th {\n",
       "        text-align: right;\n",
       "    }\n",
       "</style>\n",
       "<table border=\"1\" class=\"dataframe\">\n",
       "  <thead>\n",
       "    <tr style=\"text-align: right;\">\n",
       "      <th></th>\n",
       "      <th>start</th>\n",
       "      <th>high</th>\n",
       "      <th>low</th>\n",
       "      <th>end</th>\n",
       "      <th>volume</th>\n",
       "    </tr>\n",
       "  </thead>\n",
       "  <tbody>\n",
       "    <tr>\n",
       "      <th>count</th>\n",
       "      <td>426.000000</td>\n",
       "      <td>426.000000</td>\n",
       "      <td>426.000000</td>\n",
       "      <td>426.000000</td>\n",
       "      <td>4.260000e+02</td>\n",
       "    </tr>\n",
       "    <tr>\n",
       "      <th>mean</th>\n",
       "      <td>46742.723005</td>\n",
       "      <td>47183.450704</td>\n",
       "      <td>46272.065728</td>\n",
       "      <td>46735.798122</td>\n",
       "      <td>1.143660e+07</td>\n",
       "    </tr>\n",
       "    <tr>\n",
       "      <th>std</th>\n",
       "      <td>4509.621724</td>\n",
       "      <td>4517.591974</td>\n",
       "      <td>4433.557218</td>\n",
       "      <td>4470.252415</td>\n",
       "      <td>5.072198e+06</td>\n",
       "    </tr>\n",
       "    <tr>\n",
       "      <th>min</th>\n",
       "      <td>37450.000000</td>\n",
       "      <td>37600.000000</td>\n",
       "      <td>36850.000000</td>\n",
       "      <td>37450.000000</td>\n",
       "      <td>4.406531e+06</td>\n",
       "    </tr>\n",
       "    <tr>\n",
       "      <th>25%</th>\n",
       "      <td>43912.500000</td>\n",
       "      <td>44350.000000</td>\n",
       "      <td>43550.000000</td>\n",
       "      <td>44000.000000</td>\n",
       "      <td>8.264758e+06</td>\n",
       "    </tr>\n",
       "    <tr>\n",
       "      <th>50%</th>\n",
       "      <td>46100.000000</td>\n",
       "      <td>46450.000000</td>\n",
       "      <td>45650.000000</td>\n",
       "      <td>46075.000000</td>\n",
       "      <td>1.043370e+07</td>\n",
       "    </tr>\n",
       "    <tr>\n",
       "      <th>75%</th>\n",
       "      <td>48975.000000</td>\n",
       "      <td>49237.500000</td>\n",
       "      <td>48537.500000</td>\n",
       "      <td>49012.500000</td>\n",
       "      <td>1.328609e+07</td>\n",
       "    </tr>\n",
       "    <tr>\n",
       "      <th>max</th>\n",
       "      <td>62000.000000</td>\n",
       "      <td>62800.000000</td>\n",
       "      <td>61700.000000</td>\n",
       "      <td>62400.000000</td>\n",
       "      <td>6.349111e+07</td>\n",
       "    </tr>\n",
       "  </tbody>\n",
       "</table>\n",
       "</div>"
      ],
      "text/plain": [
       "              start          high           low           end        volume\n",
       "count    426.000000    426.000000    426.000000    426.000000  4.260000e+02\n",
       "mean   46742.723005  47183.450704  46272.065728  46735.798122  1.143660e+07\n",
       "std     4509.621724   4517.591974   4433.557218   4470.252415  5.072198e+06\n",
       "min    37450.000000  37600.000000  36850.000000  37450.000000  4.406531e+06\n",
       "25%    43912.500000  44350.000000  43550.000000  44000.000000  8.264758e+06\n",
       "50%    46100.000000  46450.000000  45650.000000  46075.000000  1.043370e+07\n",
       "75%    48975.000000  49237.500000  48537.500000  49012.500000  1.328609e+07\n",
       "max    62000.000000  62800.000000  61700.000000  62400.000000  6.349111e+07"
      ]
     },
     "execution_count": 56,
     "metadata": {},
     "output_type": "execute_result"
    }
   ],
   "source": [
    "# 시가, 고가, 저가, 종가, 거래량 기초통계량(평균, 분산, 최소, 최대 등)\n",
    "df.describe()"
   ]
  },
  {
   "cell_type": "code",
   "execution_count": 57,
   "metadata": {},
   "outputs": [
    {
     "data": {
      "text/plain": [
       "<AxesSubplot:xlabel='date', ylabel='end'>"
      ]
     },
     "execution_count": 57,
     "metadata": {},
     "output_type": "execute_result"
    },
    {
     "data": {
      "image/png": "[encoded data removed]",
      "text/plain": [
       "<Figure size 1296x648 with 1 Axes>"
      ]
     },
     "metadata": {
      "needs_background": "light"
     },
     "output_type": "display_data"
    }
   ],
   "source": [
    "#종가\n",
    "plt.figure(figsize=(18,9))\n",
    "sns.lineplot(x=df.index, y=df['end'])"
   ]
  },
  {
   "cell_type": "markdown",
   "metadata": {},
   "source": [
    "# 주가지수 예측모형"
   ]
  },
  {
   "cell_type": "code",
   "execution_count": 74,
   "metadata": {},
   "outputs": [
    {
     "data": {
      "text/html": [
       "<div>\n",
       "<style scoped>\n",
       "    .dataframe tbody tr th:only-of-type {\n",
       "        vertical-align: middle;\n",
       "    }\n",
       "\n",
       "    .dataframe tbody tr th {\n",
       "        vertical-align: top;\n",
       "    }\n",
       "\n",
       "    .dataframe thead th {\n",
       "        text-align: right;\n",
       "    }\n",
       "</style>\n",
       "<table border=\"1\" class=\"dataframe\">\n",
       "  <thead>\n",
       "    <tr style=\"text-align: right;\">\n",
       "      <th></th>\n",
       "      <th>start</th>\n",
       "      <th>high</th>\n",
       "      <th>low</th>\n",
       "      <th>end</th>\n",
       "      <th>volume</th>\n",
       "      <th>y</th>\n",
       "    </tr>\n",
       "    <tr>\n",
       "      <th>date</th>\n",
       "      <th></th>\n",
       "      <th></th>\n",
       "      <th></th>\n",
       "      <th></th>\n",
       "      <th></th>\n",
       "      <th></th>\n",
       "    </tr>\n",
       "  </thead>\n",
       "  <tbody>\n",
       "    <tr>\n",
       "      <th>2018-05-04</th>\n",
       "      <td>53000</td>\n",
       "      <td>53900</td>\n",
       "      <td>51800</td>\n",
       "      <td>51900</td>\n",
       "      <td>39565391</td>\n",
       "      <td>NaN</td>\n",
       "    </tr>\n",
       "    <tr>\n",
       "      <th>2018-05-08</th>\n",
       "      <td>52600</td>\n",
       "      <td>53200</td>\n",
       "      <td>51900</td>\n",
       "      <td>52600</td>\n",
       "      <td>23104720</td>\n",
       "      <td>NaN</td>\n",
       "    </tr>\n",
       "    <tr>\n",
       "      <th>2018-05-09</th>\n",
       "      <td>52600</td>\n",
       "      <td>52800</td>\n",
       "      <td>50900</td>\n",
       "      <td>50900</td>\n",
       "      <td>16128305</td>\n",
       "      <td>NaN</td>\n",
       "    </tr>\n",
       "    <tr>\n",
       "      <th>2018-05-10</th>\n",
       "      <td>51700</td>\n",
       "      <td>51700</td>\n",
       "      <td>50600</td>\n",
       "      <td>51600</td>\n",
       "      <td>13905263</td>\n",
       "      <td>NaN</td>\n",
       "    </tr>\n",
       "    <tr>\n",
       "      <th>2018-05-11</th>\n",
       "      <td>52000</td>\n",
       "      <td>52200</td>\n",
       "      <td>51200</td>\n",
       "      <td>51300</td>\n",
       "      <td>10314997</td>\n",
       "      <td>NaN</td>\n",
       "    </tr>\n",
       "    <tr>\n",
       "      <th>2018-05-14</th>\n",
       "      <td>51000</td>\n",
       "      <td>51100</td>\n",
       "      <td>49900</td>\n",
       "      <td>50100</td>\n",
       "      <td>14909272</td>\n",
       "      <td>NaN</td>\n",
       "    </tr>\n",
       "    <tr>\n",
       "      <th>2018-05-15</th>\n",
       "      <td>50200</td>\n",
       "      <td>50400</td>\n",
       "      <td>49100</td>\n",
       "      <td>49200</td>\n",
       "      <td>18709146</td>\n",
       "      <td>NaN</td>\n",
       "    </tr>\n",
       "    <tr>\n",
       "      <th>2018-05-16</th>\n",
       "      <td>49200</td>\n",
       "      <td>50200</td>\n",
       "      <td>49150</td>\n",
       "      <td>49850</td>\n",
       "      <td>15918683</td>\n",
       "      <td>51900.0</td>\n",
       "    </tr>\n",
       "    <tr>\n",
       "      <th>2018-05-17</th>\n",
       "      <td>50300</td>\n",
       "      <td>50500</td>\n",
       "      <td>49400</td>\n",
       "      <td>49400</td>\n",
       "      <td>10365440</td>\n",
       "      <td>52600.0</td>\n",
       "    </tr>\n",
       "    <tr>\n",
       "      <th>2018-05-18</th>\n",
       "      <td>49900</td>\n",
       "      <td>49900</td>\n",
       "      <td>49350</td>\n",
       "      <td>49500</td>\n",
       "      <td>6706570</td>\n",
       "      <td>50900.0</td>\n",
       "    </tr>\n",
       "    <tr>\n",
       "      <th>2018-05-21</th>\n",
       "      <td>49650</td>\n",
       "      <td>50200</td>\n",
       "      <td>49100</td>\n",
       "      <td>50000</td>\n",
       "      <td>9020998</td>\n",
       "      <td>51600.0</td>\n",
       "    </tr>\n",
       "    <tr>\n",
       "      <th>2018-05-23</th>\n",
       "      <td>50600</td>\n",
       "      <td>52000</td>\n",
       "      <td>50400</td>\n",
       "      <td>51800</td>\n",
       "      <td>17095490</td>\n",
       "      <td>51300.0</td>\n",
       "    </tr>\n",
       "    <tr>\n",
       "      <th>2018-05-24</th>\n",
       "      <td>52000</td>\n",
       "      <td>52000</td>\n",
       "      <td>51100</td>\n",
       "      <td>51400</td>\n",
       "      <td>8289275</td>\n",
       "      <td>50100.0</td>\n",
       "    </tr>\n",
       "    <tr>\n",
       "      <th>2018-05-25</th>\n",
       "      <td>51000</td>\n",
       "      <td>52800</td>\n",
       "      <td>50800</td>\n",
       "      <td>52700</td>\n",
       "      <td>15207266</td>\n",
       "      <td>49200.0</td>\n",
       "    </tr>\n",
       "    <tr>\n",
       "      <th>2018-05-28</th>\n",
       "      <td>52500</td>\n",
       "      <td>53000</td>\n",
       "      <td>52000</td>\n",
       "      <td>52300</td>\n",
       "      <td>9787820</td>\n",
       "      <td>49850.0</td>\n",
       "    </tr>\n",
       "    <tr>\n",
       "      <th>2018-05-29</th>\n",
       "      <td>52200</td>\n",
       "      <td>52500</td>\n",
       "      <td>51300</td>\n",
       "      <td>51300</td>\n",
       "      <td>8480437</td>\n",
       "      <td>49400.0</td>\n",
       "    </tr>\n",
       "    <tr>\n",
       "      <th>2018-05-30</th>\n",
       "      <td>51300</td>\n",
       "      <td>51500</td>\n",
       "      <td>49100</td>\n",
       "      <td>49500</td>\n",
       "      <td>20498098</td>\n",
       "      <td>49500.0</td>\n",
       "    </tr>\n",
       "    <tr>\n",
       "      <th>2018-05-31</th>\n",
       "      <td>50400</td>\n",
       "      <td>50800</td>\n",
       "      <td>49850</td>\n",
       "      <td>50700</td>\n",
       "      <td>63491109</td>\n",
       "      <td>50000.0</td>\n",
       "    </tr>\n",
       "    <tr>\n",
       "      <th>2018-06-01</th>\n",
       "      <td>50500</td>\n",
       "      <td>51700</td>\n",
       "      <td>49950</td>\n",
       "      <td>51300</td>\n",
       "      <td>13038499</td>\n",
       "      <td>51800.0</td>\n",
       "    </tr>\n",
       "    <tr>\n",
       "      <th>2018-06-04</th>\n",
       "      <td>50800</td>\n",
       "      <td>51200</td>\n",
       "      <td>50700</td>\n",
       "      <td>51100</td>\n",
       "      <td>9767171</td>\n",
       "      <td>51400.0</td>\n",
       "    </tr>\n",
       "  </tbody>\n",
       "</table>\n",
       "</div>"
      ],
      "text/plain": [
       "            start   high    low    end    volume        y\n",
       "date                                                     \n",
       "2018-05-04  53000  53900  51800  51900  39565391      NaN\n",
       "2018-05-08  52600  53200  51900  52600  23104720      NaN\n",
       "2018-05-09  52600  52800  50900  50900  16128305      NaN\n",
       "2018-05-10  51700  51700  50600  51600  13905263      NaN\n",
       "2018-05-11  52000  52200  51200  51300  10314997      NaN\n",
       "2018-05-14  51000  51100  49900  50100  14909272      NaN\n",
       "2018-05-15  50200  50400  49100  49200  18709146      NaN\n",
       "2018-05-16  49200  50200  49150  49850  15918683  51900.0\n",
       "2018-05-17  50300  50500  49400  49400  10365440  52600.0\n",
       "2018-05-18  49900  49900  49350  49500   6706570  50900.0\n",
       "2018-05-21  49650  50200  49100  50000   9020998  51600.0\n",
       "2018-05-23  50600  52000  50400  51800  17095490  51300.0\n",
       "2018-05-24  52000  52000  51100  51400   8289275  50100.0\n",
       "2018-05-25  51000  52800  50800  52700  15207266  49200.0\n",
       "2018-05-28  52500  53000  52000  52300   9787820  49850.0\n",
       "2018-05-29  52200  52500  51300  51300   8480437  49400.0\n",
       "2018-05-30  51300  51500  49100  49500  20498098  49500.0\n",
       "2018-05-31  50400  50800  49850  50700  63491109  50000.0\n",
       "2018-06-01  50500  51700  49950  51300  13038499  51800.0\n",
       "2018-06-04  50800  51200  50700  51100   9767171  51400.0"
      ]
     },
     "execution_count": 74,
     "metadata": {},
     "output_type": "execute_result"
    }
   ],
   "source": [
    "#5_days ahead prediction(5영업일 이후 종가를 종속변수로 설정)\n",
    "df['y'] = df['end'].shift(7)\n",
    "\n",
    "#7만큼 종가를 이전으로 가져왔기때문에 결측치 7개 존재\n",
    "df = df.sort_index()\n",
    "df.head(20)"
   ]
  },
  {
   "cell_type": "code",
   "execution_count": 75,
   "metadata": {},
   "outputs": [],
   "source": [
    "#결측치 제거\n",
    "df = df.dropna()"
   ]
  },
  {
   "cell_type": "code",
   "execution_count": 76,
   "metadata": {},
   "outputs": [],
   "source": [
    "#입력변수 설정(시가, 저가, 고가, 종가, 거래량)\n",
    "X = df.drop(columns = 'y')\n",
    "#종속변수 설정(5영업일 뒤 종가)\n",
    "y = df['y']"
   ]
  },
  {
   "cell_type": "code",
   "execution_count": 61,
   "metadata": {},
   "outputs": [],
   "source": [
    "#학습용, 검증용 데이터셋 나누기(7:3, shuffle = False로 지정해 random sampling되지 않게 설정)\n",
    "X_train, X_test, y_train, y_test = train_test_split(X, \n",
    "                                                    y, \n",
    "                                                    test_size=0.3, \n",
    "                                                    shuffle=False)"
   ]
  },
  {
   "cell_type": "code",
   "execution_count": 62,
   "metadata": {},
   "outputs": [
    {
     "data": {
      "text/html": [
       "<div>\n",
       "<style scoped>\n",
       "    .dataframe tbody tr th:only-of-type {\n",
       "        vertical-align: middle;\n",
       "    }\n",
       "\n",
       "    .dataframe tbody tr th {\n",
       "        vertical-align: top;\n",
       "    }\n",
       "\n",
       "    .dataframe thead th {\n",
       "        text-align: right;\n",
       "    }\n",
       "</style>\n",
       "<table border=\"1\" class=\"dataframe\">\n",
       "  <thead>\n",
       "    <tr style=\"text-align: right;\">\n",
       "      <th></th>\n",
       "      <th>start</th>\n",
       "      <th>high</th>\n",
       "      <th>low</th>\n",
       "      <th>end</th>\n",
       "      <th>volume</th>\n",
       "    </tr>\n",
       "    <tr>\n",
       "      <th>date</th>\n",
       "      <th></th>\n",
       "      <th></th>\n",
       "      <th></th>\n",
       "      <th></th>\n",
       "      <th></th>\n",
       "    </tr>\n",
       "  </thead>\n",
       "  <tbody>\n",
       "    <tr>\n",
       "      <th>2018-05-04</th>\n",
       "      <td>53000</td>\n",
       "      <td>53900</td>\n",
       "      <td>51800</td>\n",
       "      <td>51900</td>\n",
       "      <td>39565391</td>\n",
       "    </tr>\n",
       "    <tr>\n",
       "      <th>2018-05-08</th>\n",
       "      <td>52600</td>\n",
       "      <td>53200</td>\n",
       "      <td>51900</td>\n",
       "      <td>52600</td>\n",
       "      <td>23104720</td>\n",
       "    </tr>\n",
       "    <tr>\n",
       "      <th>2018-05-09</th>\n",
       "      <td>52600</td>\n",
       "      <td>52800</td>\n",
       "      <td>50900</td>\n",
       "      <td>50900</td>\n",
       "      <td>16128305</td>\n",
       "    </tr>\n",
       "    <tr>\n",
       "      <th>2018-05-10</th>\n",
       "      <td>51700</td>\n",
       "      <td>51700</td>\n",
       "      <td>50600</td>\n",
       "      <td>51600</td>\n",
       "      <td>13905263</td>\n",
       "    </tr>\n",
       "    <tr>\n",
       "      <th>2018-05-11</th>\n",
       "      <td>52000</td>\n",
       "      <td>52200</td>\n",
       "      <td>51200</td>\n",
       "      <td>51300</td>\n",
       "      <td>10314997</td>\n",
       "    </tr>\n",
       "    <tr>\n",
       "      <th>...</th>\n",
       "      <td>...</td>\n",
       "      <td>...</td>\n",
       "      <td>...</td>\n",
       "      <td>...</td>\n",
       "      <td>...</td>\n",
       "    </tr>\n",
       "    <tr>\n",
       "      <th>2019-07-10</th>\n",
       "      <td>45550</td>\n",
       "      <td>46150</td>\n",
       "      <td>45500</td>\n",
       "      <td>45550</td>\n",
       "      <td>9253930</td>\n",
       "    </tr>\n",
       "    <tr>\n",
       "      <th>2019-07-11</th>\n",
       "      <td>46350</td>\n",
       "      <td>46550</td>\n",
       "      <td>46150</td>\n",
       "      <td>46200</td>\n",
       "      <td>10989751</td>\n",
       "    </tr>\n",
       "    <tr>\n",
       "      <th>2019-07-12</th>\n",
       "      <td>46350</td>\n",
       "      <td>46400</td>\n",
       "      <td>45800</td>\n",
       "      <td>46300</td>\n",
       "      <td>5245804</td>\n",
       "    </tr>\n",
       "    <tr>\n",
       "      <th>2019-07-15</th>\n",
       "      <td>45950</td>\n",
       "      <td>46650</td>\n",
       "      <td>45750</td>\n",
       "      <td>46450</td>\n",
       "      <td>4717226</td>\n",
       "    </tr>\n",
       "    <tr>\n",
       "      <th>2019-07-16</th>\n",
       "      <td>46450</td>\n",
       "      <td>46850</td>\n",
       "      <td>46300</td>\n",
       "      <td>46850</td>\n",
       "      <td>7407824</td>\n",
       "    </tr>\n",
       "  </tbody>\n",
       "</table>\n",
       "<p>293 rows × 5 columns</p>\n",
       "</div>"
      ],
      "text/plain": [
       "            start   high    low    end    volume\n",
       "date                                            \n",
       "2018-05-04  53000  53900  51800  51900  39565391\n",
       "2018-05-08  52600  53200  51900  52600  23104720\n",
       "2018-05-09  52600  52800  50900  50900  16128305\n",
       "2018-05-10  51700  51700  50600  51600  13905263\n",
       "2018-05-11  52000  52200  51200  51300  10314997\n",
       "...           ...    ...    ...    ...       ...\n",
       "2019-07-10  45550  46150  45500  45550   9253930\n",
       "2019-07-11  46350  46550  46150  46200  10989751\n",
       "2019-07-12  46350  46400  45800  46300   5245804\n",
       "2019-07-15  45950  46650  45750  46450   4717226\n",
       "2019-07-16  46450  46850  46300  46850   7407824\n",
       "\n",
       "[293 rows x 5 columns]"
      ]
     },
     "execution_count": 62,
     "metadata": {},
     "output_type": "execute_result"
    }
   ],
   "source": [
    "X_train"
   ]
  },
  {
   "cell_type": "code",
   "execution_count": 63,
   "metadata": {},
   "outputs": [
    {
     "data": {
      "text/html": [
       "<div>\n",
       "<style scoped>\n",
       "    .dataframe tbody tr th:only-of-type {\n",
       "        vertical-align: middle;\n",
       "    }\n",
       "\n",
       "    .dataframe tbody tr th {\n",
       "        vertical-align: top;\n",
       "    }\n",
       "\n",
       "    .dataframe thead th {\n",
       "        text-align: right;\n",
       "    }\n",
       "</style>\n",
       "<table border=\"1\" class=\"dataframe\">\n",
       "  <thead>\n",
       "    <tr style=\"text-align: right;\">\n",
       "      <th></th>\n",
       "      <th>start</th>\n",
       "      <th>high</th>\n",
       "      <th>low</th>\n",
       "      <th>end</th>\n",
       "      <th>volume</th>\n",
       "    </tr>\n",
       "    <tr>\n",
       "      <th>date</th>\n",
       "      <th></th>\n",
       "      <th></th>\n",
       "      <th></th>\n",
       "      <th></th>\n",
       "      <th></th>\n",
       "    </tr>\n",
       "  </thead>\n",
       "  <tbody>\n",
       "    <tr>\n",
       "      <th>2019-07-17</th>\n",
       "      <td>46150</td>\n",
       "      <td>46350</td>\n",
       "      <td>45950</td>\n",
       "      <td>46050</td>\n",
       "      <td>5216602</td>\n",
       "    </tr>\n",
       "    <tr>\n",
       "      <th>2019-07-18</th>\n",
       "      <td>46450</td>\n",
       "      <td>46450</td>\n",
       "      <td>45650</td>\n",
       "      <td>46100</td>\n",
       "      <td>5143554</td>\n",
       "    </tr>\n",
       "    <tr>\n",
       "      <th>2019-07-19</th>\n",
       "      <td>46650</td>\n",
       "      <td>46950</td>\n",
       "      <td>46600</td>\n",
       "      <td>46800</td>\n",
       "      <td>8819393</td>\n",
       "    </tr>\n",
       "    <tr>\n",
       "      <th>2019-07-22</th>\n",
       "      <td>46800</td>\n",
       "      <td>47300</td>\n",
       "      <td>46600</td>\n",
       "      <td>47200</td>\n",
       "      <td>9009109</td>\n",
       "    </tr>\n",
       "    <tr>\n",
       "      <th>2019-07-23</th>\n",
       "      <td>47350</td>\n",
       "      <td>47550</td>\n",
       "      <td>47050</td>\n",
       "      <td>47300</td>\n",
       "      <td>9061381</td>\n",
       "    </tr>\n",
       "    <tr>\n",
       "      <th>...</th>\n",
       "      <td>...</td>\n",
       "      <td>...</td>\n",
       "      <td>...</td>\n",
       "      <td>...</td>\n",
       "      <td>...</td>\n",
       "    </tr>\n",
       "    <tr>\n",
       "      <th>2020-01-14</th>\n",
       "      <td>60400</td>\n",
       "      <td>61000</td>\n",
       "      <td>59900</td>\n",
       "      <td>60000</td>\n",
       "      <td>16906295</td>\n",
       "    </tr>\n",
       "    <tr>\n",
       "      <th>2020-01-15</th>\n",
       "      <td>59500</td>\n",
       "      <td>59600</td>\n",
       "      <td>58900</td>\n",
       "      <td>59000</td>\n",
       "      <td>14300928</td>\n",
       "    </tr>\n",
       "    <tr>\n",
       "      <th>2020-01-16</th>\n",
       "      <td>59100</td>\n",
       "      <td>60700</td>\n",
       "      <td>59000</td>\n",
       "      <td>60700</td>\n",
       "      <td>14381774</td>\n",
       "    </tr>\n",
       "    <tr>\n",
       "      <th>2020-01-17</th>\n",
       "      <td>61900</td>\n",
       "      <td>62000</td>\n",
       "      <td>61000</td>\n",
       "      <td>61300</td>\n",
       "      <td>16025661</td>\n",
       "    </tr>\n",
       "    <tr>\n",
       "      <th>2020-01-20</th>\n",
       "      <td>62000</td>\n",
       "      <td>62800</td>\n",
       "      <td>61700</td>\n",
       "      <td>62400</td>\n",
       "      <td>12528855</td>\n",
       "    </tr>\n",
       "  </tbody>\n",
       "</table>\n",
       "<p>126 rows × 5 columns</p>\n",
       "</div>"
      ],
      "text/plain": [
       "            start   high    low    end    volume\n",
       "date                                            \n",
       "2019-07-17  46150  46350  45950  46050   5216602\n",
       "2019-07-18  46450  46450  45650  46100   5143554\n",
       "2019-07-19  46650  46950  46600  46800   8819393\n",
       "2019-07-22  46800  47300  46600  47200   9009109\n",
       "2019-07-23  47350  47550  47050  47300   9061381\n",
       "...           ...    ...    ...    ...       ...\n",
       "2020-01-14  60400  61000  59900  60000  16906295\n",
       "2020-01-15  59500  59600  58900  59000  14300928\n",
       "2020-01-16  59100  60700  59000  60700  14381774\n",
       "2020-01-17  61900  62000  61000  61300  16025661\n",
       "2020-01-20  62000  62800  61700  62400  12528855\n",
       "\n",
       "[126 rows x 5 columns]"
      ]
     },
     "execution_count": 63,
     "metadata": {},
     "output_type": "execute_result"
    }
   ],
   "source": [
    "X_test"
   ]
  },
  {
   "cell_type": "code",
   "execution_count": 64,
   "metadata": {},
   "outputs": [
    {
     "name": "stdout",
     "output_type": "stream",
     "text": [
      "학습 데이터 개수: 293\n",
      "평가 데이터 개수: 126\n"
     ]
    }
   ],
   "source": [
    "#확인\n",
    "print(\"학습 데이터 개수:\", X_train.shape[0])\n",
    "print(\"평가 데이터 개수:\", X_test.shape[0])"
   ]
  },
  {
   "cell_type": "markdown",
   "metadata": {},
   "source": [
    "# MA(5) 모형"
   ]
  },
  {
   "cell_type": "code",
   "execution_count": 65,
   "metadata": {},
   "outputs": [
    {
     "name": "stdout",
     "output_type": "stream",
     "text": [
      "MAPE: 1.424420889733661\n",
      "RMSE 937.8039189916998\n"
     ]
    }
   ],
   "source": [
    "#MA(5)예측값 생성 - 평가데이터 개수만큼\n",
    "#rolling함수 사용해 이전 5일치 평균 활용해 예측값 생성\n",
    "pred_MA = df['y'].rolling(window = 5).mean()[293:]\n",
    "\n",
    "#성과지표 확인\n",
    "print('MAPE:', MAPE(pred_MA, y_test))\n",
    "print('RMSE', RMSE(pred_MA, y_test))"
   ]
  },
  {
   "cell_type": "code",
   "execution_count": 66,
   "metadata": {},
   "outputs": [
    {
     "data": {
      "text/plain": [
       "<matplotlib.legend.Legend at 0x24994e7f910>"
      ]
     },
     "execution_count": 66,
     "metadata": {},
     "output_type": "execute_result"
    },
    {
     "data": {
      "image/png": "[encoded data removed]",
      "text/plain": [
       "<Figure size 1152x576 with 1 Axes>"
      ]
     },
     "metadata": {
      "needs_background": "light"
     },
     "output_type": "display_data"
    }
   ],
   "source": [
    "plt.figure(figsize = (16,8))\n",
    "plt.plot(y_test, label = 'real')\n",
    "plt.plot(pred_MA, label = 'pred')\n",
    "plt.legend()"
   ]
  },
  {
   "cell_type": "markdown",
   "metadata": {},
   "source": [
    "# 인공신경망 모형"
   ]
  },
  {
   "cell_type": "code",
   "execution_count": 67,
   "metadata": {},
   "outputs": [
    {
     "name": "stdout",
     "output_type": "stream",
     "text": [
      "MAPE: 3.57633740833574\n",
      "RMSE 2301.6912133486626\n"
     ]
    }
   ],
   "source": [
    "#모형 생성\n",
    "NN = MLPRegressor(hidden_layer_sizes = 10, #은닉층 노드 개수\n",
    "                  momentum = 0.1, #모멘텀\n",
    "                  learning_rate_init = 0.1, #학습률\n",
    "                  max_iter = 1000, #epoch\n",
    "                  random_state = 1) # 모형 고정\n",
    "#모형 학습\n",
    "NN.fit(X_train, y_train)\n",
    "\n",
    "#예측 값 생성\n",
    "pred_NN = NN.predict(X_test)\n",
    "\n",
    "#성과지표 확인\n",
    "print('MAPE:', MAPE(pred_NN, y_test))\n",
    "print('RMSE', RMSE(pred_NN, y_test))"
   ]
  },
  {
   "cell_type": "code",
   "execution_count": 68,
   "metadata": {
    "scrolled": false
   },
   "outputs": [
    {
     "data": {
      "text/plain": [
       "<matplotlib.legend.Legend at 0x24994cf4be0>"
      ]
     },
     "execution_count": 68,
     "metadata": {},
     "output_type": "execute_result"
    },
    {
     "data": {
      "image/png": "[encoded data removed]",
      "text/plain": [
       "<Figure size 1152x576 with 1 Axes>"
      ]
     },
     "metadata": {
      "needs_background": "light"
     },
     "output_type": "display_data"
    }
   ],
   "source": [
    "plt.figure(figsize = (16,8))\n",
    "plt.plot(pd.DataFrame(y_test), label = 'real')\n",
    "plt.plot(pd.DataFrame(pred_NN, index = y_test.index), label = 'pred')\n",
    "plt.legend()"
   ]
  },
  {
   "cell_type": "markdown",
   "metadata": {},
   "source": [
    "# 순환 신경망 모형"
   ]
  },
  {
   "cell_type": "code",
   "execution_count": 69,
   "metadata": {},
   "outputs": [],
   "source": [
    "#모형 구축\n",
    "model = Sequential()\n",
    "model.add(SimpleRNN(12, input_shape=(5,1), activation='relu'))\n",
    "model.add(Dense(8, activation='relu'))\n",
    "model.add(Dense(1))\n",
    "model.compile(loss='mse', optimizer='adam', metrics=['acc'])"
   ]
  },
  {
   "cell_type": "code",
   "execution_count": 70,
   "metadata": {},
   "outputs": [],
   "source": [
    "#keras 입력값 형식 변경\n",
    "train_x = X_train.values.reshape(X_train.shape[0],5,1) #행 길이, 변수 개수, 차원(1)\n",
    "test_x = X_test.values.reshape(X_test.shape[0],5,1) "
   ]
  },
  {
   "cell_type": "code",
   "execution_count": 71,
   "metadata": {
    "scrolled": true
   },
   "outputs": [
    {
     "name": "stdout",
     "output_type": "stream",
     "text": [
      "Epoch 1/40\n",
      "147/147 [==============================] - 3s 3ms/step - loss: 23017212623.5676 - acc: 0.0000e+00\n",
      "Epoch 2/40\n",
      "147/147 [==============================] - 0s 3ms/step - loss: 757555488.8649 - acc: 0.0000e+00\n",
      "Epoch 3/40\n",
      "147/147 [==============================] - 0s 3ms/step - loss: 1162101599.7838 - acc: 0.0000e+00\n",
      "Epoch 4/40\n",
      "147/147 [==============================] - 0s 3ms/step - loss: 1901989197.4054 - acc: 0.0000e+00\n",
      "Epoch 5/40\n",
      "147/147 [==============================] - 0s 2ms/step - loss: 1959676911.1351 - acc: 0.0000e+00\n",
      "Epoch 6/40\n",
      "147/147 [==============================] - 0s 2ms/step - loss: 1815241183.1351 - acc: 0.0000e+00\n",
      "Epoch 7/40\n",
      "147/147 [==============================] - 1s 4ms/step - loss: 1649515131.6757 - acc: 0.0000e+00\n",
      "Epoch 8/40\n",
      "147/147 [==============================] - 1s 4ms/step - loss: 1400733425.7297 - acc: 0.0000e+00\n",
      "Epoch 9/40\n",
      "147/147 [==============================] - 1s 4ms/step - loss: 1081655362.3784 - acc: 0.0000e+00: 0s - loss: 1573353841.2308 - acc: \n",
      "Epoch 10/40\n",
      "147/147 [==============================] - 0s 3ms/step - loss: 764364449.2973 - acc: 0.0000e+00\n",
      "Epoch 11/40\n",
      "147/147 [==============================] - 0s 3ms/step - loss: 605957942.4865 - acc: 0.0000e+00\n",
      "Epoch 12/40\n",
      "147/147 [==============================] - 1s 4ms/step - loss: 666285951.3514 - acc: 0.0000e+00\n",
      "Epoch 13/40\n",
      "147/147 [==============================] - 0s 2ms/step - loss: 631716976.4324 - acc: 0.0000e+00\n",
      "Epoch 14/40\n",
      "147/147 [==============================] - 0s 2ms/step - loss: 380201848.2162 - acc: 0.0000e+00\n",
      "Epoch 15/40\n",
      "147/147 [==============================] - 0s 2ms/step - loss: 160062198.7027 - acc: 0.0000e+00\n",
      "Epoch 16/40\n",
      "147/147 [==============================] - 0s 2ms/step - loss: 72435623.4730 - acc: 0.0000e+00\n",
      "Epoch 17/40\n",
      "147/147 [==============================] - 0s 3ms/step - loss: 47467252.3750 - acc: 0.0000e+00\n",
      "Epoch 18/40\n",
      "147/147 [==============================] - 0s 3ms/step - loss: 45165029.0684 - acc: 0.0000e+00\n",
      "Epoch 19/40\n",
      "147/147 [==============================] - 0s 2ms/step - loss: 38944281.7720 - acc: 0.0000e+00\n",
      "Epoch 20/40\n",
      "147/147 [==============================] - 0s 2ms/step - loss: 21580581.1951 - acc: 0.0000e+00\n",
      "Epoch 21/40\n",
      "147/147 [==============================] - 0s 2ms/step - loss: 42115846.8653 - acc: 0.0000e+00\n",
      "Epoch 22/40\n",
      "147/147 [==============================] - 0s 2ms/step - loss: 71685941.5743 - acc: 0.0000e+00\n",
      "Epoch 23/40\n",
      "147/147 [==============================] - 0s 2ms/step - loss: 45801566.4831 - acc: 0.0000e+00\n",
      "Epoch 24/40\n",
      "147/147 [==============================] - 0s 2ms/step - loss: 47465518.3649 - acc: 0.0000e+00\n",
      "Epoch 25/40\n",
      "147/147 [==============================] - 0s 2ms/step - loss: 44024182.4966 - acc: 0.0000e+00\n",
      "Epoch 26/40\n",
      "147/147 [==============================] - 0s 2ms/step - loss: 119734080.2264 - acc: 0.0000e+00\n",
      "Epoch 27/40\n",
      "147/147 [==============================] - 0s 2ms/step - loss: 318580055.9189 - acc: 0.0000e+00\n",
      "Epoch 28/40\n",
      "147/147 [==============================] - 0s 1ms/step - loss: 369589025.7027 - acc: 0.0000e+00\n",
      "Epoch 29/40\n",
      "147/147 [==============================] - 0s 2ms/step - loss: 373621281.1622 - acc: 0.0000e+00\n",
      "Epoch 30/40\n",
      "147/147 [==============================] - 0s 2ms/step - loss: 380475345.1622 - acc: 0.0000e+00\n",
      "Epoch 31/40\n",
      "147/147 [==============================] - 0s 2ms/step - loss: 381499540.1622 - acc: 0.0000e+00\n",
      "Epoch 32/40\n",
      "147/147 [==============================] - 0s 3ms/step - loss: 381347324.7973 - acc: 0.0000e+00\n",
      "Epoch 33/40\n",
      "147/147 [==============================] - 1s 4ms/step - loss: 379976228.1081 - acc: 0.0000e+00\n",
      "Epoch 34/40\n",
      "147/147 [==============================] - 0s 3ms/step - loss: 379445653.4324 - acc: 0.0000e+00\n",
      "Epoch 35/40\n",
      "147/147 [==============================] - 0s 3ms/step - loss: 377470736.9189 - acc: 0.0000e+00A: 0s - loss: 528375062.5672 - acc: 0.0000\n",
      "Epoch 36/40\n",
      "147/147 [==============================] - 0s 3ms/step - loss: 375330242.0000 - acc: 0.0000e+00\n",
      "Epoch 37/40\n",
      "147/147 [==============================] - 0s 2ms/step - loss: 373755333.2568 - acc: 0.0000e+00\n",
      "Epoch 38/40\n",
      "147/147 [==============================] - 0s 2ms/step - loss: 371981529.8378 - acc: 0.0000e+00\n",
      "Epoch 39/40\n",
      "147/147 [==============================] - 0s 3ms/step - loss: 369701596.2973 - acc: 0.0000e+00\n",
      "Epoch 40/40\n",
      "147/147 [==============================] - 0s 3ms/step - loss: 368334460.5270 - acc: 0.0000e+00\n"
     ]
    },
    {
     "data": {
      "text/plain": [
       "<keras.callbacks.History at 0x249949d5b50>"
      ]
     },
     "execution_count": 71,
     "metadata": {},
     "output_type": "execute_result"
    }
   ],
   "source": [
    "#학습하기\n",
    "epochs = 40\n",
    "batch_size = 2\n",
    "model.fit(train_x, y_train,\n",
    "          batch_size=batch_size,\n",
    "          epochs=epochs,\n",
    "          shuffle=False)"
   ]
  },
  {
   "cell_type": "code",
   "execution_count": 72,
   "metadata": {},
   "outputs": [
    {
     "name": "stdout",
     "output_type": "stream",
     "text": [
      "MAPE: 3.4203450502133186\n",
      "RMSE 2236.8984965657287\n"
     ]
    }
   ],
   "source": [
    "pred_RNN = model.predict(test_x)\n",
    "#성과지표 확인\n",
    "print('MAPE:', MAPE(pred_RNN, pd.DataFrame(y_test).values))\n",
    "print('RMSE', RMSE(pred_RNN, pd.DataFrame(y_test).values))"
   ]
  },
  {
   "cell_type": "code",
   "execution_count": 73,
   "metadata": {},
   "outputs": [
    {
     "data": {
      "text/plain": [
       "<matplotlib.legend.Legend at 0x24995151340>"
      ]
     },
     "execution_count": 73,
     "metadata": {},
     "output_type": "execute_result"
    },
    {
     "data": {
      "image/png": "[encoded data removed]",
      "text/plain": [
       "<Figure size 1152x576 with 1 Axes>"
      ]
     },
     "metadata": {
      "needs_background": "light"
     },
     "output_type": "display_data"
    }
   ],
   "source": [
    "plt.figure(figsize = (16,8))\n",
    "plt.plot(pd.DataFrame(y_test), label = 'real')\n",
    "plt.plot(pd.DataFrame(pred_RNN, index = y_test.index), label = 'pred')\n",
    "plt.legend()"
   ]
  }
 ],
 "metadata": {
  "kernelspec": {
   "display_name": "Python 3",
   "language": "python",
   "name": "python3"
  },
  "language_info": {
   "codemirror_mode": {
    "name": "ipython",
    "version": 3
   },
   "file_extension": ".py",
   "mimetype": "text/x-python",
   "name": "python",
   "nbconvert_exporter": "python",
   "pygments_lexer": "ipython3",
   "version": "3.6.9"
  }
 },
 "nbformat": 4,
 "nbformat_minor": 5
}
