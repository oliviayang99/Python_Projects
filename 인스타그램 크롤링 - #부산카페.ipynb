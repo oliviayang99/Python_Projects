{
 "cells": [
  {
   "cell_type": "raw",
   "metadata": {},
   "source": [
    "pip install selenium"
   ]
  },
  {
   "cell_type": "raw",
   "metadata": {},
   "source": [
    "pip install bs4"
   ]
  },
  {
   "cell_type": "code",
   "execution_count": 1,
   "metadata": {},
   "outputs": [],
   "source": [
    "import pandas as pd"
   ]
  },
  {
   "cell_type": "markdown",
   "metadata": {},
   "source": [
    "참고한 웹사이트 : https://hyebit.tistory.com/49 https://ariz1623.tistory.com/232 https://velog.io/@ek1816/%EC%9D%B8%EC%8A%A4%ED%83%80%EA%B7%B8%EB%9E%A8-%EC%82%AC%EB%8B%B9%EB%A7%9B%EC%A7%91-%ED%81%AC%EB%A1%A4%EB%A7%81"
   ]
  },
  {
   "cell_type": "code",
   "execution_count": 2,
   "metadata": {},
   "outputs": [],
   "source": [
    "from selenium import webdriver\n",
    "from bs4 import BeautifulSoup\n",
    "import time\n",
    "import re\n",
    "\n",
    "driver = webdriver.Chrome('C:/chromedriver_win32/chromedriver.exe') # 크롬 브라우저 열기 \n",
    "driver.get('https://www.instagram.com') # 인스타그램 접속 \n",
    "driver.maximize_window() # 화면창 최대로 키우기 \n",
    "time.sleep(3) #로딩에 시간이 걸릴 수 있으므로 3초 대기 "
   ]
  },
  {
   "cell_type": "code",
   "execution_count": 3,
   "metadata": {},
   "outputs": [],
   "source": [
    "# 계정 로그인 이후 크롤링 가능함\n",
    "\n",
    "# getpass 이용하는 방법 찾아보기 \n",
    "\n",
    "ig_id = 'livvy2537' # 내 아이디 \n",
    "input_id = driver.find_elements_by_css_selector('input._2hvTZ.pexuQ.zyHYP')[0]\n",
    "\n",
    "password = 'cpflgidrl125' # 내 비밀번호\n",
    "input_pw = driver.find_elements_by_css_selector('input._2hvTZ.pexuQ.zyHYP')[1]\n",
    "\n",
    "input_id.send_keys(ig_id)\n",
    "input_pw.send_keys(password)\n",
    "\n",
    "first = driver.find_element_by_css_selector(\"#loginForm > div.Igw0E.IwRSH.eGOV_._4EzTm.kEKum > div:nth-child(3)\")\n",
    "first.click()"
   ]
  },
  {
   "cell_type": "code",
   "execution_count": 4,
   "metadata": {},
   "outputs": [],
   "source": [
    "# 해쉬태그 키워드에 따른 검색결과 \n",
    "\n",
    "def search_IG(keyword):\n",
    "    url = \"https://www.instagram.com/explore/tags/\" + keyword\n",
    "    return url\n",
    "import time"
   ]
  },
  {
   "cell_type": "code",
   "execution_count": 5,
   "metadata": {},
   "outputs": [],
   "source": [
    "keyword = \"부산카페\"\n",
    "url = search_IG(keyword)\n",
    "driver.get(url)"
   ]
  },
  {
   "cell_type": "code",
   "execution_count": 7,
   "metadata": {},
   "outputs": [],
   "source": [
    "def select_first_posting(driver):\n",
    "    first = driver.find_element_by_css_selector(\"div._9AhH0\")\n",
    "    first.click()\n",
    "    time.sleep(3)\n",
    "    \n",
    "select_first_posting(driver)"
   ]
  },
  {
   "cell_type": "code",
   "execution_count": 8,
   "metadata": {},
   "outputs": [],
   "source": [
    "def select_more_comments(driver):\n",
    "    more = driver.find_element_by_css_selector(\"div._7mCbS\")\n",
    "    more.click()\n",
    "    time.sleep(3)\n",
    "    \n",
    "select_more_comments(driver)"
   ]
  },
  {
   "cell_type": "code",
   "execution_count": 9,
   "metadata": {
    "scrolled": true
   },
   "outputs": [
    {
     "data": {
      "text/plain": [
       "['3월 부산 핫한 전시회 리스트✅역대급 형형색색 전시회 다모임!!놀러가기 딱 좋은 날씨에 전시회 데이트 가쟈💛@@같이 가서 사진 찍어줄 친규 태그💕@@..#부산전시회 #부산여행 #부산핫플 #부산데이트#부산데이트코스 #부산카페 #부산시립미술관#부산현대미술관 #을숙도 #해운대 #서면 @seulboo._.v 이런 데이트도 언젠가 꼭❤️❤️ @dongtori95 조아앙😍❤️',\n",
       " ['#부산전시회',\n",
       "  '#부산여행',\n",
       "  '#부산핫플',\n",
       "  '#부산데이트',\n",
       "  '#부산데이트코스',\n",
       "  '#부산카페',\n",
       "  '#부산시립미술관',\n",
       "  '#부산현대미술관',\n",
       "  '#을숙도',\n",
       "  '#해운대',\n",
       "  '#서면'],\n",
       " '2021-03-25']"
      ]
     },
     "execution_count": 9,
     "metadata": {},
     "output_type": "execute_result"
    }
   ],
   "source": [
    "import re\n",
    "from bs4 import BeautifulSoup\n",
    "\n",
    "# 2021-03-26 오후 기준 \n",
    "\n",
    "def get_content(driver):\n",
    "    \n",
    "    html = driver.page_source\n",
    "    soup = BeautifulSoup(html, 'lxml')\n",
    "    \n",
    "    # 본문 \n",
    "    try:\n",
    "        content = soup.select('div.C4VMK > span')[0].text # 태그명이 div, class명이 C4VMK인 태그 아래에 있는 span 태그를 모두 선택\n",
    "    except:\n",
    "        content = ' '\n",
    "        \n",
    "    # 댓글  \n",
    "    try:\n",
    "        comment = soup.select('div.C4VMK > span')[1].text \n",
    "    except:\n",
    "        comment = ' '\n",
    "        \n",
    "    # 대댓글  \n",
    "    try:\n",
    "        comment2 = soup.select('div.C4VMK > span')[2].text \n",
    "    except:\n",
    "        comment2 = ' '\n",
    "        \n",
    "    text = content + \" \" + comment + \" \" + comment2\n",
    "    \n",
    "    # 해쉬태그 \n",
    "    tags = re.findall(r'#[^\\s#,\\\\]+', text) # content 변수의 본문 내용 중 #으로 시작하며, #뒤에 연속된 문자(공백이나 #, \\ 기호가 아닌 경우)를 모두 찾아 tags 변수에 저장\n",
    "    \n",
    "    # 작성일자 \n",
    "    date = soup.select('time._1o9PC.Nzb55')[0]['datetime'][:10] # 앞에서부터 10자리 글자\n",
    "   \n",
    "    data = [text, tags, date]\n",
    "    return data\n",
    "\n",
    "get_content(driver)"
   ]
  },
  {
   "cell_type": "code",
   "execution_count": 10,
   "metadata": {},
   "outputs": [],
   "source": [
    "# 다음 포스팅으로 자동 넘어가는 코드\n",
    "\n",
    "def move_next(driver):\n",
    "\n",
    "    right = driver.find_element_by_css_selector ('a.coreSpriteRightPaginationArrow')\n",
    "    right.click()\n",
    "    time.sleep(3)\n",
    "\n",
    "move_next(driver)"
   ]
  },
  {
   "cell_type": "markdown",
   "metadata": {},
   "source": [
    "#부산카페"
   ]
  },
  {
   "cell_type": "code",
   "execution_count": 12,
   "metadata": {},
   "outputs": [
    {
     "name": "stdout",
     "output_type": "stream",
     "text": [
      "[['3월 부산 핫한 전시회 리스트✅역대급 형형색색 전시회 다모임!!놀러가기 딱 좋은 날씨에 전시회 데이트 가쟈💛@@같이 가서 사진 찍어줄 친규 태그💕@@..#부산전시회 #부산여행 #부산핫플 #부산데이트#부산데이트코스 #부산카페 #부산시립미술관#부산현대미술관 #을숙도 #해운대 #서면 @seulboo._.v 이런 데이트도 언젠가 꼭❤️❤️ @xeonxwon 이런거도 좋지 않냐', ['#부산전시회', '#부산여행', '#부산핫플', '#부산데이트', '#부산데이트코스', '#부산카페', '#부산시립미술관', '#부산현대미술관', '#을숙도', '#해운대', '#서면'], '2021-03-25'], ['고로나가 지겨워 일본으로 해외여행을 다녀왔습니다.. 근데 이제 해운대에 있는..동해선 벡스코역 근처 해운대시장 안쪽에 위치하고 있던 #상생라멘 도착하자마자 현지 노포느낌이 물씬나서 여행온 거 같고 너무 좋았어요? 딱 요 근처만 생기가 돌던 시장내부.. 잘 활성화되면 좋겠다!주소 부산시 해운대구 해운대로383번길 23계정 @sangseng_ramen 시장 가운데에 위치하고 있어서 어느 길로든 일단 안쪽으로 들어가면 됩니다!웨이팅이 많다고 들어 브레이크타임 끝난 저녁시간에 방문했는데 안 기다리구 편안하게 먹기 성공 (๑＞ڡ＜)☆제가 먹은 건 한우대창라멘인데 고소하고 짭쪼롬한 맛이 강했어요!다음번엔 맵게 해달라고 해서 맥주 곁들여 먹어봐야지! #상생라멘심야식당 직원들도 친절하고 일단 분위기가 지려버렸다〰️ 현지느낌맛집(?) #부산카페 #경이와부산 #경이_해운대구 #경이_해운대 #카페투어 #해운대맛집 #인테리어 #부산데이트 #부산핫플 #부산신상카페 #부산가오픈카페 #신상카페 #가오픈 #cafetour #가오픈카페 #daily #interior #韓国カフェ#koreantravel #국내여행#busancafe #전포동카페 #전포신상카페 #부산가오픈 #전포카페 #라멘맛집 #일본식라멘', ['#상생라멘', '#상생라멘심야식당', '#부산카페', '#경이와부산', '#경이_해운대구', '#경이_해운대', '#카페투어', '#해운대맛집', '#인테리어', '#부산데이트', '#부산핫플', '#부산신상카페', '#부산가오픈카페', '#신상카페', '#가오픈', '#cafetour', '#가오픈카페', '#daily', '#interior', '#韓国カフェ', '#koreantravel', '#국내여행', '#busancafe', '#전포동카페', '#전포신상카페', '#부산가오픈', '#전포카페', '#라멘맛집', '#일본식라멘'], '2021-03-25']]\n"
     ]
    }
   ],
   "source": [
    "keyword = \"부산카페\" \n",
    "url = search_IG(keyword)\n",
    "\n",
    "driver.get(url)\n",
    "time.sleep(3)\n",
    "\n",
    "select_first_posting(driver)\n",
    "select_more_comments(driver)\n",
    "\n",
    "results = [ ]\n",
    "\n",
    "target = 1000  \n",
    "for i in range(target):\n",
    "    \n",
    "    try:\n",
    "        select_more_comments(driver)\n",
    "        data = get_content(driver)  \n",
    "        results.append(data)\n",
    "        move_next(driver)\n",
    "        \n",
    "    except:\n",
    "        data = get_content(driver)  \n",
    "        results.append(data)\n",
    "        move_next(driver)\n",
    "    \n",
    "\n",
    "print(results[:2])"
   ]
  },
  {
   "cell_type": "code",
   "execution_count": 13,
   "metadata": {
    "scrolled": true
   },
   "outputs": [
    {
     "data": {
      "text/html": [
       "<div>\n",
       "<style scoped>\n",
       "    .dataframe tbody tr th:only-of-type {\n",
       "        vertical-align: middle;\n",
       "    }\n",
       "\n",
       "    .dataframe tbody tr th {\n",
       "        vertical-align: top;\n",
       "    }\n",
       "\n",
       "    .dataframe thead th {\n",
       "        text-align: right;\n",
       "    }\n",
       "</style>\n",
       "<table border=\"1\" class=\"dataframe\">\n",
       "  <thead>\n",
       "    <tr style=\"text-align: right;\">\n",
       "      <th></th>\n",
       "      <th>content</th>\n",
       "      <th>hashtag</th>\n",
       "      <th>date</th>\n",
       "    </tr>\n",
       "  </thead>\n",
       "  <tbody>\n",
       "    <tr>\n",
       "      <th>0</th>\n",
       "      <td>3월 부산 핫한 전시회 리스트✅역대급 형형색색 전시회 다모임!!놀러가기 딱 좋은 날...</td>\n",
       "      <td>[#부산전시회, #부산여행, #부산핫플, #부산데이트, #부산데이트코스, #부산카페...</td>\n",
       "      <td>2021-03-25</td>\n",
       "    </tr>\n",
       "    <tr>\n",
       "      <th>1</th>\n",
       "      <td>고로나가 지겨워 일본으로 해외여행을 다녀왔습니다.. 근데 이제 해운대에 있는..동해...</td>\n",
       "      <td>[#상생라멘, #상생라멘심야식당, #부산카페, #경이와부산, #경이_해운대구, #경...</td>\n",
       "      <td>2021-03-25</td>\n",
       "    </tr>\n",
       "    <tr>\n",
       "      <th>2</th>\n",
       "      <td>벚꽃카페🌸작년부터 가고싶었는데 직장인은 벚꽃타이밍에 늘 슬퍼요😭마침 집근처에 벚꽃맛...</td>\n",
       "      <td>[#카페이띠, #벚꽃카페, #부산벚꽃, #부산벚꽃명소, #부산카페, #부산감성카페,...</td>\n",
       "      <td>2021-03-25</td>\n",
       "    </tr>\n",
       "    <tr>\n",
       "      <th>3</th>\n",
       "      <td>새 신을 신고 ~👞🎩. 신발 크네.. 김태형처럼 잘 생겼다 ❤️🦕 My handso...</td>\n",
       "      <td>[]</td>\n",
       "      <td>2021-03-25</td>\n",
       "    </tr>\n",
       "    <tr>\n",
       "      <th>4</th>\n",
       "      <td></td>\n",
       "      <td>[]</td>\n",
       "      <td>2021-03-25</td>\n",
       "    </tr>\n",
       "    <tr>\n",
       "      <th>...</th>\n",
       "      <td>...</td>\n",
       "      <td>...</td>\n",
       "      <td>...</td>\n",
       "    </tr>\n",
       "    <tr>\n",
       "      <th>995</th>\n",
       "      <td>#부산카페 #부산 #카페추천 #카페</td>\n",
       "      <td>[#부산카페, #부산, #카페추천, #카페]</td>\n",
       "      <td>2021-03-25</td>\n",
       "    </tr>\n",
       "    <tr>\n",
       "      <th>996</th>\n",
       "      <td>🐶덥다!!선물로 받은 생두 드디어 볶았다 기다려랏@barista_hojun ••로스...</td>\n",
       "      <td>[]</td>\n",
       "      <td>2021-03-25</td>\n",
       "    </tr>\n",
       "    <tr>\n",
       "      <th>997</th>\n",
       "      <td>갑작스런 밤드라이부벚꽃보러 목포!!!!!!!!!!!!!!!!! #셀스타그램#얼스타그...</td>\n",
       "      <td>[#셀스타그램, #얼스타그램, #selca, #selfie, #데일리, #좋아요, ...</td>\n",
       "      <td>2021-03-25</td>\n",
       "    </tr>\n",
       "    <tr>\n",
       "      <th>998</th>\n",
       "      <td>❤️ #followforfollowback #fashion #likeforlikes...</td>\n",
       "      <td>[#followforfollowback, #fashion, #likeforlikes...</td>\n",
       "      <td>2021-03-25</td>\n",
       "    </tr>\n",
       "    <tr>\n",
       "      <th>999</th>\n",
       "      <td>스타벅스 신메뉴 #미드나잇베르가못콜드브루 핑크핑크💓 #카페 #카페탐방 #카페스타그램...</td>\n",
       "      <td>[#미드나잇베르가못콜드브루, #카페, #카페탐방, #카페스타그램, #카페놀이, #카...</td>\n",
       "      <td>2021-03-25</td>\n",
       "    </tr>\n",
       "  </tbody>\n",
       "</table>\n",
       "<p>1000 rows × 3 columns</p>\n",
       "</div>"
      ],
      "text/plain": [
       "                                               content  \\\n",
       "0    3월 부산 핫한 전시회 리스트✅역대급 형형색색 전시회 다모임!!놀러가기 딱 좋은 날...   \n",
       "1    고로나가 지겨워 일본으로 해외여행을 다녀왔습니다.. 근데 이제 해운대에 있는..동해...   \n",
       "2    벚꽃카페🌸작년부터 가고싶었는데 직장인은 벚꽃타이밍에 늘 슬퍼요😭마침 집근처에 벚꽃맛...   \n",
       "3    새 신을 신고 ~👞🎩. 신발 크네.. 김태형처럼 잘 생겼다 ❤️🦕 My handso...   \n",
       "4                                                        \n",
       "..                                                 ...   \n",
       "995                            #부산카페 #부산 #카페추천 #카페       \n",
       "996  🐶덥다!!선물로 받은 생두 드디어 볶았다 기다려랏@barista_hojun ••로스...   \n",
       "997  갑작스런 밤드라이부벚꽃보러 목포!!!!!!!!!!!!!!!!! #셀스타그램#얼스타그...   \n",
       "998  ❤️ #followforfollowback #fashion #likeforlikes...   \n",
       "999  스타벅스 신메뉴 #미드나잇베르가못콜드브루 핑크핑크💓 #카페 #카페탐방 #카페스타그램...   \n",
       "\n",
       "                                               hashtag        date  \n",
       "0    [#부산전시회, #부산여행, #부산핫플, #부산데이트, #부산데이트코스, #부산카페...  2021-03-25  \n",
       "1    [#상생라멘, #상생라멘심야식당, #부산카페, #경이와부산, #경이_해운대구, #경...  2021-03-25  \n",
       "2    [#카페이띠, #벚꽃카페, #부산벚꽃, #부산벚꽃명소, #부산카페, #부산감성카페,...  2021-03-25  \n",
       "3                                                   []  2021-03-25  \n",
       "4                                                   []  2021-03-25  \n",
       "..                                                 ...         ...  \n",
       "995                           [#부산카페, #부산, #카페추천, #카페]  2021-03-25  \n",
       "996                                                 []  2021-03-25  \n",
       "997  [#셀스타그램, #얼스타그램, #selca, #selfie, #데일리, #좋아요, ...  2021-03-25  \n",
       "998  [#followforfollowback, #fashion, #likeforlikes...  2021-03-25  \n",
       "999  [#미드나잇베르가못콜드브루, #카페, #카페탐방, #카페스타그램, #카페놀이, #카...  2021-03-25  \n",
       "\n",
       "[1000 rows x 3 columns]"
      ]
     },
     "execution_count": 13,
     "metadata": {},
     "output_type": "execute_result"
    }
   ],
   "source": [
    "results_df = pd.DataFrame(results)\n",
    "results_df.columns = ['content','hashtag','date']\n",
    "\n",
    "results_df"
   ]
  },
  {
   "cell_type": "code",
   "execution_count": 14,
   "metadata": {},
   "outputs": [],
   "source": [
    "results_df.to_excel('C:/Users/user/Documents/201843240/IBA/파이썬 실습/인스타그램 크롤링/부산카페1000.xlsx')"
   ]
  }
 ],
 "metadata": {
  "kernelspec": {
   "display_name": "Python 3",
   "language": "python",
   "name": "python3"
  },
  "language_info": {
   "codemirror_mode": {
    "name": "ipython",
    "version": 3
   },
   "file_extension": ".py",
   "mimetype": "text/x-python",
   "name": "python",
   "nbconvert_exporter": "python",
   "pygments_lexer": "ipython3",
   "version": "3.8.5"
  }
 },
 "nbformat": 4,
 "nbformat_minor": 4
}
